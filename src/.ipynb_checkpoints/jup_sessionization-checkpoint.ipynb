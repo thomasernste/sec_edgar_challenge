{
 "cells": [
  {
   "cell_type": "markdown",
   "metadata": {},
   "source": [
    "Algorithm:\n",
    "\n",
    "Note: by the end of my code, I will have created 3 dataframes. (1) The original df with the sec visits data, (2) the df containing the ip address and a count for each second for that a site was visited, and (3) the final df containing the 5 columns including (1) the ip address, (1) the datetime of the first webpage request in a single visit, the datetime of the last webpage request in a single visit, the length of time of the session -- these can be just 1 second if there is a single visit, or more -- calculated such that as long as there are 2 seconds or less between each visit you can chain together the site vists and dd up the total seconds as one session, the number of distinct webpage requests during the session in question\n",
    "\n",
    "IP address of the user exactly as found in log.csv\n",
    "date and time of the first webpage request in the session (yyyy-mm-dd hh:mm:ss)\n",
    "date and time of the last webpage request in the session (yyyy-mm-dd hh:mm:ss)\n",
    "duration of the session in seconds\n",
    "count of webpage requests during the session\n",
    "\n",
    "1) Start by reading in pd dataframe containing relevant columns\n",
    "2) put columns in order I want\n",
    "3) the variablle for the inactivity will be read in as an function argument, but if I write it not as a function then I need to read that in to create variable to use in my code to create the final data\n",
    "4) Next, parse original dataframe to create new dataframe containing the five columns as described above, or more briefly as:\n",
    "1) IP address of the user exactly as found in log.csv\n",
    "2) date and time of the first webpage request in the session (yyyy-mm-dd hh:mm:ss)\n",
    "3) date and time of the last webpage request in the session (yyyy-mm-dd hh:mm:ss)\n",
    "4) duration of the session in seconds\n",
    "5) count of webpage requests during the session\n",
    "\n",
    " -- To accomplish # 4 in the algorithm, we need to do the following:\n",
    " A) Pass through original df once to find all ip addresses that started sessions in the first second\n",
    "     i) put those into the second df\n",
    "  &&& QUESTION: What's the best way to add new data to a dataframe such that we are ex\n",
    " B) Q"
   ]
  },
  {
   "cell_type": "code",
   "execution_count": 1,
   "metadata": {},
   "outputs": [
    {
     "name": "stdout",
     "output_type": "stream",
     "text": [
      "                ip           date_time        cik             accession  \\\n",
      "0   101.81.133.jja 2017-06-30 00:00:00  1608552.0  0001047469-17-004337   \n",
      "1    107.23.85.jfd 2017-06-30 00:00:00  1027281.0  0000898430-02-001167   \n",
      "2    107.23.85.jfd 2017-06-30 00:00:00  1136894.0  0000905148-07-003827   \n",
      "3    107.23.85.jfd 2017-06-30 00:00:01   841535.0  0000841535-98-000002   \n",
      "4    108.91.91.hbc 2017-06-30 00:00:01  1295391.0  0001209784-17-000052   \n",
      "5  106.120.173.jie 2017-06-30 00:00:02  1470683.0  0001144204-14-046448   \n",
      "6  107.178.195.aag 2017-06-30 00:00:02  1068124.0  0000350001-15-000854   \n",
      "7    107.23.85.jfd 2017-06-30 00:00:03   842814.0  0000842814-98-000001   \n",
      "8  107.178.195.aag 2017-06-30 00:00:04  1068124.0  0000350001-15-000731   \n",
      "9    108.91.91.hbc 2017-06-30 00:00:04  1618174.0  0001140361-17-026711   \n",
      "\n",
      "          extention  \n",
      "0        -index.htm  \n",
      "1        -index.htm  \n",
      "2        -index.htm  \n",
      "3       -index.html  \n",
      "4              .txt  \n",
      "5  v385454_20fa.htm  \n",
      "6         -xbrl.zip  \n",
      "7       -index.html  \n",
      "8         -xbrl.zip  \n",
      "9              .txt  \n"
     ]
    }
   ],
   "source": [
    "import pandas as pd\n",
    "import numpy as np\n",
    "import datetime, time\n",
    "\n",
    "# def parse_sec_edgar_data(input_donor_data, output_donor_data):\n",
    "\n",
    "def parse_sec_edgar_data(input_data_csv, inactivity_period_file, output_data_csv):\n",
    "    \n",
    "    input_sec_dataframe = pd.read_csv(input_data_csv, sep=',', header='infer', usecols=['ip', 'date', 'time', 'cik', 'accession', 'extention'], dtype={'ip':np.str, 'cik':np.str, 'accession':np.str, 'extention':np.str}, parse_dates=[['date', 'time']]) #, dropna(subset = ['CMTE_ID', 'NAME', 'ZIP_CODE', 'TRANSACTION_DT', 'TRANSACTION_AMT'] #Reads in file, specifies ',' as separator, infers that there is a header in the input file that should be preserved, selects only the 6 columns that are relevant to my analysis, reads these 6 columns as appropriate data types; reads the date and time columns as date_time types and combines them into a single column that allows for identifying and ordering each row on a time series,  ????? drops null values from a subset of columns, but not the 'OTHER_ID' column where we want to keep all null values\n",
    "\n",
    "    input_sec_dataframe=input_sec_dataframe.reindex(columns=['ip', 'date_time', 'cik', 'accession', 'extention']) #Changes order of columns, putting columns into my desired order\n",
    "    \n",
    "    inactivity_text = pd.read_csv('../input/inactivity_period.txt') # replace file name with inactivity_period_file\n",
    "    for row in inactivity_text:\n",
    "        inactivity_value = row\n",
    "    \n",
    "    #input_sec_dataframe = input_sec_dataframe.sort_values(by=['ip', 'date_time'])\n",
    "#     sec_list = input_sec_dataframe.values.tolist()\n",
    "#     print(input_sec_dataframe)\n",
    "\n",
    "# #     input_sec_dataframe['date_time']\n",
    "    \n",
    "    \n",
    "# #     input_sec_dataframe['start_time'] = input_sec_dataframe['date_time']\n",
    "    \n",
    "\n",
    "# #     for num, base_cell in enumerate(df_sec_edgar_data['date_time']):\n",
    "# #         if\n",
    "        \n",
    "# #     for i in range(len(df_sec_edgar_data['date_time'])):\n",
    "# #         for cell in df_sec_edgar_data['date_time']:\n",
    "# #             if cell == i:\n",
    "# #                 sec_edgar_data['0'] = i\n",
    "    \n",
    "# #         for start_cell in input_sec_dataframe:\n",
    "# #             if base_cell['ip']\n",
    "            \n",
    "    \n",
    "# # #     for cell in input_sec_dataframe['datetime']:\n",
    "# # #         if \n",
    "    \n",
    "#     #input_sec_dataframe['user_and_site_id'] = input_sec_dataframe.groupby(['ip', 'cik', 'accession', 'extention'])\n",
    "#     input_sec_dataframe.to_csv(output_data_csv, sep=',', header='infer', index=False) #Writes dataframe to csv file '??????????.txt' with the correct ',' separator. Also, to match the desired format, this line ??????? the headers and the index column.\n",
    "#     return sec_list\n",
    "    return input_sec_dataframe\n",
    "    \n",
    " \n",
    "df_sec_edgar_data = parse_sec_edgar_data('../input/log.csv', '../input/inactivity_period.txt', '../output/sessionization.txt')\n",
    "print(df_sec_edgar_data)"
   ]
  },
  {
   "cell_type": "code",
   "execution_count": 2,
   "metadata": {},
   "outputs": [
    {
     "data": {
      "text/html": [
       "<div>\n",
       "<style scoped>\n",
       "    .dataframe tbody tr th:only-of-type {\n",
       "        vertical-align: middle;\n",
       "    }\n",
       "\n",
       "    .dataframe tbody tr th {\n",
       "        vertical-align: top;\n",
       "    }\n",
       "\n",
       "    .dataframe thead th {\n",
       "        text-align: right;\n",
       "    }\n",
       "</style>\n",
       "<table border=\"1\" class=\"dataframe\">\n",
       "  <thead>\n",
       "    <tr style=\"text-align: right;\">\n",
       "      <th></th>\n",
       "      <th>ip</th>\n",
       "      <th>date_time</th>\n",
       "      <th>cik</th>\n",
       "      <th>accession</th>\n",
       "      <th>extention</th>\n",
       "      <th>unique_id</th>\n",
       "    </tr>\n",
       "  </thead>\n",
       "  <tbody>\n",
       "    <tr>\n",
       "      <th>0</th>\n",
       "      <td>101.81.133.jja</td>\n",
       "      <td>2017-06-30 00:00:00</td>\n",
       "      <td>1608552.0</td>\n",
       "      <td>0001047469-17-004337</td>\n",
       "      <td>-index.htm</td>\n",
       "      <td>1608552.0|0001047469-17-004337|-index.htm</td>\n",
       "    </tr>\n",
       "    <tr>\n",
       "      <th>1</th>\n",
       "      <td>107.23.85.jfd</td>\n",
       "      <td>2017-06-30 00:00:00</td>\n",
       "      <td>1027281.0</td>\n",
       "      <td>0000898430-02-001167</td>\n",
       "      <td>-index.htm</td>\n",
       "      <td>1027281.0|0000898430-02-001167|-index.htm</td>\n",
       "    </tr>\n",
       "    <tr>\n",
       "      <th>2</th>\n",
       "      <td>107.23.85.jfd</td>\n",
       "      <td>2017-06-30 00:00:00</td>\n",
       "      <td>1136894.0</td>\n",
       "      <td>0000905148-07-003827</td>\n",
       "      <td>-index.htm</td>\n",
       "      <td>1136894.0|0000905148-07-003827|-index.htm</td>\n",
       "    </tr>\n",
       "    <tr>\n",
       "      <th>3</th>\n",
       "      <td>107.23.85.jfd</td>\n",
       "      <td>2017-06-30 00:00:01</td>\n",
       "      <td>841535.0</td>\n",
       "      <td>0000841535-98-000002</td>\n",
       "      <td>-index.html</td>\n",
       "      <td>841535.0|0000841535-98-000002|-index.html</td>\n",
       "    </tr>\n",
       "    <tr>\n",
       "      <th>4</th>\n",
       "      <td>108.91.91.hbc</td>\n",
       "      <td>2017-06-30 00:00:01</td>\n",
       "      <td>1295391.0</td>\n",
       "      <td>0001209784-17-000052</td>\n",
       "      <td>.txt</td>\n",
       "      <td>1295391.0|0001209784-17-000052|.txt</td>\n",
       "    </tr>\n",
       "    <tr>\n",
       "      <th>5</th>\n",
       "      <td>106.120.173.jie</td>\n",
       "      <td>2017-06-30 00:00:02</td>\n",
       "      <td>1470683.0</td>\n",
       "      <td>0001144204-14-046448</td>\n",
       "      <td>v385454_20fa.htm</td>\n",
       "      <td>1470683.0|0001144204-14-046448|v385454_20fa.htm</td>\n",
       "    </tr>\n",
       "    <tr>\n",
       "      <th>6</th>\n",
       "      <td>107.178.195.aag</td>\n",
       "      <td>2017-06-30 00:00:02</td>\n",
       "      <td>1068124.0</td>\n",
       "      <td>0000350001-15-000854</td>\n",
       "      <td>-xbrl.zip</td>\n",
       "      <td>1068124.0|0000350001-15-000854|-xbrl.zip</td>\n",
       "    </tr>\n",
       "    <tr>\n",
       "      <th>7</th>\n",
       "      <td>107.23.85.jfd</td>\n",
       "      <td>2017-06-30 00:00:03</td>\n",
       "      <td>842814.0</td>\n",
       "      <td>0000842814-98-000001</td>\n",
       "      <td>-index.html</td>\n",
       "      <td>842814.0|0000842814-98-000001|-index.html</td>\n",
       "    </tr>\n",
       "    <tr>\n",
       "      <th>8</th>\n",
       "      <td>107.178.195.aag</td>\n",
       "      <td>2017-06-30 00:00:04</td>\n",
       "      <td>1068124.0</td>\n",
       "      <td>0000350001-15-000731</td>\n",
       "      <td>-xbrl.zip</td>\n",
       "      <td>1068124.0|0000350001-15-000731|-xbrl.zip</td>\n",
       "    </tr>\n",
       "    <tr>\n",
       "      <th>9</th>\n",
       "      <td>108.91.91.hbc</td>\n",
       "      <td>2017-06-30 00:00:04</td>\n",
       "      <td>1618174.0</td>\n",
       "      <td>0001140361-17-026711</td>\n",
       "      <td>.txt</td>\n",
       "      <td>1618174.0|0001140361-17-026711|.txt</td>\n",
       "    </tr>\n",
       "  </tbody>\n",
       "</table>\n",
       "</div>"
      ],
      "text/plain": [
       "                ip           date_time        cik             accession  \\\n",
       "0   101.81.133.jja 2017-06-30 00:00:00  1608552.0  0001047469-17-004337   \n",
       "1    107.23.85.jfd 2017-06-30 00:00:00  1027281.0  0000898430-02-001167   \n",
       "2    107.23.85.jfd 2017-06-30 00:00:00  1136894.0  0000905148-07-003827   \n",
       "3    107.23.85.jfd 2017-06-30 00:00:01   841535.0  0000841535-98-000002   \n",
       "4    108.91.91.hbc 2017-06-30 00:00:01  1295391.0  0001209784-17-000052   \n",
       "5  106.120.173.jie 2017-06-30 00:00:02  1470683.0  0001144204-14-046448   \n",
       "6  107.178.195.aag 2017-06-30 00:00:02  1068124.0  0000350001-15-000854   \n",
       "7    107.23.85.jfd 2017-06-30 00:00:03   842814.0  0000842814-98-000001   \n",
       "8  107.178.195.aag 2017-06-30 00:00:04  1068124.0  0000350001-15-000731   \n",
       "9    108.91.91.hbc 2017-06-30 00:00:04  1618174.0  0001140361-17-026711   \n",
       "\n",
       "          extention                                        unique_id  \n",
       "0        -index.htm        1608552.0|0001047469-17-004337|-index.htm  \n",
       "1        -index.htm        1027281.0|0000898430-02-001167|-index.htm  \n",
       "2        -index.htm        1136894.0|0000905148-07-003827|-index.htm  \n",
       "3       -index.html        841535.0|0000841535-98-000002|-index.html  \n",
       "4              .txt              1295391.0|0001209784-17-000052|.txt  \n",
       "5  v385454_20fa.htm  1470683.0|0001144204-14-046448|v385454_20fa.htm  \n",
       "6         -xbrl.zip         1068124.0|0000350001-15-000854|-xbrl.zip  \n",
       "7       -index.html        842814.0|0000842814-98-000001|-index.html  \n",
       "8         -xbrl.zip         1068124.0|0000350001-15-000731|-xbrl.zip  \n",
       "9              .txt              1618174.0|0001140361-17-026711|.txt  "
      ]
     },
     "execution_count": 2,
     "metadata": {},
     "output_type": "execute_result"
    }
   ],
   "source": [
    "# df_sec_edgar_data['unique_ip_time'] = df_sec_edgar_data[df_sec_edgar_data.columns[0:2]].apply(lambda x: '|'.join(x.dropna().astype(str)),axis=1)\n",
    "df_sec_edgar_data['unique_id'] = df_sec_edgar_data[df_sec_edgar_data.columns[2:]].apply(lambda x: '|'.join(x.dropna().astype(str)),axis=1)\n",
    "\n",
    "df_sec_edgar_data"
   ]
  },
  {
   "cell_type": "code",
   "execution_count": 3,
   "metadata": {},
   "outputs": [
    {
     "data": {
      "text/html": [
       "<div>\n",
       "<style scoped>\n",
       "    .dataframe tbody tr th:only-of-type {\n",
       "        vertical-align: middle;\n",
       "    }\n",
       "\n",
       "    .dataframe tbody tr th {\n",
       "        vertical-align: top;\n",
       "    }\n",
       "\n",
       "    .dataframe thead th {\n",
       "        text-align: right;\n",
       "    }\n",
       "</style>\n",
       "<table border=\"1\" class=\"dataframe\">\n",
       "  <thead>\n",
       "    <tr style=\"text-align: right;\">\n",
       "      <th></th>\n",
       "      <th>ip</th>\n",
       "      <th>date_time</th>\n",
       "      <th>unique_id</th>\n",
       "    </tr>\n",
       "  </thead>\n",
       "  <tbody>\n",
       "    <tr>\n",
       "      <th>0</th>\n",
       "      <td>101.81.133.jja</td>\n",
       "      <td>2017-06-30 00:00:00</td>\n",
       "      <td>1608552.0|0001047469-17-004337|-index.htm</td>\n",
       "    </tr>\n",
       "    <tr>\n",
       "      <th>1</th>\n",
       "      <td>107.23.85.jfd</td>\n",
       "      <td>2017-06-30 00:00:00</td>\n",
       "      <td>1027281.0|0000898430-02-001167|-index.htm</td>\n",
       "    </tr>\n",
       "    <tr>\n",
       "      <th>2</th>\n",
       "      <td>107.23.85.jfd</td>\n",
       "      <td>2017-06-30 00:00:00</td>\n",
       "      <td>1136894.0|0000905148-07-003827|-index.htm</td>\n",
       "    </tr>\n",
       "    <tr>\n",
       "      <th>3</th>\n",
       "      <td>107.23.85.jfd</td>\n",
       "      <td>2017-06-30 00:00:01</td>\n",
       "      <td>841535.0|0000841535-98-000002|-index.html</td>\n",
       "    </tr>\n",
       "    <tr>\n",
       "      <th>4</th>\n",
       "      <td>108.91.91.hbc</td>\n",
       "      <td>2017-06-30 00:00:01</td>\n",
       "      <td>1295391.0|0001209784-17-000052|.txt</td>\n",
       "    </tr>\n",
       "    <tr>\n",
       "      <th>5</th>\n",
       "      <td>106.120.173.jie</td>\n",
       "      <td>2017-06-30 00:00:02</td>\n",
       "      <td>1470683.0|0001144204-14-046448|v385454_20fa.htm</td>\n",
       "    </tr>\n",
       "    <tr>\n",
       "      <th>6</th>\n",
       "      <td>107.178.195.aag</td>\n",
       "      <td>2017-06-30 00:00:02</td>\n",
       "      <td>1068124.0|0000350001-15-000854|-xbrl.zip</td>\n",
       "    </tr>\n",
       "    <tr>\n",
       "      <th>7</th>\n",
       "      <td>107.23.85.jfd</td>\n",
       "      <td>2017-06-30 00:00:03</td>\n",
       "      <td>842814.0|0000842814-98-000001|-index.html</td>\n",
       "    </tr>\n",
       "    <tr>\n",
       "      <th>8</th>\n",
       "      <td>107.178.195.aag</td>\n",
       "      <td>2017-06-30 00:00:04</td>\n",
       "      <td>1068124.0|0000350001-15-000731|-xbrl.zip</td>\n",
       "    </tr>\n",
       "    <tr>\n",
       "      <th>9</th>\n",
       "      <td>108.91.91.hbc</td>\n",
       "      <td>2017-06-30 00:00:04</td>\n",
       "      <td>1618174.0|0001140361-17-026711|.txt</td>\n",
       "    </tr>\n",
       "  </tbody>\n",
       "</table>\n",
       "</div>"
      ],
      "text/plain": [
       "                ip           date_time  \\\n",
       "0   101.81.133.jja 2017-06-30 00:00:00   \n",
       "1    107.23.85.jfd 2017-06-30 00:00:00   \n",
       "2    107.23.85.jfd 2017-06-30 00:00:00   \n",
       "3    107.23.85.jfd 2017-06-30 00:00:01   \n",
       "4    108.91.91.hbc 2017-06-30 00:00:01   \n",
       "5  106.120.173.jie 2017-06-30 00:00:02   \n",
       "6  107.178.195.aag 2017-06-30 00:00:02   \n",
       "7    107.23.85.jfd 2017-06-30 00:00:03   \n",
       "8  107.178.195.aag 2017-06-30 00:00:04   \n",
       "9    108.91.91.hbc 2017-06-30 00:00:04   \n",
       "\n",
       "                                         unique_id  \n",
       "0        1608552.0|0001047469-17-004337|-index.htm  \n",
       "1        1027281.0|0000898430-02-001167|-index.htm  \n",
       "2        1136894.0|0000905148-07-003827|-index.htm  \n",
       "3        841535.0|0000841535-98-000002|-index.html  \n",
       "4              1295391.0|0001209784-17-000052|.txt  \n",
       "5  1470683.0|0001144204-14-046448|v385454_20fa.htm  \n",
       "6         1068124.0|0000350001-15-000854|-xbrl.zip  \n",
       "7        842814.0|0000842814-98-000001|-index.html  \n",
       "8         1068124.0|0000350001-15-000731|-xbrl.zip  \n",
       "9              1618174.0|0001140361-17-026711|.txt  "
      ]
     },
     "execution_count": 3,
     "metadata": {},
     "output_type": "execute_result"
    }
   ],
   "source": [
    "df_sec_edgar_data.drop(['cik', 'accession', 'extention'], axis=1, inplace=True)\n",
    "df_sec_edgar_data"
   ]
  },
  {
   "cell_type": "code",
   "execution_count": 7,
   "metadata": {},
   "outputs": [],
   "source": [
    "df_sec_edgar_data['number_of_visits'] = 1\n",
    "df_sec_edgar_data['duration'] = 1\n"
   ]
  },
  {
   "cell_type": "code",
   "execution_count": 15,
   "metadata": {},
   "outputs": [
    {
     "data": {
      "text/plain": [
       "2     True\n",
       "3     True\n",
       "4    False\n",
       "5    False\n",
       "6    False\n",
       "7     True\n",
       "8    False\n",
       "9    False\n",
       "Name: ip, dtype: bool"
      ]
     },
     "execution_count": 15,
     "metadata": {},
     "output_type": "execute_result"
    }
   ],
   "source": [
    "df_sec_edgar_data['ip'].iloc[1] == df_sec_edgar_data['ip'].iloc[1+1:]"
   ]
  },
  {
   "cell_type": "code",
   "execution_count": 9,
   "metadata": {},
   "outputs": [
    {
     "data": {
      "text/html": [
       "<div>\n",
       "<style scoped>\n",
       "    .dataframe tbody tr th:only-of-type {\n",
       "        vertical-align: middle;\n",
       "    }\n",
       "\n",
       "    .dataframe tbody tr th {\n",
       "        vertical-align: top;\n",
       "    }\n",
       "\n",
       "    .dataframe thead th {\n",
       "        text-align: right;\n",
       "    }\n",
       "</style>\n",
       "<table border=\"1\" class=\"dataframe\">\n",
       "  <thead>\n",
       "    <tr style=\"text-align: right;\">\n",
       "      <th></th>\n",
       "      <th>ip</th>\n",
       "      <th>date_time</th>\n",
       "      <th>unique_id</th>\n",
       "      <th>number_of_visits</th>\n",
       "      <th>duration</th>\n",
       "    </tr>\n",
       "  </thead>\n",
       "  <tbody>\n",
       "    <tr>\n",
       "      <th>0</th>\n",
       "      <td>101.81.133.jja</td>\n",
       "      <td>2017-06-30 00:00:00</td>\n",
       "      <td>1608552.0|0001047469-17-004337|-index.htm</td>\n",
       "      <td>1</td>\n",
       "      <td>1</td>\n",
       "    </tr>\n",
       "    <tr>\n",
       "      <th>1</th>\n",
       "      <td>107.23.85.jfd</td>\n",
       "      <td>2017-06-30 00:00:00</td>\n",
       "      <td>1027281.0|0000898430-02-001167|-index.htm</td>\n",
       "      <td>1</td>\n",
       "      <td>1</td>\n",
       "    </tr>\n",
       "    <tr>\n",
       "      <th>2</th>\n",
       "      <td>107.23.85.jfd</td>\n",
       "      <td>2017-06-30 00:00:00</td>\n",
       "      <td>1136894.0|0000905148-07-003827|-index.htm</td>\n",
       "      <td>1</td>\n",
       "      <td>1</td>\n",
       "    </tr>\n",
       "    <tr>\n",
       "      <th>3</th>\n",
       "      <td>107.23.85.jfd</td>\n",
       "      <td>2017-06-30 00:00:01</td>\n",
       "      <td>841535.0|0000841535-98-000002|-index.html</td>\n",
       "      <td>1</td>\n",
       "      <td>1</td>\n",
       "    </tr>\n",
       "    <tr>\n",
       "      <th>4</th>\n",
       "      <td>108.91.91.hbc</td>\n",
       "      <td>2017-06-30 00:00:01</td>\n",
       "      <td>1295391.0|0001209784-17-000052|.txt</td>\n",
       "      <td>1</td>\n",
       "      <td>1</td>\n",
       "    </tr>\n",
       "    <tr>\n",
       "      <th>5</th>\n",
       "      <td>106.120.173.jie</td>\n",
       "      <td>2017-06-30 00:00:02</td>\n",
       "      <td>1470683.0|0001144204-14-046448|v385454_20fa.htm</td>\n",
       "      <td>1</td>\n",
       "      <td>1</td>\n",
       "    </tr>\n",
       "    <tr>\n",
       "      <th>6</th>\n",
       "      <td>107.178.195.aag</td>\n",
       "      <td>2017-06-30 00:00:02</td>\n",
       "      <td>1068124.0|0000350001-15-000854|-xbrl.zip</td>\n",
       "      <td>1</td>\n",
       "      <td>1</td>\n",
       "    </tr>\n",
       "    <tr>\n",
       "      <th>7</th>\n",
       "      <td>107.23.85.jfd</td>\n",
       "      <td>2017-06-30 00:00:03</td>\n",
       "      <td>842814.0|0000842814-98-000001|-index.html</td>\n",
       "      <td>1</td>\n",
       "      <td>1</td>\n",
       "    </tr>\n",
       "    <tr>\n",
       "      <th>8</th>\n",
       "      <td>107.178.195.aag</td>\n",
       "      <td>2017-06-30 00:00:04</td>\n",
       "      <td>1068124.0|0000350001-15-000731|-xbrl.zip</td>\n",
       "      <td>1</td>\n",
       "      <td>1</td>\n",
       "    </tr>\n",
       "    <tr>\n",
       "      <th>9</th>\n",
       "      <td>108.91.91.hbc</td>\n",
       "      <td>2017-06-30 00:00:04</td>\n",
       "      <td>1618174.0|0001140361-17-026711|.txt</td>\n",
       "      <td>1</td>\n",
       "      <td>1</td>\n",
       "    </tr>\n",
       "  </tbody>\n",
       "</table>\n",
       "</div>"
      ],
      "text/plain": [
       "                ip           date_time  \\\n",
       "0   101.81.133.jja 2017-06-30 00:00:00   \n",
       "1    107.23.85.jfd 2017-06-30 00:00:00   \n",
       "2    107.23.85.jfd 2017-06-30 00:00:00   \n",
       "3    107.23.85.jfd 2017-06-30 00:00:01   \n",
       "4    108.91.91.hbc 2017-06-30 00:00:01   \n",
       "5  106.120.173.jie 2017-06-30 00:00:02   \n",
       "6  107.178.195.aag 2017-06-30 00:00:02   \n",
       "7    107.23.85.jfd 2017-06-30 00:00:03   \n",
       "8  107.178.195.aag 2017-06-30 00:00:04   \n",
       "9    108.91.91.hbc 2017-06-30 00:00:04   \n",
       "\n",
       "                                         unique_id  number_of_visits  duration  \n",
       "0        1608552.0|0001047469-17-004337|-index.htm                 1         1  \n",
       "1        1027281.0|0000898430-02-001167|-index.htm                 1         1  \n",
       "2        1136894.0|0000905148-07-003827|-index.htm                 1         1  \n",
       "3        841535.0|0000841535-98-000002|-index.html                 1         1  \n",
       "4              1295391.0|0001209784-17-000052|.txt                 1         1  \n",
       "5  1470683.0|0001144204-14-046448|v385454_20fa.htm                 1         1  \n",
       "6         1068124.0|0000350001-15-000854|-xbrl.zip                 1         1  \n",
       "7        842814.0|0000842814-98-000001|-index.html                 1         1  \n",
       "8         1068124.0|0000350001-15-000731|-xbrl.zip                 1         1  \n",
       "9              1618174.0|0001140361-17-026711|.txt                 1         1  "
      ]
     },
     "execution_count": 9,
     "metadata": {},
     "output_type": "execute_result"
    }
   ],
   "source": [
    "for i in range(len(df_sec_edgar_data):\n",
    "            df_sec_edgar_data['ip'][df_sec_edgar_data['ip'].iloc[i] == df_sec_edgar_data['ip'].iloc[idf_sec_edgar_data['date_time'].iloc[i]]\n",
    "df_sec_edgar_data\n",
    "# if ip repeats, and if the difference in one datetime is 2 or less, combine duration rows together\n",
    "# else if ip repeats but if the difference in one datetime is more than 2, do not combine duration rows together"
   ]
  },
  {
   "cell_type": "code",
   "execution_count": 52,
   "metadata": {},
   "outputs": [
    {
     "data": {
      "text/plain": [
       "7    107.23.85.jfd\n",
       "Name: ip, dtype: object"
      ]
     },
     "execution_count": 52,
     "metadata": {},
     "output_type": "execute_result"
    }
   ],
   "source": [
    "df1 = df_sec_edgar_data.groupby(\"ip\",sort=True).sum().reset_index()"
   ]
  },
  {
   "cell_type": "code",
   "execution_count": 11,
   "metadata": {},
   "outputs": [
    {
     "name": "stdout",
     "output_type": "stream",
     "text": [
      "0\n",
      "0\n",
      "0\n",
      "0\n",
      "0\n"
     ]
    },
    {
     "data": {
      "text/html": [
       "<div>\n",
       "<style scoped>\n",
       "    .dataframe tbody tr th:only-of-type {\n",
       "        vertical-align: middle;\n",
       "    }\n",
       "\n",
       "    .dataframe tbody tr th {\n",
       "        vertical-align: top;\n",
       "    }\n",
       "\n",
       "    .dataframe thead th {\n",
       "        text-align: right;\n",
       "    }\n",
       "</style>\n",
       "<table border=\"1\" class=\"dataframe\">\n",
       "  <thead>\n",
       "    <tr style=\"text-align: right;\">\n",
       "      <th></th>\n",
       "      <th>ip</th>\n",
       "      <th>0</th>\n",
       "      <th>1</th>\n",
       "      <th>2</th>\n",
       "      <th>3</th>\n",
       "      <th>4</th>\n",
       "    </tr>\n",
       "  </thead>\n",
       "  <tbody>\n",
       "    <tr>\n",
       "      <th>0</th>\n",
       "      <td>107.178.195.aag</td>\n",
       "      <td>0.0</td>\n",
       "      <td>0.0</td>\n",
       "      <td>0.0</td>\n",
       "      <td>0.0</td>\n",
       "      <td>1</td>\n",
       "    </tr>\n",
       "    <tr>\n",
       "      <th>1</th>\n",
       "      <td>108.91.91.hbc</td>\n",
       "      <td>0.0</td>\n",
       "      <td>0.0</td>\n",
       "      <td>0.0</td>\n",
       "      <td>0.0</td>\n",
       "      <td>1</td>\n",
       "    </tr>\n",
       "  </tbody>\n",
       "</table>\n",
       "</div>"
      ],
      "text/plain": [
       "                ip    0    1    2    3  4\n",
       "0  107.178.195.aag  0.0  0.0  0.0  0.0  1\n",
       "1    108.91.91.hbc  0.0  0.0  0.0  0.0  1"
      ]
     },
     "execution_count": 11,
     "metadata": {},
     "output_type": "execute_result"
    }
   ],
   "source": [
    "\n",
    "\n",
    "df1 = pd.DataFrame()\n",
    "df2 = pd.DataFrame()\n",
    "counter = 0\n",
    "for i in range((df_sec_edgar_data['date_time'].iloc[-1] - df_sec_edgar_data['date_time'].iloc[0]).seconds+1):\n",
    "    \n",
    "    if counter == 0: # This loop, which iterates only once, creates the initial dataframe for the zero-time visits to the SEC website\n",
    "        counter += 1\n",
    "        df1['ip'] = df_sec_edgar_data['ip'][df_sec_edgar_data['date_time'] == df_sec_edgar_data['date_time'].iloc[0] + datetime.timedelta(seconds=0)]\n",
    "        df1[i] = 1\n",
    "        #print('df1 here {}'.format(df1))\n",
    "        df1 = df1.groupby(\"ip\",sort=True).sum().reset_index()\n",
    "#         print(df1)\n",
    "    else:\n",
    "\n",
    "#     new1_df = pd.DataFrame()\n",
    "        counter+=1\n",
    "        print(counter)\n",
    "        df2['ip'] = df_sec_edgar_data['ip'][df_sec_edgar_data['date_time'] == df_sec_edgar_data['date_time'].iloc[0] + datetime.timedelta(seconds=i)]\n",
    "        df2[i] = 1\n",
    "        #print('df2 here{}'.format(df2))\n",
    "        df2 = df2.groupby(\"ip\",sort=True).sum().reset_index()\n",
    "#         print(df2)\n",
    "\n",
    "        df1 = pd.merge(df1, df2, 'outer').copy()\n",
    "df1"
   ]
  },
  {
   "cell_type": "code",
   "execution_count": 15,
   "metadata": {},
   "outputs": [
    {
     "data": {
      "text/plain": [
       "5"
      ]
     },
     "execution_count": 15,
     "metadata": {},
     "output_type": "execute_result"
    }
   ],
   "source": [
    "(df_sec_edgar_data['date_time'].iloc[-1] - df_sec_edgar_data['date_time'].iloc[0]).seconds+1"
   ]
  },
  {
   "cell_type": "markdown",
   "metadata": {},
   "source": [
    "## new_df = pd.DataFrame()\n",
    "\n",
    "new_df['ip'] = df_sec_edgar_data['ip'][df_sec_edgar_data['date_time'] == df_sec_edgar_data['date_time'].iloc[0]]\n",
    "new_df['0 seconds'] = 1\n",
    "new_df = new_df.groupby(\"ip\",sort=True).sum().reset_index()\n",
    "\n",
    "\n",
    "new_df"
   ]
  },
  {
   "cell_type": "code",
   "execution_count": 5,
   "metadata": {},
   "outputs": [
    {
     "name": "stderr",
     "output_type": "stream",
     "text": [
      "/home/tommy/anaconda3/lib/python3.6/site-packages/ipykernel_launcher.py:10: FutureWarning: Sorting because non-concatenation axis is not aligned. A future version\n",
      "of pandas will change to not sort by default.\n",
      "\n",
      "To accept the future behavior, pass 'sort=True'.\n",
      "\n",
      "To retain the current behavior and silence the warning, pass sort=False\n",
      "\n",
      "  # Remove the CWD from sys.path while we load stuff.\n"
     ]
    },
    {
     "data": {
      "text/html": [
       "<div>\n",
       "<style scoped>\n",
       "    .dataframe tbody tr th:only-of-type {\n",
       "        vertical-align: middle;\n",
       "    }\n",
       "\n",
       "    .dataframe tbody tr th {\n",
       "        vertical-align: top;\n",
       "    }\n",
       "\n",
       "    .dataframe thead th {\n",
       "        text-align: right;\n",
       "    }\n",
       "</style>\n",
       "<table border=\"1\" class=\"dataframe\">\n",
       "  <thead>\n",
       "    <tr style=\"text-align: right;\">\n",
       "      <th></th>\n",
       "      <th>ip</th>\n",
       "      <th>0</th>\n",
       "      <th>1</th>\n",
       "      <th>2</th>\n",
       "      <th>3</th>\n",
       "      <th>4</th>\n",
       "    </tr>\n",
       "  </thead>\n",
       "  <tbody>\n",
       "    <tr>\n",
       "      <th>0</th>\n",
       "      <td>101.81.133.jja</td>\n",
       "      <td>1</td>\n",
       "      <td>1.0</td>\n",
       "      <td>1.0</td>\n",
       "      <td>1.0</td>\n",
       "      <td>1.0</td>\n",
       "    </tr>\n",
       "    <tr>\n",
       "      <th>1</th>\n",
       "      <td>107.23.85.jfd</td>\n",
       "      <td>2</td>\n",
       "      <td>1.0</td>\n",
       "      <td>1.0</td>\n",
       "      <td>1.0</td>\n",
       "      <td>1.0</td>\n",
       "    </tr>\n",
       "    <tr>\n",
       "      <th>0</th>\n",
       "      <td>101.81.133.jja</td>\n",
       "      <td>1</td>\n",
       "      <td>1.0</td>\n",
       "      <td>1.0</td>\n",
       "      <td>1.0</td>\n",
       "      <td>NaN</td>\n",
       "    </tr>\n",
       "    <tr>\n",
       "      <th>1</th>\n",
       "      <td>107.23.85.jfd</td>\n",
       "      <td>2</td>\n",
       "      <td>1.0</td>\n",
       "      <td>1.0</td>\n",
       "      <td>1.0</td>\n",
       "      <td>NaN</td>\n",
       "    </tr>\n",
       "    <tr>\n",
       "      <th>0</th>\n",
       "      <td>101.81.133.jja</td>\n",
       "      <td>1</td>\n",
       "      <td>1.0</td>\n",
       "      <td>1.0</td>\n",
       "      <td>NaN</td>\n",
       "      <td>NaN</td>\n",
       "    </tr>\n",
       "    <tr>\n",
       "      <th>1</th>\n",
       "      <td>107.23.85.jfd</td>\n",
       "      <td>2</td>\n",
       "      <td>1.0</td>\n",
       "      <td>1.0</td>\n",
       "      <td>NaN</td>\n",
       "      <td>NaN</td>\n",
       "    </tr>\n",
       "    <tr>\n",
       "      <th>0</th>\n",
       "      <td>101.81.133.jja</td>\n",
       "      <td>1</td>\n",
       "      <td>1.0</td>\n",
       "      <td>NaN</td>\n",
       "      <td>NaN</td>\n",
       "      <td>NaN</td>\n",
       "    </tr>\n",
       "    <tr>\n",
       "      <th>1</th>\n",
       "      <td>107.23.85.jfd</td>\n",
       "      <td>2</td>\n",
       "      <td>1.0</td>\n",
       "      <td>NaN</td>\n",
       "      <td>NaN</td>\n",
       "      <td>NaN</td>\n",
       "    </tr>\n",
       "    <tr>\n",
       "      <th>0</th>\n",
       "      <td>101.81.133.jja</td>\n",
       "      <td>1</td>\n",
       "      <td>NaN</td>\n",
       "      <td>NaN</td>\n",
       "      <td>NaN</td>\n",
       "      <td>NaN</td>\n",
       "    </tr>\n",
       "    <tr>\n",
       "      <th>1</th>\n",
       "      <td>107.23.85.jfd</td>\n",
       "      <td>2</td>\n",
       "      <td>NaN</td>\n",
       "      <td>NaN</td>\n",
       "      <td>NaN</td>\n",
       "      <td>NaN</td>\n",
       "    </tr>\n",
       "  </tbody>\n",
       "</table>\n",
       "</div>"
      ],
      "text/plain": [
       "               ip  0    1    2    3    4\n",
       "0  101.81.133.jja  1  1.0  1.0  1.0  1.0\n",
       "1   107.23.85.jfd  2  1.0  1.0  1.0  1.0\n",
       "0  101.81.133.jja  1  1.0  1.0  1.0  NaN\n",
       "1   107.23.85.jfd  2  1.0  1.0  1.0  NaN\n",
       "0  101.81.133.jja  1  1.0  1.0  NaN  NaN\n",
       "1   107.23.85.jfd  2  1.0  1.0  NaN  NaN\n",
       "0  101.81.133.jja  1  1.0  NaN  NaN  NaN\n",
       "1   107.23.85.jfd  2  1.0  NaN  NaN  NaN\n",
       "0  101.81.133.jja  1  NaN  NaN  NaN  NaN\n",
       "1   107.23.85.jfd  2  NaN  NaN  NaN  NaN"
      ]
     },
     "execution_count": 5,
     "metadata": {},
     "output_type": "execute_result"
    }
   ],
   "source": [
    "df1 = pd.DataFrame()\n",
    "df2 = pd.DataFrame()\n",
    "counter = 0\n",
    "for i in range((df_sec_edgar_data['date_time'].iloc[-1] - df_sec_edgar_data['date_time'].iloc[0]).seconds+1):\n",
    "\n",
    "    df1['ip'] = df_sec_edgar_data['ip'][df_sec_edgar_data['date_time'] == df_sec_edgar_data['date_time'].iloc[0] + datetime.timedelta(seconds=0)]\n",
    "    df1[i] = 1\n",
    "    #print('df1 here {}'.format(df1))\n",
    "    df1 = df1.groupby(\"ip\",sort=True).sum().reset_index()\n",
    "    df2 = pd.concat([df1, df2])\n",
    "    \n",
    "\n",
    "df2"
   ]
  },
  {
   "cell_type": "code",
   "execution_count": 33,
   "metadata": {},
   "outputs": [
    {
     "name": "stdout",
     "output_type": "stream",
     "text": [
      "               ip  0\n",
      "0  101.81.133.jja  1\n",
      "1   107.23.85.jfd  2\n",
      "                ip  1\n",
      "0  106.120.173.jie  1\n",
      "1  107.178.195.aag  1\n",
      "Empty DataFrame\n",
      "Columns: [ip, 1, 2]\n",
      "Index: []\n",
      "                ip    1    2  3\n",
      "0  107.178.195.aag  0.0  0.0  1\n",
      "1    108.91.91.hbc  0.0  0.0  1\n",
      "Empty DataFrame\n",
      "Columns: [ip, 1, 2, 3, 4]\n",
      "Index: []\n"
     ]
    },
    {
     "data": {
      "text/html": [
       "<div>\n",
       "<style scoped>\n",
       "    .dataframe tbody tr th:only-of-type {\n",
       "        vertical-align: middle;\n",
       "    }\n",
       "\n",
       "    .dataframe tbody tr th {\n",
       "        vertical-align: top;\n",
       "    }\n",
       "\n",
       "    .dataframe thead th {\n",
       "        text-align: right;\n",
       "    }\n",
       "</style>\n",
       "<table border=\"1\" class=\"dataframe\">\n",
       "  <thead>\n",
       "    <tr style=\"text-align: right;\">\n",
       "      <th></th>\n",
       "      <th>ip</th>\n",
       "      <th>0</th>\n",
       "      <th>1</th>\n",
       "      <th>2</th>\n",
       "      <th>3</th>\n",
       "      <th>4</th>\n",
       "    </tr>\n",
       "  </thead>\n",
       "  <tbody>\n",
       "    <tr>\n",
       "      <th>0</th>\n",
       "      <td>101.81.133.jja</td>\n",
       "      <td>1.0</td>\n",
       "      <td>NaN</td>\n",
       "      <td>NaN</td>\n",
       "      <td>NaN</td>\n",
       "      <td>NaN</td>\n",
       "    </tr>\n",
       "    <tr>\n",
       "      <th>1</th>\n",
       "      <td>107.23.85.jfd</td>\n",
       "      <td>2.0</td>\n",
       "      <td>NaN</td>\n",
       "      <td>NaN</td>\n",
       "      <td>NaN</td>\n",
       "      <td>NaN</td>\n",
       "    </tr>\n",
       "    <tr>\n",
       "      <th>2</th>\n",
       "      <td>106.120.173.jie</td>\n",
       "      <td>NaN</td>\n",
       "      <td>1.0</td>\n",
       "      <td>NaN</td>\n",
       "      <td>NaN</td>\n",
       "      <td>NaN</td>\n",
       "    </tr>\n",
       "    <tr>\n",
       "      <th>3</th>\n",
       "      <td>107.178.195.aag</td>\n",
       "      <td>NaN</td>\n",
       "      <td>1.0</td>\n",
       "      <td>NaN</td>\n",
       "      <td>NaN</td>\n",
       "      <td>NaN</td>\n",
       "    </tr>\n",
       "    <tr>\n",
       "      <th>4</th>\n",
       "      <td>107.178.195.aag</td>\n",
       "      <td>NaN</td>\n",
       "      <td>0.0</td>\n",
       "      <td>0.0</td>\n",
       "      <td>1.0</td>\n",
       "      <td>NaN</td>\n",
       "    </tr>\n",
       "    <tr>\n",
       "      <th>5</th>\n",
       "      <td>108.91.91.hbc</td>\n",
       "      <td>NaN</td>\n",
       "      <td>0.0</td>\n",
       "      <td>0.0</td>\n",
       "      <td>1.0</td>\n",
       "      <td>NaN</td>\n",
       "    </tr>\n",
       "  </tbody>\n",
       "</table>\n",
       "</div>"
      ],
      "text/plain": [
       "                ip    0    1    2    3   4\n",
       "0   101.81.133.jja  1.0  NaN  NaN  NaN NaN\n",
       "1    107.23.85.jfd  2.0  NaN  NaN  NaN NaN\n",
       "2  106.120.173.jie  NaN  1.0  NaN  NaN NaN\n",
       "3  107.178.195.aag  NaN  1.0  NaN  NaN NaN\n",
       "4  107.178.195.aag  NaN  0.0  0.0  1.0 NaN\n",
       "5    108.91.91.hbc  NaN  0.0  0.0  1.0 NaN"
      ]
     },
     "execution_count": 33,
     "metadata": {},
     "output_type": "execute_result"
    }
   ],
   "source": [
    "df1 = pd.DataFrame()\n",
    "df2 = pd.DataFrame()\n",
    "counter = 0\n",
    "for i in range((df_sec_edgar_data['date_time'].iloc[-1] - df_sec_edgar_data['date_time'].iloc[0]).seconds + 1):\n",
    "    counter += 1\n",
    "    if counter == 1:\n",
    "        df1['ip'] = df_sec_edgar_data['ip'][df_sec_edgar_data['date_time'] == df_sec_edgar_data['date_time'].iloc[0] + datetime.timedelta(seconds=0)]\n",
    "        df1[i] = 1\n",
    "        #print('df1 here {}'.format(df1))\n",
    "        df1 = df1.groupby(\"ip\",sort=True).sum().reset_index()\n",
    "        print(df1)\n",
    "    else:\n",
    "\n",
    "#     new1_df = pd.DataFrame()\n",
    "        df2['ip'] = df_sec_edgar_data['ip'][df_sec_edgar_data['date_time'] == df_sec_edgar_data['date_time'].iloc[0] + datetime.timedelta(seconds=i+1)]\n",
    "        df2[i] = 1\n",
    "        \n",
    "        #print('df2 here{}'.format(df2))\n",
    "        df2 = df2.groupby(\"ip\",sort=True).sum().reset_index()\n",
    "        print(df2)\n",
    "    \n",
    "\n",
    "        df1 = pd.merge(df1, df2, 'outer')\n",
    "#         print(\"this is {}\".format(df2_final))\n",
    "\n",
    "df1"
   ]
  },
  {
   "cell_type": "code",
   "execution_count": 5,
   "metadata": {},
   "outputs": [
    {
     "data": {
      "text/html": [
       "<div>\n",
       "<style scoped>\n",
       "    .dataframe tbody tr th:only-of-type {\n",
       "        vertical-align: middle;\n",
       "    }\n",
       "\n",
       "    .dataframe tbody tr th {\n",
       "        vertical-align: top;\n",
       "    }\n",
       "\n",
       "    .dataframe thead th {\n",
       "        text-align: right;\n",
       "    }\n",
       "</style>\n",
       "<table border=\"1\" class=\"dataframe\">\n",
       "  <thead>\n",
       "    <tr style=\"text-align: right;\">\n",
       "      <th></th>\n",
       "      <th>ip</th>\n",
       "      <th>date_time</th>\n",
       "      <th>unique_id</th>\n",
       "    </tr>\n",
       "  </thead>\n",
       "  <tbody>\n",
       "    <tr>\n",
       "      <th>0</th>\n",
       "      <td>101.81.133.jja</td>\n",
       "      <td>2017-06-30 00:00:00</td>\n",
       "      <td>1608552.0|0001047469-17-004337|-index.htm</td>\n",
       "    </tr>\n",
       "    <tr>\n",
       "      <th>1</th>\n",
       "      <td>107.23.85.jfd</td>\n",
       "      <td>2017-06-30 00:00:00</td>\n",
       "      <td>1027281.0|0000898430-02-001167|-index.htm</td>\n",
       "    </tr>\n",
       "    <tr>\n",
       "      <th>2</th>\n",
       "      <td>107.23.85.jfd</td>\n",
       "      <td>2017-06-30 00:00:00</td>\n",
       "      <td>1136894.0|0000905148-07-003827|-index.htm</td>\n",
       "    </tr>\n",
       "    <tr>\n",
       "      <th>3</th>\n",
       "      <td>107.23.85.jfd</td>\n",
       "      <td>2017-06-30 00:00:01</td>\n",
       "      <td>841535.0|0000841535-98-000002|-index.html</td>\n",
       "    </tr>\n",
       "    <tr>\n",
       "      <th>4</th>\n",
       "      <td>108.91.91.hbc</td>\n",
       "      <td>2017-06-30 00:00:01</td>\n",
       "      <td>1295391.0|0001209784-17-000052|.txt</td>\n",
       "    </tr>\n",
       "    <tr>\n",
       "      <th>5</th>\n",
       "      <td>106.120.173.jie</td>\n",
       "      <td>2017-06-30 00:00:02</td>\n",
       "      <td>1470683.0|0001144204-14-046448|v385454_20fa.htm</td>\n",
       "    </tr>\n",
       "    <tr>\n",
       "      <th>6</th>\n",
       "      <td>107.178.195.aag</td>\n",
       "      <td>2017-06-30 00:00:02</td>\n",
       "      <td>1068124.0|0000350001-15-000854|-xbrl.zip</td>\n",
       "    </tr>\n",
       "    <tr>\n",
       "      <th>7</th>\n",
       "      <td>107.23.85.jfd</td>\n",
       "      <td>2017-06-30 00:00:03</td>\n",
       "      <td>842814.0|0000842814-98-000001|-index.html</td>\n",
       "    </tr>\n",
       "    <tr>\n",
       "      <th>8</th>\n",
       "      <td>107.178.195.aag</td>\n",
       "      <td>2017-06-30 00:00:04</td>\n",
       "      <td>1068124.0|0000350001-15-000731|-xbrl.zip</td>\n",
       "    </tr>\n",
       "    <tr>\n",
       "      <th>9</th>\n",
       "      <td>108.91.91.hbc</td>\n",
       "      <td>2017-06-30 00:00:04</td>\n",
       "      <td>1618174.0|0001140361-17-026711|.txt</td>\n",
       "    </tr>\n",
       "  </tbody>\n",
       "</table>\n",
       "</div>"
      ],
      "text/plain": [
       "                ip           date_time  \\\n",
       "0   101.81.133.jja 2017-06-30 00:00:00   \n",
       "1    107.23.85.jfd 2017-06-30 00:00:00   \n",
       "2    107.23.85.jfd 2017-06-30 00:00:00   \n",
       "3    107.23.85.jfd 2017-06-30 00:00:01   \n",
       "4    108.91.91.hbc 2017-06-30 00:00:01   \n",
       "5  106.120.173.jie 2017-06-30 00:00:02   \n",
       "6  107.178.195.aag 2017-06-30 00:00:02   \n",
       "7    107.23.85.jfd 2017-06-30 00:00:03   \n",
       "8  107.178.195.aag 2017-06-30 00:00:04   \n",
       "9    108.91.91.hbc 2017-06-30 00:00:04   \n",
       "\n",
       "                                         unique_id  \n",
       "0        1608552.0|0001047469-17-004337|-index.htm  \n",
       "1        1027281.0|0000898430-02-001167|-index.htm  \n",
       "2        1136894.0|0000905148-07-003827|-index.htm  \n",
       "3        841535.0|0000841535-98-000002|-index.html  \n",
       "4              1295391.0|0001209784-17-000052|.txt  \n",
       "5  1470683.0|0001144204-14-046448|v385454_20fa.htm  \n",
       "6         1068124.0|0000350001-15-000854|-xbrl.zip  \n",
       "7        842814.0|0000842814-98-000001|-index.html  \n",
       "8         1068124.0|0000350001-15-000731|-xbrl.zip  \n",
       "9              1618174.0|0001140361-17-026711|.txt  "
      ]
     },
     "execution_count": 5,
     "metadata": {},
     "output_type": "execute_result"
    }
   ],
   "source": [
    "df_sec_edgar_data"
   ]
  },
  {
   "cell_type": "code",
   "execution_count": 6,
   "metadata": {},
   "outputs": [
    {
     "data": {
      "text/html": [
       "<div>\n",
       "<style scoped>\n",
       "    .dataframe tbody tr th:only-of-type {\n",
       "        vertical-align: middle;\n",
       "    }\n",
       "\n",
       "    .dataframe tbody tr th {\n",
       "        vertical-align: top;\n",
       "    }\n",
       "\n",
       "    .dataframe thead th {\n",
       "        text-align: right;\n",
       "    }\n",
       "</style>\n",
       "<table border=\"1\" class=\"dataframe\">\n",
       "  <thead>\n",
       "    <tr style=\"text-align: right;\">\n",
       "      <th></th>\n",
       "      <th>ip</th>\n",
       "      <th>0 seconds</th>\n",
       "    </tr>\n",
       "  </thead>\n",
       "  <tbody>\n",
       "    <tr>\n",
       "      <th>0</th>\n",
       "      <td>101.81.133.jja</td>\n",
       "      <td>1</td>\n",
       "    </tr>\n",
       "    <tr>\n",
       "      <th>1</th>\n",
       "      <td>107.23.85.jfd</td>\n",
       "      <td>2</td>\n",
       "    </tr>\n",
       "  </tbody>\n",
       "</table>\n",
       "</div>"
      ],
      "text/plain": [
       "               ip  0 seconds\n",
       "0  101.81.133.jja          1\n",
       "1   107.23.85.jfd          2"
      ]
     },
     "execution_count": 6,
     "metadata": {},
     "output_type": "execute_result"
    }
   ],
   "source": [
    "new_df = pd.DataFrame()\n",
    "\n",
    "new_df['ip'] = df_sec_edgar_data['ip'][df_sec_edgar_data['date_time'] == df_sec_edgar_data['date_time'].iloc[0]]\n",
    "new_df['0 seconds'] = 1\n",
    "new_df = new_df.groupby(\"ip\",sort=True).sum().reset_index()\n",
    "new_df"
   ]
  },
  {
   "cell_type": "code",
   "execution_count": 15,
   "metadata": {},
   "outputs": [
    {
     "data": {
      "text/html": [
       "<div>\n",
       "<style scoped>\n",
       "    .dataframe tbody tr th:only-of-type {\n",
       "        vertical-align: middle;\n",
       "    }\n",
       "\n",
       "    .dataframe tbody tr th {\n",
       "        vertical-align: top;\n",
       "    }\n",
       "\n",
       "    .dataframe thead th {\n",
       "        text-align: right;\n",
       "    }\n",
       "</style>\n",
       "<table border=\"1\" class=\"dataframe\">\n",
       "  <thead>\n",
       "    <tr style=\"text-align: right;\">\n",
       "      <th></th>\n",
       "      <th>ip</th>\n",
       "      <th>1</th>\n",
       "    </tr>\n",
       "  </thead>\n",
       "  <tbody>\n",
       "    <tr>\n",
       "      <th>0</th>\n",
       "      <td>101.81.133.jja</td>\n",
       "      <td>1</td>\n",
       "    </tr>\n",
       "    <tr>\n",
       "      <th>1</th>\n",
       "      <td>107.23.85.jfd</td>\n",
       "      <td>1</td>\n",
       "    </tr>\n",
       "    <tr>\n",
       "      <th>2</th>\n",
       "      <td>107.23.85.jfd</td>\n",
       "      <td>1</td>\n",
       "    </tr>\n",
       "  </tbody>\n",
       "</table>\n",
       "</div>"
      ],
      "text/plain": [
       "               ip  1\n",
       "0  101.81.133.jja  1\n",
       "1   107.23.85.jfd  1\n",
       "2   107.23.85.jfd  1"
      ]
     },
     "execution_count": 15,
     "metadata": {},
     "output_type": "execute_result"
    }
   ],
   "source": [
    "new_df = pd.DataFrame()\n",
    "new_df['ip']  = df_sec_edgar_data['ip'][df_sec_edgar_data['date_time'] == df_sec_edgar_data['date_time'].iloc[0]]\n",
    "if \n",
    "new_df"
   ]
  },
  {
   "cell_type": "markdown",
   "metadata": {},
   "source": [
    "Talking through the central code that parses the original dataframe:\n",
    "Instead of doing a \"range\" loop based on i to parse the original dataset to create the second one, can I add to the 2nd dataframe simply by adding new rows based on what's been added. For example, here is the first real line of code:\n",
    "new_df['ip'] = df_sec_edgar_data['ip'][df_sec_edgar_data['date_time'] == df_sec_edgar_data['date_time'].iloc[0]]\n",
    "- This line of the code checks for sites at zero seconds and finds 3 ip addresses to add to the second df....  We also have the following line of code, which adds a 1 to the '1' column for each of the rows added above\n",
    "new_df[i].loc[i] = 1\n",
    "Once this is accomplished, the next line should either add a new row if "
   ]
  },
  {
   "cell_type": "code",
   "execution_count": 92,
   "metadata": {},
   "outputs": [
    {
     "data": {
      "text/html": [
       "<div>\n",
       "<style scoped>\n",
       "    .dataframe tbody tr th:only-of-type {\n",
       "        vertical-align: middle;\n",
       "    }\n",
       "\n",
       "    .dataframe tbody tr th {\n",
       "        vertical-align: top;\n",
       "    }\n",
       "\n",
       "    .dataframe thead th {\n",
       "        text-align: right;\n",
       "    }\n",
       "</style>\n",
       "<table border=\"1\" class=\"dataframe\">\n",
       "  <thead>\n",
       "    <tr style=\"text-align: right;\">\n",
       "      <th></th>\n",
       "      <th>ip</th>\n",
       "      <th>1</th>\n",
       "      <th>2</th>\n",
       "    </tr>\n",
       "  </thead>\n",
       "  <tbody>\n",
       "    <tr>\n",
       "      <th>0</th>\n",
       "      <td>101.81.133.jja</td>\n",
       "      <td>1</td>\n",
       "      <td>1</td>\n",
       "    </tr>\n",
       "    <tr>\n",
       "      <th>1</th>\n",
       "      <td>107.23.85.jfd</td>\n",
       "      <td>2</td>\n",
       "      <td>1</td>\n",
       "    </tr>\n",
       "  </tbody>\n",
       "</table>\n",
       "</div>"
      ],
      "text/plain": [
       "               ip  1  2\n",
       "0  101.81.133.jja  1  1\n",
       "1   107.23.85.jfd  2  1"
      ]
     },
     "execution_count": 92,
     "metadata": {},
     "output_type": "execute_result"
    }
   ],
   "source": [
    "new_df[2] = 1\n",
    "\n",
    "new_df\n",
    "# when it loops through the second time, it needs to first add the new rows, then use new_df = new_df.groupby(\"ip\",sort=True).sum().reset_index() to combine the new rows with the existing rows if the ip address is the same"
   ]
  },
  {
   "cell_type": "code",
   "execution_count": 67,
   "metadata": {},
   "outputs": [
    {
     "data": {
      "text/plain": [
       "Timestamp('2017-06-30 00:00:00')"
      ]
     },
     "execution_count": 67,
     "metadata": {},
     "output_type": "execute_result"
    }
   ],
   "source": [
    " df_sec_edgar_data['date_time'].iloc[0]"
   ]
  },
  {
   "cell_type": "code",
   "execution_count": 124,
   "metadata": {},
   "outputs": [
    {
     "data": {
      "text/plain": [
       "4"
      ]
     },
     "execution_count": 124,
     "metadata": {},
     "output_type": "execute_result"
    }
   ],
   "source": [
    "(df_sec_edgar_data['date_time'].iloc[-1] - df_sec_edgar_data['date_time'].iloc[0]).seconds"
   ]
  },
  {
   "cell_type": "code",
   "execution_count": 138,
   "metadata": {},
   "outputs": [
    {
     "data": {
      "text/html": [
       "<div>\n",
       "<style scoped>\n",
       "    .dataframe tbody tr th:only-of-type {\n",
       "        vertical-align: middle;\n",
       "    }\n",
       "\n",
       "    .dataframe tbody tr th {\n",
       "        vertical-align: top;\n",
       "    }\n",
       "\n",
       "    .dataframe thead th {\n",
       "        text-align: right;\n",
       "    }\n",
       "</style>\n",
       "<table border=\"1\" class=\"dataframe\">\n",
       "  <thead>\n",
       "    <tr style=\"text-align: right;\">\n",
       "      <th></th>\n",
       "      <th>ip</th>\n",
       "      <th>1</th>\n",
       "      <th>2</th>\n",
       "      <th>3</th>\n",
       "      <th>4</th>\n",
       "      <th>5</th>\n",
       "    </tr>\n",
       "  </thead>\n",
       "  <tbody>\n",
       "    <tr>\n",
       "      <th>0</th>\n",
       "      <td>107.178.195.aag</td>\n",
       "      <td>0.0</td>\n",
       "      <td>0.0</td>\n",
       "      <td>0.0</td>\n",
       "      <td>0.0</td>\n",
       "      <td>1</td>\n",
       "    </tr>\n",
       "    <tr>\n",
       "      <th>1</th>\n",
       "      <td>108.91.91.hbc</td>\n",
       "      <td>0.0</td>\n",
       "      <td>0.0</td>\n",
       "      <td>0.0</td>\n",
       "      <td>0.0</td>\n",
       "      <td>1</td>\n",
       "    </tr>\n",
       "  </tbody>\n",
       "</table>\n",
       "</div>"
      ],
      "text/plain": [
       "                ip    1    2    3    4  5\n",
       "0  107.178.195.aag  0.0  0.0  0.0  0.0  1\n",
       "1    108.91.91.hbc  0.0  0.0  0.0  0.0  1"
      ]
     },
     "execution_count": 138,
     "metadata": {},
     "output_type": "execute_result"
    }
   ],
   "source": [
    "new_df"
   ]
  },
  {
   "cell_type": "code",
   "execution_count": 158,
   "metadata": {},
   "outputs": [
    {
     "data": {
      "text/plain": [
       "ip    108.91.91.hbc\n",
       "1                 0\n",
       "2                 0\n",
       "3                 0\n",
       "4                 0\n",
       "5                 1\n",
       "Name: 1, dtype: object"
      ]
     },
     "execution_count": 158,
     "metadata": {},
     "output_type": "execute_result"
    }
   ],
   "source": [
    "new_df[1] # outputs/refers to the 1 column of the df, all rows\n",
    "new_df[1][1:] # outputs/refers to the 1 column of the df, all rows starting with 1\n",
    "new_df.iloc[1]"
   ]
  },
  {
   "cell_type": "code",
   "execution_count": 172,
   "metadata": {},
   "outputs": [
    {
     "data": {
      "text/html": [
       "<div>\n",
       "<style scoped>\n",
       "    .dataframe tbody tr th:only-of-type {\n",
       "        vertical-align: middle;\n",
       "    }\n",
       "\n",
       "    .dataframe tbody tr th {\n",
       "        vertical-align: top;\n",
       "    }\n",
       "\n",
       "    .dataframe thead th {\n",
       "        text-align: right;\n",
       "    }\n",
       "</style>\n",
       "<table border=\"1\" class=\"dataframe\">\n",
       "  <thead>\n",
       "    <tr style=\"text-align: right;\">\n",
       "      <th></th>\n",
       "      <th>ip</th>\n",
       "    </tr>\n",
       "  </thead>\n",
       "  <tbody>\n",
       "    <tr>\n",
       "      <th>3</th>\n",
       "      <td>107.23.85.jfd</td>\n",
       "    </tr>\n",
       "    <tr>\n",
       "      <th>4</th>\n",
       "      <td>108.91.91.hbc</td>\n",
       "    </tr>\n",
       "  </tbody>\n",
       "</table>\n",
       "</div>"
      ],
      "text/plain": [
       "              ip\n",
       "3  107.23.85.jfd\n",
       "4  108.91.91.hbc"
      ]
     },
     "execution_count": 172,
     "metadata": {},
     "output_type": "execute_result"
    }
   ],
   "source": [
    "new_df = pd.DataFrame()\n",
    "new_df1 = pd.DataFrame()\n",
    "\n",
    "new_df['ip'] = df_sec_edgar_data['ip'][df_sec_edgar_data['date_time'] == df_sec_edgar_data['date_time'].iloc[0] + datetime.timedelta(seconds=0)] \n",
    "new_df[1] = 1\n",
    "new_df = new_df.groupby(\"ip\",sort=True).sum().reset_index()\n",
    "\n",
    "for i in range(1, (df_sec_edgar_data['date_time'].iloc[-1] - df_sec_edgar_data['date_time'].iloc[0]).seconds + 1):\n",
    "    new_df1['ip'] = df_sec_edgar_data['ip'][df_sec_edgar_data['date_time'] == df_sec_edgar_data['date_time'].iloc[0] + datetime.timedelta(seconds=1)]\n",
    "#     new_df[i] = 1\n",
    "    \n",
    "#     new_df1 = new_df1.groupby(\"ip\",sort=True).sum().reset_index()\n",
    "    \n",
    "#The above starts out the code by adding the lines for zero time\n",
    "\n",
    "#for i in range((df_sec_edgar_data['date_time'].iloc[-1] - df_sec_edgar_data['date_time'].iloc[0]).seconds + 1): creates loop that passes through original dataframe once for each second that passes for all date_times included in the original dataframe\n",
    "'''But again, do I need to loop through the whole thing or can I add everything in one vectorized pass? The reason I believe I can't do this is that I feel like I can't or don't know how to add data of unknown number of rows to the bottom of a dataframe and then reindex that dataframe. BUT.... What if I first create the dataframe not as an empty dataframe, but as a dataframe of a set shape with the exact number of rows and columns it needs? Well, I cannot do this because the nature of my project is that I cannot know he number of rows there will be at the end.'''\n",
    "\n",
    "#\n",
    "#     new_df = new_df.groupby(\"ip\",sort=True).sum().reset_index()\n",
    "#     break\n",
    "    \n",
    "    #second loop:\n",
    "#     new_df['ip'] = df_sec_edgar_data['ip'][df_sec_edgar_data['date_time'] == df_sec_edgar_data['date_time'].iloc[0]]\n",
    "#      + datetime.timedelta(seconds=1)\n",
    "#     new_df = new_df.groupby(\"ip\",sort=True).sum().reset_index()\n",
    "\n",
    "# print(new_df)\n",
    "# print(\"********************************************\\n\")\n",
    "# print(df_sec_edgar_data)\n",
    "\n",
    "new_df1"
   ]
  },
  {
   "cell_type": "code",
   "execution_count": 161,
   "metadata": {},
   "outputs": [
    {
     "ename": "SyntaxError",
     "evalue": "invalid syntax (<ipython-input-161-a276de420ee3>, line 7)",
     "output_type": "error",
     "traceback": [
      "\u001b[0;36m  File \u001b[0;32m\"<ipython-input-161-a276de420ee3>\"\u001b[0;36m, line \u001b[0;32m7\u001b[0m\n\u001b[0;31m    if df_sec_edgar_data['date_time'][new_df:'''for any row after the '''] - df_sec_edgar_data['date_time'].iloc[0]] # if the value for df_sec_edgar_data['date_time'][new_df:'''for any row after the '''] - df_sec_edgar_data['date_time'].iloc[0]]\u001b[0m\n\u001b[0m                                                                                                                   ^\u001b[0m\n\u001b[0;31mSyntaxError\u001b[0m\u001b[0;31m:\u001b[0m invalid syntax\n"
     ]
    }
   ],
   "source": [
    "#QUESTION: Can I put all of the data from df1 to newdf entirely into the second dataframe without having to loop and merge?\n",
    "\n",
    "\n",
    "new_df = pd.DataFrame()\n",
    "for i in range((df_sec_edgar_data['date_time'].iloc[-1] - df_sec_edgar_data['date_time'].iloc[0]).seconds + 1):\n",
    "    new_df['ip'] = df_sec_edgar_data['ip'][df_sec_edgar_data['date_time'] == df_sec_edgar_data['date_time'].iloc[0]]\n",
    "    if df_sec_edgar_data['date_time'][new_df:'''for any row after the '''] - df_sec_edgar_data['date_time'].iloc[0]] # if the value for df_sec_edgar_data['date_time'][new_df:'''for any row after the '''] - df_sec_edgar_data['date_time'].iloc[0]]\n",
    "    if df_sec_edgar_data['ip'] == new_df.loc[i][0]\n",
    "    new_df[i].loc[i] = 1\n",
    "    new_df = new_df.groupby(\"ip\",sort=True).sum().reset_index()\n",
    "new_df"
   ]
  },
  {
   "cell_type": "code",
   "execution_count": 21,
   "metadata": {},
   "outputs": [
    {
     "data": {
      "text/html": [
       "<div>\n",
       "<style scoped>\n",
       "    .dataframe tbody tr th:only-of-type {\n",
       "        vertical-align: middle;\n",
       "    }\n",
       "\n",
       "    .dataframe tbody tr th {\n",
       "        vertical-align: top;\n",
       "    }\n",
       "\n",
       "    .dataframe thead th {\n",
       "        text-align: right;\n",
       "    }\n",
       "</style>\n",
       "<table border=\"1\" class=\"dataframe\">\n",
       "  <thead>\n",
       "    <tr style=\"text-align: right;\">\n",
       "      <th></th>\n",
       "      <th>unique_id</th>\n",
       "      <th>1 second</th>\n",
       "    </tr>\n",
       "  </thead>\n",
       "  <tbody>\n",
       "    <tr>\n",
       "      <th>0</th>\n",
       "      <td>1295391.0|0001209784-17-000052|.txt|108.91.91....</td>\n",
       "      <td>1</td>\n",
       "    </tr>\n",
       "    <tr>\n",
       "      <th>1</th>\n",
       "      <td>841535.0|0000841535-98-000002|-index.html|107....</td>\n",
       "      <td>1</td>\n",
       "    </tr>\n",
       "  </tbody>\n",
       "</table>\n",
       "</div>"
      ],
      "text/plain": [
       "                                           unique_id  1 second\n",
       "0  1295391.0|0001209784-17-000052|.txt|108.91.91....         1\n",
       "1  841535.0|0000841535-98-000002|-index.html|107....         1"
      ]
     },
     "execution_count": 21,
     "metadata": {},
     "output_type": "execute_result"
    }
   ],
   "source": [
    "new1_df = pd.DataFrame()\n",
    "\n",
    "new1_df['ip'] = df_sec_edgar_data['ip'][df_sec_edgar_data['date_time'] == df_sec_edgar_data['date_time'].iloc[0] + datetime.timedelta(seconds=1)]\n",
    "new1_df['1 second'] = 1\n",
    "new1_df = new1_df.groupby(\"ip\",sort=True).sum().reset_index()\n",
    "new1_df"
   ]
  },
  {
   "cell_type": "code",
   "execution_count": 22,
   "metadata": {},
   "outputs": [
    {
     "data": {
      "text/html": [
       "<div>\n",
       "<style scoped>\n",
       "    .dataframe tbody tr th:only-of-type {\n",
       "        vertical-align: middle;\n",
       "    }\n",
       "\n",
       "    .dataframe tbody tr th {\n",
       "        vertical-align: top;\n",
       "    }\n",
       "\n",
       "    .dataframe thead th {\n",
       "        text-align: right;\n",
       "    }\n",
       "</style>\n",
       "<table border=\"1\" class=\"dataframe\">\n",
       "  <thead>\n",
       "    <tr style=\"text-align: right;\">\n",
       "      <th></th>\n",
       "      <th>unique_id</th>\n",
       "      <th>0 seconds</th>\n",
       "      <th>1 second</th>\n",
       "    </tr>\n",
       "  </thead>\n",
       "  <tbody>\n",
       "    <tr>\n",
       "      <th>0</th>\n",
       "      <td>1027281.0|0000898430-02-001167|-index.htm|107....</td>\n",
       "      <td>1.0</td>\n",
       "      <td>NaN</td>\n",
       "    </tr>\n",
       "    <tr>\n",
       "      <th>1</th>\n",
       "      <td>1136894.0|0000905148-07-003827|-index.htm|107....</td>\n",
       "      <td>1.0</td>\n",
       "      <td>NaN</td>\n",
       "    </tr>\n",
       "    <tr>\n",
       "      <th>2</th>\n",
       "      <td>1608552.0|0001047469-17-004337|-index.htm|101....</td>\n",
       "      <td>1.0</td>\n",
       "      <td>NaN</td>\n",
       "    </tr>\n",
       "    <tr>\n",
       "      <th>3</th>\n",
       "      <td>1295391.0|0001209784-17-000052|.txt|108.91.91....</td>\n",
       "      <td>NaN</td>\n",
       "      <td>1.0</td>\n",
       "    </tr>\n",
       "    <tr>\n",
       "      <th>4</th>\n",
       "      <td>841535.0|0000841535-98-000002|-index.html|107....</td>\n",
       "      <td>NaN</td>\n",
       "      <td>1.0</td>\n",
       "    </tr>\n",
       "  </tbody>\n",
       "</table>\n",
       "</div>"
      ],
      "text/plain": [
       "                                           unique_id  0 seconds  1 second\n",
       "0  1027281.0|0000898430-02-001167|-index.htm|107....        1.0       NaN\n",
       "1  1136894.0|0000905148-07-003827|-index.htm|107....        1.0       NaN\n",
       "2  1608552.0|0001047469-17-004337|-index.htm|101....        1.0       NaN\n",
       "3  1295391.0|0001209784-17-000052|.txt|108.91.91....        NaN       1.0\n",
       "4  841535.0|0000841535-98-000002|-index.html|107....        NaN       1.0"
      ]
     },
     "execution_count": 22,
     "metadata": {},
     "output_type": "execute_result"
    }
   ],
   "source": [
    "new_con = pd.merge(new_df, new1_df, 'outer')\n",
    "new_con\n"
   ]
  },
  {
   "cell_type": "code",
   "execution_count": 23,
   "metadata": {},
   "outputs": [
    {
     "data": {
      "text/html": [
       "<div>\n",
       "<style scoped>\n",
       "    .dataframe tbody tr th:only-of-type {\n",
       "        vertical-align: middle;\n",
       "    }\n",
       "\n",
       "    .dataframe tbody tr th {\n",
       "        vertical-align: top;\n",
       "    }\n",
       "\n",
       "    .dataframe thead th {\n",
       "        text-align: right;\n",
       "    }\n",
       "</style>\n",
       "<table border=\"1\" class=\"dataframe\">\n",
       "  <thead>\n",
       "    <tr style=\"text-align: right;\">\n",
       "      <th></th>\n",
       "      <th>unique_id</th>\n",
       "      <th>2 seconds</th>\n",
       "    </tr>\n",
       "  </thead>\n",
       "  <tbody>\n",
       "    <tr>\n",
       "      <th>0</th>\n",
       "      <td>1068124.0|0000350001-15-000854|-xbrl.zip|107.1...</td>\n",
       "      <td>1</td>\n",
       "    </tr>\n",
       "    <tr>\n",
       "      <th>1</th>\n",
       "      <td>1470683.0|0001144204-14-046448|v385454_20fa.ht...</td>\n",
       "      <td>1</td>\n",
       "    </tr>\n",
       "  </tbody>\n",
       "</table>\n",
       "</div>"
      ],
      "text/plain": [
       "                                           unique_id  2 seconds\n",
       "0  1068124.0|0000350001-15-000854|-xbrl.zip|107.1...          1\n",
       "1  1470683.0|0001144204-14-046448|v385454_20fa.ht...          1"
      ]
     },
     "execution_count": 23,
     "metadata": {},
     "output_type": "execute_result"
    }
   ],
   "source": [
    "new2_df = pd.DataFrame()\n",
    "\n",
    "new2_df['ip'] = df_sec_edgar_data['ip'][df_sec_edgar_data['date_time'] == df_sec_edgar_data['date_time'].iloc[0] + datetime.timedelta(seconds=2)]\n",
    "new2_df['2 seconds'] = 1\n",
    "new2_df = new2_df.groupby(\"ip\",sort=True).sum().reset_index()\n",
    "new2_df"
   ]
  },
  {
   "cell_type": "code",
   "execution_count": 24,
   "metadata": {},
   "outputs": [
    {
     "data": {
      "text/html": [
       "<div>\n",
       "<style scoped>\n",
       "    .dataframe tbody tr th:only-of-type {\n",
       "        vertical-align: middle;\n",
       "    }\n",
       "\n",
       "    .dataframe tbody tr th {\n",
       "        vertical-align: top;\n",
       "    }\n",
       "\n",
       "    .dataframe thead th {\n",
       "        text-align: right;\n",
       "    }\n",
       "</style>\n",
       "<table border=\"1\" class=\"dataframe\">\n",
       "  <thead>\n",
       "    <tr style=\"text-align: right;\">\n",
       "      <th></th>\n",
       "      <th>unique_id</th>\n",
       "      <th>0 seconds</th>\n",
       "      <th>1 second</th>\n",
       "      <th>2 seconds</th>\n",
       "    </tr>\n",
       "  </thead>\n",
       "  <tbody>\n",
       "    <tr>\n",
       "      <th>0</th>\n",
       "      <td>1027281.0|0000898430-02-001167|-index.htm|107....</td>\n",
       "      <td>1.0</td>\n",
       "      <td>NaN</td>\n",
       "      <td>NaN</td>\n",
       "    </tr>\n",
       "    <tr>\n",
       "      <th>1</th>\n",
       "      <td>1136894.0|0000905148-07-003827|-index.htm|107....</td>\n",
       "      <td>1.0</td>\n",
       "      <td>NaN</td>\n",
       "      <td>NaN</td>\n",
       "    </tr>\n",
       "    <tr>\n",
       "      <th>2</th>\n",
       "      <td>1608552.0|0001047469-17-004337|-index.htm|101....</td>\n",
       "      <td>1.0</td>\n",
       "      <td>NaN</td>\n",
       "      <td>NaN</td>\n",
       "    </tr>\n",
       "    <tr>\n",
       "      <th>3</th>\n",
       "      <td>1295391.0|0001209784-17-000052|.txt|108.91.91....</td>\n",
       "      <td>NaN</td>\n",
       "      <td>1.0</td>\n",
       "      <td>NaN</td>\n",
       "    </tr>\n",
       "    <tr>\n",
       "      <th>4</th>\n",
       "      <td>841535.0|0000841535-98-000002|-index.html|107....</td>\n",
       "      <td>NaN</td>\n",
       "      <td>1.0</td>\n",
       "      <td>NaN</td>\n",
       "    </tr>\n",
       "    <tr>\n",
       "      <th>5</th>\n",
       "      <td>1068124.0|0000350001-15-000854|-xbrl.zip|107.1...</td>\n",
       "      <td>NaN</td>\n",
       "      <td>NaN</td>\n",
       "      <td>1.0</td>\n",
       "    </tr>\n",
       "    <tr>\n",
       "      <th>6</th>\n",
       "      <td>1470683.0|0001144204-14-046448|v385454_20fa.ht...</td>\n",
       "      <td>NaN</td>\n",
       "      <td>NaN</td>\n",
       "      <td>1.0</td>\n",
       "    </tr>\n",
       "  </tbody>\n",
       "</table>\n",
       "</div>"
      ],
      "text/plain": [
       "                                           unique_id  0 seconds  1 second  \\\n",
       "0  1027281.0|0000898430-02-001167|-index.htm|107....        1.0       NaN   \n",
       "1  1136894.0|0000905148-07-003827|-index.htm|107....        1.0       NaN   \n",
       "2  1608552.0|0001047469-17-004337|-index.htm|101....        1.0       NaN   \n",
       "3  1295391.0|0001209784-17-000052|.txt|108.91.91....        NaN       1.0   \n",
       "4  841535.0|0000841535-98-000002|-index.html|107....        NaN       1.0   \n",
       "5  1068124.0|0000350001-15-000854|-xbrl.zip|107.1...        NaN       NaN   \n",
       "6  1470683.0|0001144204-14-046448|v385454_20fa.ht...        NaN       NaN   \n",
       "\n",
       "   2 seconds  \n",
       "0        NaN  \n",
       "1        NaN  \n",
       "2        NaN  \n",
       "3        NaN  \n",
       "4        NaN  \n",
       "5        1.0  \n",
       "6        1.0  "
      ]
     },
     "execution_count": 24,
     "metadata": {},
     "output_type": "execute_result"
    }
   ],
   "source": [
    "new1_con = pd.merge(new_con, new2_df, 'outer')\n",
    "new1_con"
   ]
  },
  {
   "cell_type": "code",
   "execution_count": 25,
   "metadata": {},
   "outputs": [
    {
     "data": {
      "text/html": [
       "<div>\n",
       "<style scoped>\n",
       "    .dataframe tbody tr th:only-of-type {\n",
       "        vertical-align: middle;\n",
       "    }\n",
       "\n",
       "    .dataframe tbody tr th {\n",
       "        vertical-align: top;\n",
       "    }\n",
       "\n",
       "    .dataframe thead th {\n",
       "        text-align: right;\n",
       "    }\n",
       "</style>\n",
       "<table border=\"1\" class=\"dataframe\">\n",
       "  <thead>\n",
       "    <tr style=\"text-align: right;\">\n",
       "      <th></th>\n",
       "      <th>unique_id</th>\n",
       "      <th>3 seconds</th>\n",
       "    </tr>\n",
       "  </thead>\n",
       "  <tbody>\n",
       "    <tr>\n",
       "      <th>0</th>\n",
       "      <td>842814.0|0000842814-98-000001|-index.html|107....</td>\n",
       "      <td>1</td>\n",
       "    </tr>\n",
       "  </tbody>\n",
       "</table>\n",
       "</div>"
      ],
      "text/plain": [
       "                                           unique_id  3 seconds\n",
       "0  842814.0|0000842814-98-000001|-index.html|107....          1"
      ]
     },
     "execution_count": 25,
     "metadata": {},
     "output_type": "execute_result"
    }
   ],
   "source": [
    "new3_df = pd.DataFrame()\n",
    "\n",
    "new3_df['ip'] = df_sec_edgar_data['ip'][df_sec_edgar_data['date_time'] == df_sec_edgar_data['date_time'].iloc[0] + datetime.timedelta(seconds=3)]\n",
    "new3_df['3 seconds'] = 1\n",
    "new3_df = new3_df.groupby(\"ip\",sort=True).sum().reset_index()\n",
    "new3_df"
   ]
  },
  {
   "cell_type": "code",
   "execution_count": 26,
   "metadata": {},
   "outputs": [
    {
     "data": {
      "text/html": [
       "<div>\n",
       "<style scoped>\n",
       "    .dataframe tbody tr th:only-of-type {\n",
       "        vertical-align: middle;\n",
       "    }\n",
       "\n",
       "    .dataframe tbody tr th {\n",
       "        vertical-align: top;\n",
       "    }\n",
       "\n",
       "    .dataframe thead th {\n",
       "        text-align: right;\n",
       "    }\n",
       "</style>\n",
       "<table border=\"1\" class=\"dataframe\">\n",
       "  <thead>\n",
       "    <tr style=\"text-align: right;\">\n",
       "      <th></th>\n",
       "      <th>unique_id</th>\n",
       "      <th>0 seconds</th>\n",
       "      <th>1 second</th>\n",
       "      <th>2 seconds</th>\n",
       "      <th>3 seconds</th>\n",
       "    </tr>\n",
       "  </thead>\n",
       "  <tbody>\n",
       "    <tr>\n",
       "      <th>0</th>\n",
       "      <td>1027281.0|0000898430-02-001167|-index.htm|107....</td>\n",
       "      <td>1.0</td>\n",
       "      <td>NaN</td>\n",
       "      <td>NaN</td>\n",
       "      <td>NaN</td>\n",
       "    </tr>\n",
       "    <tr>\n",
       "      <th>1</th>\n",
       "      <td>1136894.0|0000905148-07-003827|-index.htm|107....</td>\n",
       "      <td>1.0</td>\n",
       "      <td>NaN</td>\n",
       "      <td>NaN</td>\n",
       "      <td>NaN</td>\n",
       "    </tr>\n",
       "    <tr>\n",
       "      <th>2</th>\n",
       "      <td>1608552.0|0001047469-17-004337|-index.htm|101....</td>\n",
       "      <td>1.0</td>\n",
       "      <td>NaN</td>\n",
       "      <td>NaN</td>\n",
       "      <td>NaN</td>\n",
       "    </tr>\n",
       "    <tr>\n",
       "      <th>3</th>\n",
       "      <td>1295391.0|0001209784-17-000052|.txt|108.91.91....</td>\n",
       "      <td>NaN</td>\n",
       "      <td>1.0</td>\n",
       "      <td>NaN</td>\n",
       "      <td>NaN</td>\n",
       "    </tr>\n",
       "    <tr>\n",
       "      <th>4</th>\n",
       "      <td>841535.0|0000841535-98-000002|-index.html|107....</td>\n",
       "      <td>NaN</td>\n",
       "      <td>1.0</td>\n",
       "      <td>NaN</td>\n",
       "      <td>NaN</td>\n",
       "    </tr>\n",
       "    <tr>\n",
       "      <th>5</th>\n",
       "      <td>1068124.0|0000350001-15-000854|-xbrl.zip|107.1...</td>\n",
       "      <td>NaN</td>\n",
       "      <td>NaN</td>\n",
       "      <td>1.0</td>\n",
       "      <td>NaN</td>\n",
       "    </tr>\n",
       "    <tr>\n",
       "      <th>6</th>\n",
       "      <td>1470683.0|0001144204-14-046448|v385454_20fa.ht...</td>\n",
       "      <td>NaN</td>\n",
       "      <td>NaN</td>\n",
       "      <td>1.0</td>\n",
       "      <td>NaN</td>\n",
       "    </tr>\n",
       "    <tr>\n",
       "      <th>7</th>\n",
       "      <td>842814.0|0000842814-98-000001|-index.html|107....</td>\n",
       "      <td>NaN</td>\n",
       "      <td>NaN</td>\n",
       "      <td>NaN</td>\n",
       "      <td>1.0</td>\n",
       "    </tr>\n",
       "  </tbody>\n",
       "</table>\n",
       "</div>"
      ],
      "text/plain": [
       "                                           unique_id  0 seconds  1 second  \\\n",
       "0  1027281.0|0000898430-02-001167|-index.htm|107....        1.0       NaN   \n",
       "1  1136894.0|0000905148-07-003827|-index.htm|107....        1.0       NaN   \n",
       "2  1608552.0|0001047469-17-004337|-index.htm|101....        1.0       NaN   \n",
       "3  1295391.0|0001209784-17-000052|.txt|108.91.91....        NaN       1.0   \n",
       "4  841535.0|0000841535-98-000002|-index.html|107....        NaN       1.0   \n",
       "5  1068124.0|0000350001-15-000854|-xbrl.zip|107.1...        NaN       NaN   \n",
       "6  1470683.0|0001144204-14-046448|v385454_20fa.ht...        NaN       NaN   \n",
       "7  842814.0|0000842814-98-000001|-index.html|107....        NaN       NaN   \n",
       "\n",
       "   2 seconds  3 seconds  \n",
       "0        NaN        NaN  \n",
       "1        NaN        NaN  \n",
       "2        NaN        NaN  \n",
       "3        NaN        NaN  \n",
       "4        NaN        NaN  \n",
       "5        1.0        NaN  \n",
       "6        1.0        NaN  \n",
       "7        NaN        1.0  "
      ]
     },
     "execution_count": 26,
     "metadata": {},
     "output_type": "execute_result"
    }
   ],
   "source": [
    "new2_con = pd.merge(new1_con, new3_df, 'outer')\n",
    "new2_con"
   ]
  },
  {
   "cell_type": "code",
   "execution_count": 27,
   "metadata": {},
   "outputs": [
    {
     "data": {
      "text/html": [
       "<div>\n",
       "<style scoped>\n",
       "    .dataframe tbody tr th:only-of-type {\n",
       "        vertical-align: middle;\n",
       "    }\n",
       "\n",
       "    .dataframe tbody tr th {\n",
       "        vertical-align: top;\n",
       "    }\n",
       "\n",
       "    .dataframe thead th {\n",
       "        text-align: right;\n",
       "    }\n",
       "</style>\n",
       "<table border=\"1\" class=\"dataframe\">\n",
       "  <thead>\n",
       "    <tr style=\"text-align: right;\">\n",
       "      <th></th>\n",
       "      <th>unique_id</th>\n",
       "      <th>4 seconds</th>\n",
       "    </tr>\n",
       "  </thead>\n",
       "  <tbody>\n",
       "    <tr>\n",
       "      <th>0</th>\n",
       "      <td>1068124.0|0000350001-15-000731|-xbrl.zip|107.1...</td>\n",
       "      <td>1</td>\n",
       "    </tr>\n",
       "    <tr>\n",
       "      <th>1</th>\n",
       "      <td>1618174.0|0001140361-17-026711|.txt|108.91.91....</td>\n",
       "      <td>1</td>\n",
       "    </tr>\n",
       "  </tbody>\n",
       "</table>\n",
       "</div>"
      ],
      "text/plain": [
       "                                           unique_id  4 seconds\n",
       "0  1068124.0|0000350001-15-000731|-xbrl.zip|107.1...          1\n",
       "1  1618174.0|0001140361-17-026711|.txt|108.91.91....          1"
      ]
     },
     "execution_count": 27,
     "metadata": {},
     "output_type": "execute_result"
    }
   ],
   "source": [
    "new4_df = pd.DataFrame()\n",
    "\n",
    "new4_df['ip'] = df_sec_edgar_data['ip'][df_sec_edgar_data['date_time'] == df_sec_edgar_data['date_time'].iloc[0] + datetime.timedelta(seconds=4)]\n",
    "new4_df['4 seconds'] = 1\n",
    "new4_df = new4_df.groupby(\"ip\",sort=True).sum().reset_index()\n",
    "new4_df"
   ]
  },
  {
   "cell_type": "code",
   "execution_count": 28,
   "metadata": {},
   "outputs": [
    {
     "data": {
      "text/html": [
       "<div>\n",
       "<style scoped>\n",
       "    .dataframe tbody tr th:only-of-type {\n",
       "        vertical-align: middle;\n",
       "    }\n",
       "\n",
       "    .dataframe tbody tr th {\n",
       "        vertical-align: top;\n",
       "    }\n",
       "\n",
       "    .dataframe thead th {\n",
       "        text-align: right;\n",
       "    }\n",
       "</style>\n",
       "<table border=\"1\" class=\"dataframe\">\n",
       "  <thead>\n",
       "    <tr style=\"text-align: right;\">\n",
       "      <th></th>\n",
       "      <th>unique_id</th>\n",
       "      <th>0 seconds</th>\n",
       "      <th>1 second</th>\n",
       "      <th>2 seconds</th>\n",
       "      <th>3 seconds</th>\n",
       "      <th>4 seconds</th>\n",
       "    </tr>\n",
       "  </thead>\n",
       "  <tbody>\n",
       "    <tr>\n",
       "      <th>0</th>\n",
       "      <td>1027281.0|0000898430-02-001167|-index.htm|107....</td>\n",
       "      <td>1.0</td>\n",
       "      <td>NaN</td>\n",
       "      <td>NaN</td>\n",
       "      <td>NaN</td>\n",
       "      <td>NaN</td>\n",
       "    </tr>\n",
       "    <tr>\n",
       "      <th>1</th>\n",
       "      <td>1136894.0|0000905148-07-003827|-index.htm|107....</td>\n",
       "      <td>1.0</td>\n",
       "      <td>NaN</td>\n",
       "      <td>NaN</td>\n",
       "      <td>NaN</td>\n",
       "      <td>NaN</td>\n",
       "    </tr>\n",
       "    <tr>\n",
       "      <th>2</th>\n",
       "      <td>1608552.0|0001047469-17-004337|-index.htm|101....</td>\n",
       "      <td>1.0</td>\n",
       "      <td>NaN</td>\n",
       "      <td>NaN</td>\n",
       "      <td>NaN</td>\n",
       "      <td>NaN</td>\n",
       "    </tr>\n",
       "    <tr>\n",
       "      <th>3</th>\n",
       "      <td>1295391.0|0001209784-17-000052|.txt|108.91.91....</td>\n",
       "      <td>NaN</td>\n",
       "      <td>1.0</td>\n",
       "      <td>NaN</td>\n",
       "      <td>NaN</td>\n",
       "      <td>NaN</td>\n",
       "    </tr>\n",
       "    <tr>\n",
       "      <th>4</th>\n",
       "      <td>841535.0|0000841535-98-000002|-index.html|107....</td>\n",
       "      <td>NaN</td>\n",
       "      <td>1.0</td>\n",
       "      <td>NaN</td>\n",
       "      <td>NaN</td>\n",
       "      <td>NaN</td>\n",
       "    </tr>\n",
       "    <tr>\n",
       "      <th>5</th>\n",
       "      <td>1068124.0|0000350001-15-000854|-xbrl.zip|107.1...</td>\n",
       "      <td>NaN</td>\n",
       "      <td>NaN</td>\n",
       "      <td>1.0</td>\n",
       "      <td>NaN</td>\n",
       "      <td>NaN</td>\n",
       "    </tr>\n",
       "    <tr>\n",
       "      <th>6</th>\n",
       "      <td>1470683.0|0001144204-14-046448|v385454_20fa.ht...</td>\n",
       "      <td>NaN</td>\n",
       "      <td>NaN</td>\n",
       "      <td>1.0</td>\n",
       "      <td>NaN</td>\n",
       "      <td>NaN</td>\n",
       "    </tr>\n",
       "    <tr>\n",
       "      <th>7</th>\n",
       "      <td>842814.0|0000842814-98-000001|-index.html|107....</td>\n",
       "      <td>NaN</td>\n",
       "      <td>NaN</td>\n",
       "      <td>NaN</td>\n",
       "      <td>1.0</td>\n",
       "      <td>NaN</td>\n",
       "    </tr>\n",
       "    <tr>\n",
       "      <th>8</th>\n",
       "      <td>1068124.0|0000350001-15-000731|-xbrl.zip|107.1...</td>\n",
       "      <td>NaN</td>\n",
       "      <td>NaN</td>\n",
       "      <td>NaN</td>\n",
       "      <td>NaN</td>\n",
       "      <td>1.0</td>\n",
       "    </tr>\n",
       "    <tr>\n",
       "      <th>9</th>\n",
       "      <td>1618174.0|0001140361-17-026711|.txt|108.91.91....</td>\n",
       "      <td>NaN</td>\n",
       "      <td>NaN</td>\n",
       "      <td>NaN</td>\n",
       "      <td>NaN</td>\n",
       "      <td>1.0</td>\n",
       "    </tr>\n",
       "  </tbody>\n",
       "</table>\n",
       "</div>"
      ],
      "text/plain": [
       "                                           unique_id  0 seconds  1 second  \\\n",
       "0  1027281.0|0000898430-02-001167|-index.htm|107....        1.0       NaN   \n",
       "1  1136894.0|0000905148-07-003827|-index.htm|107....        1.0       NaN   \n",
       "2  1608552.0|0001047469-17-004337|-index.htm|101....        1.0       NaN   \n",
       "3  1295391.0|0001209784-17-000052|.txt|108.91.91....        NaN       1.0   \n",
       "4  841535.0|0000841535-98-000002|-index.html|107....        NaN       1.0   \n",
       "5  1068124.0|0000350001-15-000854|-xbrl.zip|107.1...        NaN       NaN   \n",
       "6  1470683.0|0001144204-14-046448|v385454_20fa.ht...        NaN       NaN   \n",
       "7  842814.0|0000842814-98-000001|-index.html|107....        NaN       NaN   \n",
       "8  1068124.0|0000350001-15-000731|-xbrl.zip|107.1...        NaN       NaN   \n",
       "9  1618174.0|0001140361-17-026711|.txt|108.91.91....        NaN       NaN   \n",
       "\n",
       "   2 seconds  3 seconds  4 seconds  \n",
       "0        NaN        NaN        NaN  \n",
       "1        NaN        NaN        NaN  \n",
       "2        NaN        NaN        NaN  \n",
       "3        NaN        NaN        NaN  \n",
       "4        NaN        NaN        NaN  \n",
       "5        1.0        NaN        NaN  \n",
       "6        1.0        NaN        NaN  \n",
       "7        NaN        1.0        NaN  \n",
       "8        NaN        NaN        1.0  \n",
       "9        NaN        NaN        1.0  "
      ]
     },
     "execution_count": 28,
     "metadata": {},
     "output_type": "execute_result"
    }
   ],
   "source": [
    "new3_con = pd.merge(new2_con, new4_df, 'outer')\n",
    "new3_con"
   ]
  },
  {
   "cell_type": "code",
   "execution_count": 110,
   "metadata": {},
   "outputs": [
    {
     "data": {
      "text/html": [
       "<div>\n",
       "<style scoped>\n",
       "    .dataframe tbody tr th:only-of-type {\n",
       "        vertical-align: middle;\n",
       "    }\n",
       "\n",
       "    .dataframe tbody tr th {\n",
       "        vertical-align: top;\n",
       "    }\n",
       "\n",
       "    .dataframe thead th {\n",
       "        text-align: right;\n",
       "    }\n",
       "</style>\n",
       "<table border=\"1\" class=\"dataframe\">\n",
       "  <thead>\n",
       "    <tr style=\"text-align: right;\">\n",
       "      <th></th>\n",
       "      <th>ip</th>\n",
       "      <th>5 seconds</th>\n",
       "    </tr>\n",
       "  </thead>\n",
       "  <tbody>\n",
       "  </tbody>\n",
       "</table>\n",
       "</div>"
      ],
      "text/plain": [
       "Empty DataFrame\n",
       "Columns: [ip, 5 seconds]\n",
       "Index: []"
      ]
     },
     "execution_count": 110,
     "metadata": {},
     "output_type": "execute_result"
    }
   ],
   "source": [
    "new5_df = pd.DataFrame()\n",
    "\n",
    "new5_df['unique_id'] = df_sec_edgar_data['unique_id'][df_sec_edgar_data['date_time'] == df_sec_edgar_data['date_time'].iloc[0] + datetime.timedelta(seconds=5)]\n",
    "new5_df['5 seconds'] = 1\n",
    "new5_df = new5_df.groupby(\"unique_id\",sort=True).sum().reset_index()\n",
    "new5_df"
   ]
  },
  {
   "cell_type": "code",
   "execution_count": 109,
   "metadata": {},
   "outputs": [
    {
     "ename": "ValueError",
     "evalue": "No axis named outer for object type <class 'pandas.core.frame.DataFrame'>",
     "output_type": "error",
     "traceback": [
      "\u001b[0;31m---------------------------------------------------------------------------\u001b[0m",
      "\u001b[0;31mValueError\u001b[0m                                Traceback (most recent call last)",
      "\u001b[0;32m<ipython-input-109-17f9d1507566>\u001b[0m in \u001b[0;36m<module>\u001b[0;34m()\u001b[0m\n\u001b[0;32m----> 1\u001b[0;31m \u001b[0mnew4_con\u001b[0m \u001b[0;34m=\u001b[0m \u001b[0mpd\u001b[0m\u001b[0;34m.\u001b[0m\u001b[0mconcat\u001b[0m\u001b[0;34m(\u001b[0m\u001b[0;34m[\u001b[0m\u001b[0mnew_df\u001b[0m\u001b[0;34m,\u001b[0m \u001b[0mnew1_df\u001b[0m\u001b[0;34m,\u001b[0m \u001b[0mnew2_df\u001b[0m\u001b[0;34m,\u001b[0m \u001b[0mnew3_df\u001b[0m\u001b[0;34m,\u001b[0m \u001b[0mnew4_df\u001b[0m\u001b[0;34m]\u001b[0m\u001b[0;34m,\u001b[0m \u001b[0;34m'outer'\u001b[0m\u001b[0;34m,\u001b[0m \u001b[0mjoin_axes\u001b[0m\u001b[0;34m=\u001b[0m\u001b[0mnew_df\u001b[0m\u001b[0;34m[\u001b[0m\u001b[0;34m'ip'\u001b[0m\u001b[0;34m]\u001b[0m\u001b[0;34m)\u001b[0m\u001b[0;34m\u001b[0m\u001b[0m\n\u001b[0m\u001b[1;32m      2\u001b[0m \u001b[0mnew4_con\u001b[0m\u001b[0;34m\u001b[0m\u001b[0m\n",
      "\u001b[0;32m~/anaconda3/lib/python3.6/site-packages/pandas/core/reshape/concat.py\u001b[0m in \u001b[0;36mconcat\u001b[0;34m(objs, axis, join, join_axes, ignore_index, keys, levels, names, verify_integrity, sort, copy)\u001b[0m\n\u001b[1;32m    223\u001b[0m                        \u001b[0mkeys\u001b[0m\u001b[0;34m=\u001b[0m\u001b[0mkeys\u001b[0m\u001b[0;34m,\u001b[0m \u001b[0mlevels\u001b[0m\u001b[0;34m=\u001b[0m\u001b[0mlevels\u001b[0m\u001b[0;34m,\u001b[0m \u001b[0mnames\u001b[0m\u001b[0;34m=\u001b[0m\u001b[0mnames\u001b[0m\u001b[0;34m,\u001b[0m\u001b[0;34m\u001b[0m\u001b[0m\n\u001b[1;32m    224\u001b[0m                        \u001b[0mverify_integrity\u001b[0m\u001b[0;34m=\u001b[0m\u001b[0mverify_integrity\u001b[0m\u001b[0;34m,\u001b[0m\u001b[0;34m\u001b[0m\u001b[0m\n\u001b[0;32m--> 225\u001b[0;31m                        copy=copy, sort=sort)\n\u001b[0m\u001b[1;32m    226\u001b[0m     \u001b[0;32mreturn\u001b[0m \u001b[0mop\u001b[0m\u001b[0;34m.\u001b[0m\u001b[0mget_result\u001b[0m\u001b[0;34m(\u001b[0m\u001b[0;34m)\u001b[0m\u001b[0;34m\u001b[0m\u001b[0m\n\u001b[1;32m    227\u001b[0m \u001b[0;34m\u001b[0m\u001b[0m\n",
      "\u001b[0;32m~/anaconda3/lib/python3.6/site-packages/pandas/core/reshape/concat.py\u001b[0m in \u001b[0;36m__init__\u001b[0;34m(self, objs, axis, join, join_axes, keys, levels, names, ignore_index, verify_integrity, copy, sort)\u001b[0m\n\u001b[1;32m    322\u001b[0m             \u001b[0maxis\u001b[0m \u001b[0;34m=\u001b[0m \u001b[0mDataFrame\u001b[0m\u001b[0;34m(\u001b[0m\u001b[0;34m)\u001b[0m\u001b[0;34m.\u001b[0m\u001b[0m_get_axis_number\u001b[0m\u001b[0;34m(\u001b[0m\u001b[0maxis\u001b[0m\u001b[0;34m)\u001b[0m\u001b[0;34m\u001b[0m\u001b[0m\n\u001b[1;32m    323\u001b[0m         \u001b[0;32melse\u001b[0m\u001b[0;34m:\u001b[0m\u001b[0;34m\u001b[0m\u001b[0m\n\u001b[0;32m--> 324\u001b[0;31m             \u001b[0maxis\u001b[0m \u001b[0;34m=\u001b[0m \u001b[0msample\u001b[0m\u001b[0;34m.\u001b[0m\u001b[0m_get_axis_number\u001b[0m\u001b[0;34m(\u001b[0m\u001b[0maxis\u001b[0m\u001b[0;34m)\u001b[0m\u001b[0;34m\u001b[0m\u001b[0m\n\u001b[0m\u001b[1;32m    325\u001b[0m \u001b[0;34m\u001b[0m\u001b[0m\n\u001b[1;32m    326\u001b[0m         \u001b[0;31m# Need to flip BlockManager axis in the DataFrame special case\u001b[0m\u001b[0;34m\u001b[0m\u001b[0;34m\u001b[0m\u001b[0m\n",
      "\u001b[0;32m~/anaconda3/lib/python3.6/site-packages/pandas/core/generic.py\u001b[0m in \u001b[0;36m_get_axis_number\u001b[0;34m(self, axis)\u001b[0m\n\u001b[1;32m    372\u001b[0m                 \u001b[0;32mpass\u001b[0m\u001b[0;34m\u001b[0m\u001b[0m\n\u001b[1;32m    373\u001b[0m         raise ValueError('No axis named {0} for object type {1}'\n\u001b[0;32m--> 374\u001b[0;31m                          .format(axis, type(self)))\n\u001b[0m\u001b[1;32m    375\u001b[0m \u001b[0;34m\u001b[0m\u001b[0m\n\u001b[1;32m    376\u001b[0m     \u001b[0;32mdef\u001b[0m \u001b[0m_get_axis_name\u001b[0m\u001b[0;34m(\u001b[0m\u001b[0mself\u001b[0m\u001b[0;34m,\u001b[0m \u001b[0maxis\u001b[0m\u001b[0;34m)\u001b[0m\u001b[0;34m:\u001b[0m\u001b[0;34m\u001b[0m\u001b[0m\n",
      "\u001b[0;31mValueError\u001b[0m: No axis named outer for object type <class 'pandas.core.frame.DataFrame'>"
     ]
    }
   ],
   "source": [
    "lst_"
   ]
  },
  {
   "cell_type": "code",
   "execution_count": 73,
   "metadata": {},
   "outputs": [
    {
     "name": "stdout",
     "output_type": "stream",
     "text": [
      "[['101.81.133.jja', Timestamp('2017-06-30 00:00:00'), '101.81.133.jja|2017-06-30 00:00:00', '1608552.0|0001047469-17-004337|-index.htm|101.81.133.jja|2017-06-30 00:00:00'], ['107.23.85.jfd', Timestamp('2017-06-30 00:00:00'), '107.23.85.jfd|2017-06-30 00:00:00', '1027281.0|0000898430-02-001167|-index.htm|107.23.85.jfd|2017-06-30 00:00:00'], ['107.23.85.jfd', Timestamp('2017-06-30 00:00:00'), '107.23.85.jfd|2017-06-30 00:00:00', '1136894.0|0000905148-07-003827|-index.htm|107.23.85.jfd|2017-06-30 00:00:00']]\n"
     ]
    }
   ],
   "source": [
    "lst_input_sec = df_sec_edgar_data.values.tolist()\n",
    "df1 = []\n",
    "df2 = []\n",
    "counter = 0\n",
    "\n",
    "for i in range((lst_input_sec[-1][1] - lst_input_sec[0][1]).seconds+1):\n",
    "    if counter == 0:\n",
    "        counter += 1\n",
    "        for row in lst_input_sec:\n",
    "            if row[1] == lst_input_sec[0][1]:\n",
    "                df1.append(row)\n",
    "                           \n",
    "print(df1)"
   ]
  },
  {
   "cell_type": "code",
   "execution_count": 50,
   "metadata": {},
   "outputs": [
    {
     "ename": "IndexError",
     "evalue": "list assignment index out of range",
     "output_type": "error",
     "traceback": [
      "\u001b[0;31m---------------------------------------------------------------------------\u001b[0m",
      "\u001b[0;31mIndexError\u001b[0m                                Traceback (most recent call last)",
      "\u001b[0;32m<ipython-input-50-3ae096b9cecf>\u001b[0m in \u001b[0;36m<module>\u001b[0;34m()\u001b[0m\n\u001b[1;32m      3\u001b[0m \u001b[0;34m\u001b[0m\u001b[0m\n\u001b[1;32m      4\u001b[0m \u001b[0;32mfor\u001b[0m \u001b[0mi\u001b[0m \u001b[0;32min\u001b[0m \u001b[0mrange\u001b[0m\u001b[0;34m(\u001b[0m\u001b[0;34m(\u001b[0m\u001b[0mlst_input_sec\u001b[0m\u001b[0;34m[\u001b[0m\u001b[0;34m-\u001b[0m\u001b[0;36m1\u001b[0m\u001b[0;34m]\u001b[0m\u001b[0;34m[\u001b[0m\u001b[0;36m1\u001b[0m\u001b[0;34m]\u001b[0m \u001b[0;34m-\u001b[0m \u001b[0mlst_input_sec\u001b[0m\u001b[0;34m[\u001b[0m\u001b[0;36m0\u001b[0m\u001b[0;34m]\u001b[0m\u001b[0;34m[\u001b[0m\u001b[0;36m1\u001b[0m\u001b[0;34m]\u001b[0m\u001b[0;34m)\u001b[0m\u001b[0;34m.\u001b[0m\u001b[0mseconds\u001b[0m\u001b[0;34m+\u001b[0m\u001b[0;36m1\u001b[0m\u001b[0;34m)\u001b[0m\u001b[0;34m:\u001b[0m\u001b[0;34m\u001b[0m\u001b[0m\n\u001b[0;32m----> 5\u001b[0;31m     \u001b[0mtemp_list\u001b[0m\u001b[0;34m[\u001b[0m\u001b[0mi\u001b[0m\u001b[0;34m*\u001b[0m\u001b[0;36m1\u001b[0m\u001b[0;34m]\u001b[0m \u001b[0;34m=\u001b[0m \u001b[0mblank\u001b[0m\u001b[0;34m\u001b[0m\u001b[0m\n\u001b[0m",
      "\u001b[0;31mIndexError\u001b[0m: list assignment index out of range"
     ]
    }
   ],
   "source": [
    "temp_list = []\n",
    "blank = '_'    \n",
    "\n",
    "for i in range((lst_input_sec[-1][1] - lst_input_sec[0][1]).seconds+1):\n",
    "    temp_list[i*1] = blank"
   ]
  },
  {
   "cell_type": "code",
   "execution_count": 48,
   "metadata": {},
   "outputs": [
    {
     "name": "stdout",
     "output_type": "stream",
     "text": [
      "['_', '_', '_', '_', '_', '_']\n",
      "['_', '_', '_', '_', '_', '_']\n",
      "['_', '_', '_', '_', '_', '_']\n",
      "['_', '_', '_', '_', '_', '_']\n",
      "['_', '_', '_', '_', '_', '_']\n",
      "['_', '_', '_', '_', '_', '_']\n",
      "['_', '_', '_', '_', '_', '_']\n",
      "['_', '_', '_', '_', '_', '_']\n",
      "['_', '_', '_', '_', '_', '_']\n",
      "['_', '_', '_', '_', '_', '_']\n",
      "['_', '_', '_', '_', '_', '_']\n",
      "['_', '_', '_', '_', '_', '_']\n",
      "['_', '_', '_', '_', '_', '_']\n",
      "['_', '_', '_', '_', '_', '_']\n",
      "['_', '_', '_', '_', '_', '_']\n",
      "['_', '_', '_', '_', '_', '_']\n",
      "['_', '_', '_', '_', '_', '_']\n",
      "['_', '_', '_', '_', '_', '_']\n",
      "['_', '_', '_', '_', '_', '_']\n",
      "['_', '_', '_', '_', '_', '_']\n",
      "['_', '_', '_', '_', '_', '_']\n",
      "['_', '_', '_', '_', '_', '_']\n",
      "['_', '_', '_', '_', '_', '_']\n",
      "['_', '_', '_', '_', '_', '_']\n",
      "['_', '_', '_', '_', '_', '_']\n",
      "['_', '_', '_', '_', '_', '_']\n",
      "['_', '_', '_', '_', '_', '_']\n",
      "['_', '_', '_', '_', '_', '_']\n",
      "['_', '_', '_', '_', '_', '_']\n",
      "['_', '_', '_', '_', '_', '_']\n",
      "['_', '_', '_', '_', '_', '_']\n",
      "['_', '_', '_', '_', '_', '_']\n",
      "['_', '_', '_', '_', '_', '_']\n",
      "['_', '_', '_', '_', '_', '_']\n",
      "['_', '_', '_', '_', '_', '_']\n",
      "['_', '_', '_', '_', '_', '_']\n",
      "['_', '_', '_', '_', '_', '_']\n",
      "['_', '_', '_', '_', '_', '_']\n",
      "['_', '_', '_', '_', '_', '_']\n",
      "['_', '_', '_', '_', '_', '_']\n",
      "['_', '_', '_', '_', '_', '_']\n",
      "['_', '_', '_', '_', '_', '_']\n",
      "['_', '_', '_', '_', '_', '_']\n",
      "['_', '_', '_', '_', '_', '_']\n",
      "['_', '_', '_', '_', '_', '_']\n",
      "['_', '_', '_', '_', '_', '_']\n",
      "['_', '_', '_', '_', '_', '_']\n",
      "['_', '_', '_', '_', '_', '_']\n",
      "['_', '_', '_', '_', '_', '_']\n",
      "['_', '_', '_', '_', '_', '_']\n",
      "['_', '_', '_', '_', '_', '_']\n",
      "['_', '_', '_', '_', '_', '_']\n",
      "['_', '_', '_', '_', '_', '_']\n",
      "['_', '_', '_', '_', '_', '_']\n",
      "['_', '_', '_', '_', '_', '_']\n",
      "['_', '_', '_', '_', '_', '_']\n",
      "['_', '_', '_', '_', '_', '_']\n",
      "['_', '_', '_', '_', '_', '_']\n",
      "['_', '_', '_', '_', '_', '_']\n",
      "['_', '_', '_', '_', '_', '_']\n"
     ]
    },
    {
     "data": {
      "text/plain": [
       "['_', '_', '_', '_', '_', '_']"
      ]
     },
     "execution_count": 48,
     "metadata": {},
     "output_type": "execute_result"
    }
   ],
   "source": [
    "lst_input_sec = df_sec_edgar_data.values.tolist()\n",
    "\n",
    "tempdf1 = pd.DataFrame()\n",
    "tmeplist2 = []\n",
    "counter = 0\n",
    "temp_list = []\n",
    "blank = '_'    \n",
    "\n",
    "for i in range((lst_input_sec[-1][1] - lst_input_sec[0][1]).seconds+1):\n",
    "    temp_list[i*1] = blank\n",
    "    \n",
    "    for row in lst_input_sec:\n",
    "#         if counter >= 0:\n",
    "#             counter == 1\n",
    "        for line in temp_list:    \n",
    "            if row[1] == lst_input_sec[0][1] + datetime.timedelta(seconds=i):\n",
    "                print(temp_list)\n",
    "                #                 line[0] = [row[0]] \n",
    "#                 line[1+i] = 1 \n",
    "\n",
    "\n",
    "#                 >>> import pandas as pd\n",
    "# >>> list=[['a','b']]\n",
    "# >>> list.append(['e','f'])\n",
    "# >>> df=pd.DataFrame(list,columns=['col1','col2'])\n",
    "#    col1 col2\n",
    "# 0    a    b\n",
    "# 1    e    f\n",
    "\n",
    "#         else:\n",
    "#             if row[1] == lst_input_sec[0][1]:\n",
    "#                 counter+=1\n",
    "#                 tempdf1['ip'] = lst_input_sec[0]\n",
    "#                 tempdf1[i+1] = 1\n",
    "\n",
    "temp_list"
   ]
  },
  {
   "cell_type": "code",
   "execution_count": 10,
   "metadata": {},
   "outputs": [
    {
     "ename": "SyntaxError",
     "evalue": "unexpected EOF while parsing (<ipython-input-10-7efc666f484f>, line 2)",
     "output_type": "error",
     "traceback": [
      "\u001b[0;36m  File \u001b[0;32m\"<ipython-input-10-7efc666f484f>\"\u001b[0;36m, line \u001b[0;32m2\u001b[0m\n\u001b[0;31m    if row[0] == '101.81.133.jja':\u001b[0m\n\u001b[0m                                  ^\u001b[0m\n\u001b[0;31mSyntaxError\u001b[0m\u001b[0;31m:\u001b[0m unexpected EOF while parsing\n"
     ]
    }
   ],
   "source": [
    "for row in lst_input_sec:\n",
    "    if row[0] == '101.81.133.jja':\n",
    "\n"
   ]
  },
  {
   "cell_type": "code",
   "execution_count": 47,
   "metadata": {},
   "outputs": [
    {
     "data": {
      "text/plain": [
       "[['101.81.133.jja',\n",
       "  Timestamp('2017-06-30 00:00:00'),\n",
       "  '1608552.0|0001047469-17-004337|-index.htm'],\n",
       " ['107.23.85.jfd',\n",
       "  Timestamp('2017-06-30 00:00:00'),\n",
       "  '1027281.0|0000898430-02-001167|-index.htm'],\n",
       " ['107.23.85.jfd',\n",
       "  Timestamp('2017-06-30 00:00:00'),\n",
       "  '1136894.0|0000905148-07-003827|-index.htm'],\n",
       " ['107.23.85.jfd',\n",
       "  Timestamp('2017-06-30 00:00:01'),\n",
       "  '841535.0|0000841535-98-000002|-index.html'],\n",
       " ['108.91.91.hbc',\n",
       "  Timestamp('2017-06-30 00:00:01'),\n",
       "  '1295391.0|0001209784-17-000052|.txt'],\n",
       " ['106.120.173.jie',\n",
       "  Timestamp('2017-06-30 00:00:02'),\n",
       "  '1470683.0|0001144204-14-046448|v385454_20fa.htm'],\n",
       " ['107.178.195.aag',\n",
       "  Timestamp('2017-06-30 00:00:02'),\n",
       "  '1068124.0|0000350001-15-000854|-xbrl.zip'],\n",
       " ['107.23.85.jfd',\n",
       "  Timestamp('2017-06-30 00:00:03'),\n",
       "  '842814.0|0000842814-98-000001|-index.html'],\n",
       " ['107.178.195.aag',\n",
       "  Timestamp('2017-06-30 00:00:04'),\n",
       "  '1068124.0|0000350001-15-000731|-xbrl.zip'],\n",
       " ['108.91.91.hbc',\n",
       "  Timestamp('2017-06-30 00:00:04'),\n",
       "  '1618174.0|0001140361-17-026711|.txt']]"
      ]
     },
     "execution_count": 47,
     "metadata": {},
     "output_type": "execute_result"
    }
   ],
   "source": [
    "lst_input_sec"
   ]
  },
  {
   "cell_type": "code",
   "execution_count": null,
   "metadata": {},
   "outputs": [],
   "source": [
    "lst_input_sec = df_sec_edgar_data.values.tolist()\n",
    "templist1 = []\n",
    "tmeplist2 = []\n",
    "counter = 0\n",
    "\n",
    "for i in range((lst_input_sec[-1][1] - lst_input_sec[0][1]).seconds+1):\n",
    "    if counter == 0:\n",
    "        counter += 1\n",
    "        for row in lst_input_sec:\n",
    "            if row[1] == lst_input_sec[0][1]:\n",
    "                templist1.append([row[0], 1])\n",
    "\n",
    "\n",
    "    else:\n",
    "\n",
    "#     new1_df = pd.DataFrame()\n",
    "        counter+=1\n",
    "        print(counter)\n",
    "        df2['ip'] = df_sec_edgar_data['ip'][df_sec_edgar_data['date_time'] == df_sec_edgar_data['date_time'].iloc[0] + datetime.timedelta(seconds=i)]\n",
    "        df2[i] = 1\n",
    "        #print('df2 here{}'.format(df2))\n",
    "        df2 = df2.groupby(\"ip\",sort=True).sum().reset_index()\n",
    "        print(df2)\n",
    "\n",
    "        df1 = pd.merge(df1, df2, 'outer').copy()\n",
    "df_new"
   ]
  },
  {
   "cell_type": "code",
   "execution_count": 10,
   "metadata": {},
   "outputs": [
    {
     "data": {
      "text/html": [
       "<div>\n",
       "<style scoped>\n",
       "    .dataframe tbody tr th:only-of-type {\n",
       "        vertical-align: middle;\n",
       "    }\n",
       "\n",
       "    .dataframe tbody tr th {\n",
       "        vertical-align: top;\n",
       "    }\n",
       "\n",
       "    .dataframe thead th {\n",
       "        text-align: right;\n",
       "    }\n",
       "</style>\n",
       "<table border=\"1\" class=\"dataframe\">\n",
       "  <thead>\n",
       "    <tr style=\"text-align: right;\">\n",
       "      <th></th>\n",
       "      <th>index</th>\n",
       "      <th>1 second</th>\n",
       "    </tr>\n",
       "  </thead>\n",
       "  <tbody>\n",
       "    <tr>\n",
       "      <th>3</th>\n",
       "      <td>107.23.85.jfd</td>\n",
       "      <td>2017-06-30 00:00:01</td>\n",
       "    </tr>\n",
       "    <tr>\n",
       "      <th>4</th>\n",
       "      <td>108.91.91.hbc</td>\n",
       "      <td>2017-06-30 00:00:01</td>\n",
       "    </tr>\n",
       "  </tbody>\n",
       "</table>\n",
       "</div>"
      ],
      "text/plain": [
       "           index            1 second\n",
       "3  107.23.85.jfd 2017-06-30 00:00:01\n",
       "4  108.91.91.hbc 2017-06-30 00:00:01"
      ]
     },
     "execution_count": 10,
     "metadata": {},
     "output_type": "execute_result"
    }
   ],
   "source": [
    "new1_df = pd.DataFrame()\n",
    "\n",
    "new1_df['index'] = df_sec_edgar_data['ip'][df_sec_edgar_data['date_time'] == df_sec_edgar_data['date_time'].iloc[3]]\n",
    "\n",
    "new1_df['1 second'] = df_sec_edgar_data['date_time'][df_sec_edgar_data['date_time'] == df_sec_edgar_data['date_time'].iloc[3]]\n",
    "new1_df"
   ]
  },
  {
   "cell_type": "code",
   "execution_count": 138,
   "metadata": {},
   "outputs": [
    {
     "data": {
      "text/plain": [
       "list"
      ]
     },
     "execution_count": 138,
     "metadata": {},
     "output_type": "execute_result"
    }
   ],
   "source": [
    " type(list(df_sec_edgar_data['ip'][df_sec_edgar_data['date_time'] == df_sec_edgar_data['date_time'].iloc[3]]))"
   ]
  },
  {
   "cell_type": "code",
   "execution_count": null,
   "metadata": {},
   "outputs": [],
   "source": []
  },
  {
   "cell_type": "markdown",
   "metadata": {},
   "source": [
    "#### df_sec_edgar_data['date_time'].iloc[0] + datetime.timedelta(seconds=1)"
   ]
  },
  {
   "cell_type": "code",
   "execution_count": 66,
   "metadata": {},
   "outputs": [
    {
     "ename": "KeyError",
     "evalue": "\"None of [['108.91.91.hbc', Timestamp('2017-06-30 00:00:04'), '108.91.91.hbc|2017-06-30 00:00:04', '1618174.0|0001140361-17-026711|.txt|108.91.91.hbc|2017-06-30 00:00:04']] are in the [index]\"",
     "output_type": "error",
     "traceback": [
      "\u001b[0;31m---------------------------------------------------------------------------\u001b[0m",
      "\u001b[0;31mKeyError\u001b[0m                                  Traceback (most recent call last)",
      "\u001b[0;32m<ipython-input-66-5444b187ff53>\u001b[0m in \u001b[0;36m<module>\u001b[0;34m()\u001b[0m\n\u001b[0;32m----> 1\u001b[0;31m \u001b[0mdf_sec_edgar_data\u001b[0m\u001b[0;34m[\u001b[0m\u001b[0;34m'date_time'\u001b[0m\u001b[0;34m]\u001b[0m\u001b[0;34m[\u001b[0m\u001b[0mline\u001b[0m\u001b[0;34m]\u001b[0m \u001b[0;34m-\u001b[0m \u001b[0mdatetime\u001b[0m\u001b[0;34m.\u001b[0m\u001b[0mtimedelta\u001b[0m\u001b[0;34m(\u001b[0m\u001b[0mseconds\u001b[0m\u001b[0;34m=\u001b[0m\u001b[0;36m9333\u001b[0m\u001b[0;34m)\u001b[0m\u001b[0;34m\u001b[0m\u001b[0m\n\u001b[0m",
      "\u001b[0;32m~/anaconda3/lib/python3.6/site-packages/pandas/core/series.py\u001b[0m in \u001b[0;36m__getitem__\u001b[0;34m(self, key)\u001b[0m\n\u001b[1;32m    662\u001b[0m             \u001b[0mkey\u001b[0m \u001b[0;34m=\u001b[0m \u001b[0mcheck_bool_indexer\u001b[0m\u001b[0;34m(\u001b[0m\u001b[0mself\u001b[0m\u001b[0;34m.\u001b[0m\u001b[0mindex\u001b[0m\u001b[0;34m,\u001b[0m \u001b[0mkey\u001b[0m\u001b[0;34m)\u001b[0m\u001b[0;34m\u001b[0m\u001b[0m\n\u001b[1;32m    663\u001b[0m \u001b[0;34m\u001b[0m\u001b[0m\n\u001b[0;32m--> 664\u001b[0;31m         \u001b[0;32mreturn\u001b[0m \u001b[0mself\u001b[0m\u001b[0;34m.\u001b[0m\u001b[0m_get_with\u001b[0m\u001b[0;34m(\u001b[0m\u001b[0mkey\u001b[0m\u001b[0;34m)\u001b[0m\u001b[0;34m\u001b[0m\u001b[0m\n\u001b[0m\u001b[1;32m    665\u001b[0m \u001b[0;34m\u001b[0m\u001b[0m\n\u001b[1;32m    666\u001b[0m     \u001b[0;32mdef\u001b[0m \u001b[0m_get_with\u001b[0m\u001b[0;34m(\u001b[0m\u001b[0mself\u001b[0m\u001b[0;34m,\u001b[0m \u001b[0mkey\u001b[0m\u001b[0;34m)\u001b[0m\u001b[0;34m:\u001b[0m\u001b[0;34m\u001b[0m\u001b[0m\n",
      "\u001b[0;32m~/anaconda3/lib/python3.6/site-packages/pandas/core/series.py\u001b[0m in \u001b[0;36m_get_with\u001b[0;34m(self, key)\u001b[0m\n\u001b[1;32m    703\u001b[0m                     \u001b[0;31m# handle the dup indexing case (GH 4246)\u001b[0m\u001b[0;34m\u001b[0m\u001b[0;34m\u001b[0m\u001b[0m\n\u001b[1;32m    704\u001b[0m                     \u001b[0;32mif\u001b[0m \u001b[0misinstance\u001b[0m\u001b[0;34m(\u001b[0m\u001b[0mkey\u001b[0m\u001b[0;34m,\u001b[0m \u001b[0;34m(\u001b[0m\u001b[0mlist\u001b[0m\u001b[0;34m,\u001b[0m \u001b[0mtuple\u001b[0m\u001b[0;34m)\u001b[0m\u001b[0;34m)\u001b[0m\u001b[0;34m:\u001b[0m\u001b[0;34m\u001b[0m\u001b[0m\n\u001b[0;32m--> 705\u001b[0;31m                         \u001b[0;32mreturn\u001b[0m \u001b[0mself\u001b[0m\u001b[0;34m.\u001b[0m\u001b[0mloc\u001b[0m\u001b[0;34m[\u001b[0m\u001b[0mkey\u001b[0m\u001b[0;34m]\u001b[0m\u001b[0;34m\u001b[0m\u001b[0m\n\u001b[0m\u001b[1;32m    706\u001b[0m \u001b[0;34m\u001b[0m\u001b[0m\n\u001b[1;32m    707\u001b[0m                     \u001b[0;32mreturn\u001b[0m \u001b[0mself\u001b[0m\u001b[0;34m.\u001b[0m\u001b[0mreindex\u001b[0m\u001b[0;34m(\u001b[0m\u001b[0mkey\u001b[0m\u001b[0;34m)\u001b[0m\u001b[0;34m\u001b[0m\u001b[0m\n",
      "\u001b[0;32m~/anaconda3/lib/python3.6/site-packages/pandas/core/indexing.py\u001b[0m in \u001b[0;36m__getitem__\u001b[0;34m(self, key)\u001b[0m\n\u001b[1;32m   1371\u001b[0m \u001b[0;34m\u001b[0m\u001b[0m\n\u001b[1;32m   1372\u001b[0m             \u001b[0mmaybe_callable\u001b[0m \u001b[0;34m=\u001b[0m \u001b[0mcom\u001b[0m\u001b[0;34m.\u001b[0m\u001b[0m_apply_if_callable\u001b[0m\u001b[0;34m(\u001b[0m\u001b[0mkey\u001b[0m\u001b[0;34m,\u001b[0m \u001b[0mself\u001b[0m\u001b[0;34m.\u001b[0m\u001b[0mobj\u001b[0m\u001b[0;34m)\u001b[0m\u001b[0;34m\u001b[0m\u001b[0m\n\u001b[0;32m-> 1373\u001b[0;31m             \u001b[0;32mreturn\u001b[0m \u001b[0mself\u001b[0m\u001b[0;34m.\u001b[0m\u001b[0m_getitem_axis\u001b[0m\u001b[0;34m(\u001b[0m\u001b[0mmaybe_callable\u001b[0m\u001b[0;34m,\u001b[0m \u001b[0maxis\u001b[0m\u001b[0;34m=\u001b[0m\u001b[0maxis\u001b[0m\u001b[0;34m)\u001b[0m\u001b[0;34m\u001b[0m\u001b[0m\n\u001b[0m\u001b[1;32m   1374\u001b[0m \u001b[0;34m\u001b[0m\u001b[0m\n\u001b[1;32m   1375\u001b[0m     \u001b[0;32mdef\u001b[0m \u001b[0m_is_scalar_access\u001b[0m\u001b[0;34m(\u001b[0m\u001b[0mself\u001b[0m\u001b[0;34m,\u001b[0m \u001b[0mkey\u001b[0m\u001b[0;34m)\u001b[0m\u001b[0;34m:\u001b[0m\u001b[0;34m\u001b[0m\u001b[0m\n",
      "\u001b[0;32m~/anaconda3/lib/python3.6/site-packages/pandas/core/indexing.py\u001b[0m in \u001b[0;36m_getitem_axis\u001b[0;34m(self, key, axis)\u001b[0m\n\u001b[1;32m   1614\u001b[0m                     \u001b[0;32mraise\u001b[0m \u001b[0mValueError\u001b[0m\u001b[0;34m(\u001b[0m\u001b[0;34m'Cannot index with multidimensional key'\u001b[0m\u001b[0;34m)\u001b[0m\u001b[0;34m\u001b[0m\u001b[0m\n\u001b[1;32m   1615\u001b[0m \u001b[0;34m\u001b[0m\u001b[0m\n\u001b[0;32m-> 1616\u001b[0;31m                 \u001b[0;32mreturn\u001b[0m \u001b[0mself\u001b[0m\u001b[0;34m.\u001b[0m\u001b[0m_getitem_iterable\u001b[0m\u001b[0;34m(\u001b[0m\u001b[0mkey\u001b[0m\u001b[0;34m,\u001b[0m \u001b[0maxis\u001b[0m\u001b[0;34m=\u001b[0m\u001b[0maxis\u001b[0m\u001b[0;34m)\u001b[0m\u001b[0;34m\u001b[0m\u001b[0m\n\u001b[0m\u001b[1;32m   1617\u001b[0m \u001b[0;34m\u001b[0m\u001b[0m\n\u001b[1;32m   1618\u001b[0m             \u001b[0;31m# nested tuple slicing\u001b[0m\u001b[0;34m\u001b[0m\u001b[0;34m\u001b[0m\u001b[0m\n",
      "\u001b[0;32m~/anaconda3/lib/python3.6/site-packages/pandas/core/indexing.py\u001b[0m in \u001b[0;36m_getitem_iterable\u001b[0;34m(self, key, axis)\u001b[0m\n\u001b[1;32m   1113\u001b[0m \u001b[0;34m\u001b[0m\u001b[0m\n\u001b[1;32m   1114\u001b[0m         \u001b[0;32mif\u001b[0m \u001b[0mself\u001b[0m\u001b[0;34m.\u001b[0m\u001b[0m_should_validate_iterable\u001b[0m\u001b[0;34m(\u001b[0m\u001b[0maxis\u001b[0m\u001b[0;34m)\u001b[0m\u001b[0;34m:\u001b[0m\u001b[0;34m\u001b[0m\u001b[0m\n\u001b[0;32m-> 1115\u001b[0;31m             \u001b[0mself\u001b[0m\u001b[0;34m.\u001b[0m\u001b[0m_has_valid_type\u001b[0m\u001b[0;34m(\u001b[0m\u001b[0mkey\u001b[0m\u001b[0;34m,\u001b[0m \u001b[0maxis\u001b[0m\u001b[0;34m)\u001b[0m\u001b[0;34m\u001b[0m\u001b[0m\n\u001b[0m\u001b[1;32m   1116\u001b[0m \u001b[0;34m\u001b[0m\u001b[0m\n\u001b[1;32m   1117\u001b[0m         \u001b[0mlabels\u001b[0m \u001b[0;34m=\u001b[0m \u001b[0mself\u001b[0m\u001b[0;34m.\u001b[0m\u001b[0mobj\u001b[0m\u001b[0;34m.\u001b[0m\u001b[0m_get_axis\u001b[0m\u001b[0;34m(\u001b[0m\u001b[0maxis\u001b[0m\u001b[0;34m)\u001b[0m\u001b[0;34m\u001b[0m\u001b[0m\n",
      "\u001b[0;32m~/anaconda3/lib/python3.6/site-packages/pandas/core/indexing.py\u001b[0m in \u001b[0;36m_has_valid_type\u001b[0;34m(self, key, axis)\u001b[0m\n\u001b[1;32m   1470\u001b[0m                         raise KeyError(\n\u001b[1;32m   1471\u001b[0m                             u\"None of [{key}] are in the [{axis}]\".format(\n\u001b[0;32m-> 1472\u001b[0;31m                                 key=key, axis=self.obj._get_axis_name(axis)))\n\u001b[0m\u001b[1;32m   1473\u001b[0m                     \u001b[0;32melse\u001b[0m\u001b[0;34m:\u001b[0m\u001b[0;34m\u001b[0m\u001b[0m\n\u001b[1;32m   1474\u001b[0m \u001b[0;34m\u001b[0m\u001b[0m\n",
      "\u001b[0;31mKeyError\u001b[0m: \"None of [['108.91.91.hbc', Timestamp('2017-06-30 00:00:04'), '108.91.91.hbc|2017-06-30 00:00:04', '1618174.0|0001140361-17-026711|.txt|108.91.91.hbc|2017-06-30 00:00:04']] are in the [index]\""
     ]
    }
   ],
   "source": [
    " df_sec_edgar_data['date_time'][line] - datetime.timedelta(seconds=9333)"
   ]
  },
  {
   "cell_type": "code",
   "execution_count": 61,
   "metadata": {},
   "outputs": [
    {
     "data": {
      "text/plain": [
       "pandas._libs.tslib.Timestamp"
      ]
     },
     "execution_count": 61,
     "metadata": {},
     "output_type": "execute_result"
    }
   ],
   "source": [
    "type(df_sec_edgar_data['date_time'].iloc[0])"
   ]
  },
  {
   "cell_type": "code",
   "execution_count": 173,
   "metadata": {},
   "outputs": [
    {
     "name": "stdout",
     "output_type": "stream",
     "text": [
      "ddd\n"
     ]
    }
   ],
   "source": [
    "for if df_sec_edgar_data['date_time'][1] in df_sec_edgar_data['date_time'][2:].values:\n",
    "    print('d')\n",
    "else:\n",
    "    print('ddd')"
   ]
  },
  {
   "cell_type": "code",
   "execution_count": 174,
   "metadata": {},
   "outputs": [
    {
     "name": "stdout",
     "output_type": "stream",
     "text": [
      "2017-06-30 00:00:00\n"
     ]
    }
   ],
   "source": [
    "print(df_sec_edgar_data['date_time'][0])"
   ]
  },
  {
   "cell_type": "code",
   "execution_count": 131,
   "metadata": {},
   "outputs": [
    {
     "data": {
      "text/html": [
       "<div>\n",
       "<style scoped>\n",
       "    .dataframe tbody tr th:only-of-type {\n",
       "        vertical-align: middle;\n",
       "    }\n",
       "\n",
       "    .dataframe tbody tr th {\n",
       "        vertical-align: top;\n",
       "    }\n",
       "\n",
       "    .dataframe thead th {\n",
       "        text-align: right;\n",
       "    }\n",
       "</style>\n",
       "<table border=\"1\" class=\"dataframe\">\n",
       "  <thead>\n",
       "    <tr style=\"text-align: right;\">\n",
       "      <th></th>\n",
       "      <th>ip</th>\n",
       "      <th>date_time</th>\n",
       "      <th>unique_ip_time</th>\n",
       "      <th>unique_id</th>\n",
       "    </tr>\n",
       "  </thead>\n",
       "  <tbody>\n",
       "    <tr>\n",
       "      <th>0</th>\n",
       "      <td>101.81.133.jja</td>\n",
       "      <td>2017-06-30 00:00:00</td>\n",
       "      <td>101.81.133.jja|2017-06-30 00:00:00</td>\n",
       "      <td>1608552.0|0001047469-17-004337|-index.htm|101....</td>\n",
       "    </tr>\n",
       "    <tr>\n",
       "      <th>1</th>\n",
       "      <td>107.23.85.jfd</td>\n",
       "      <td>2017-06-30 00:00:00</td>\n",
       "      <td>107.23.85.jfd|2017-06-30 00:00:00</td>\n",
       "      <td>1027281.0|0000898430-02-001167|-index.htm|107....</td>\n",
       "    </tr>\n",
       "    <tr>\n",
       "      <th>2</th>\n",
       "      <td>107.23.85.jfd</td>\n",
       "      <td>2017-06-30 00:00:00</td>\n",
       "      <td>107.23.85.jfd|2017-06-30 00:00:00</td>\n",
       "      <td>1136894.0|0000905148-07-003827|-index.htm|107....</td>\n",
       "    </tr>\n",
       "    <tr>\n",
       "      <th>3</th>\n",
       "      <td>107.23.85.jfd</td>\n",
       "      <td>2017-06-30 00:00:01</td>\n",
       "      <td>107.23.85.jfd|2017-06-30 00:00:01</td>\n",
       "      <td>841535.0|0000841535-98-000002|-index.html|107....</td>\n",
       "    </tr>\n",
       "    <tr>\n",
       "      <th>4</th>\n",
       "      <td>108.91.91.hbc</td>\n",
       "      <td>2017-06-30 00:00:01</td>\n",
       "      <td>108.91.91.hbc|2017-06-30 00:00:01</td>\n",
       "      <td>1295391.0|0001209784-17-000052|.txt|108.91.91....</td>\n",
       "    </tr>\n",
       "    <tr>\n",
       "      <th>5</th>\n",
       "      <td>106.120.173.jie</td>\n",
       "      <td>2017-06-30 00:00:02</td>\n",
       "      <td>106.120.173.jie|2017-06-30 00:00:02</td>\n",
       "      <td>1470683.0|0001144204-14-046448|v385454_20fa.ht...</td>\n",
       "    </tr>\n",
       "    <tr>\n",
       "      <th>6</th>\n",
       "      <td>107.178.195.aag</td>\n",
       "      <td>2017-06-30 00:00:02</td>\n",
       "      <td>107.178.195.aag|2017-06-30 00:00:02</td>\n",
       "      <td>1068124.0|0000350001-15-000854|-xbrl.zip|107.1...</td>\n",
       "    </tr>\n",
       "    <tr>\n",
       "      <th>7</th>\n",
       "      <td>107.23.85.jfd</td>\n",
       "      <td>2017-06-30 00:00:03</td>\n",
       "      <td>107.23.85.jfd|2017-06-30 00:00:03</td>\n",
       "      <td>842814.0|0000842814-98-000001|-index.html|107....</td>\n",
       "    </tr>\n",
       "    <tr>\n",
       "      <th>8</th>\n",
       "      <td>107.178.195.aag</td>\n",
       "      <td>2017-06-30 00:00:04</td>\n",
       "      <td>107.178.195.aag|2017-06-30 00:00:04</td>\n",
       "      <td>1068124.0|0000350001-15-000731|-xbrl.zip|107.1...</td>\n",
       "    </tr>\n",
       "    <tr>\n",
       "      <th>9</th>\n",
       "      <td>108.91.91.hbc</td>\n",
       "      <td>2017-06-30 00:00:04</td>\n",
       "      <td>108.91.91.hbc|2017-06-30 00:00:04</td>\n",
       "      <td>1618174.0|0001140361-17-026711|.txt|108.91.91....</td>\n",
       "    </tr>\n",
       "  </tbody>\n",
       "</table>\n",
       "</div>"
      ],
      "text/plain": [
       "                ip           date_time                       unique_ip_time  \\\n",
       "0   101.81.133.jja 2017-06-30 00:00:00   101.81.133.jja|2017-06-30 00:00:00   \n",
       "1    107.23.85.jfd 2017-06-30 00:00:00    107.23.85.jfd|2017-06-30 00:00:00   \n",
       "2    107.23.85.jfd 2017-06-30 00:00:00    107.23.85.jfd|2017-06-30 00:00:00   \n",
       "3    107.23.85.jfd 2017-06-30 00:00:01    107.23.85.jfd|2017-06-30 00:00:01   \n",
       "4    108.91.91.hbc 2017-06-30 00:00:01    108.91.91.hbc|2017-06-30 00:00:01   \n",
       "5  106.120.173.jie 2017-06-30 00:00:02  106.120.173.jie|2017-06-30 00:00:02   \n",
       "6  107.178.195.aag 2017-06-30 00:00:02  107.178.195.aag|2017-06-30 00:00:02   \n",
       "7    107.23.85.jfd 2017-06-30 00:00:03    107.23.85.jfd|2017-06-30 00:00:03   \n",
       "8  107.178.195.aag 2017-06-30 00:00:04  107.178.195.aag|2017-06-30 00:00:04   \n",
       "9    108.91.91.hbc 2017-06-30 00:00:04    108.91.91.hbc|2017-06-30 00:00:04   \n",
       "\n",
       "                                           unique_id  \n",
       "0  1608552.0|0001047469-17-004337|-index.htm|101....  \n",
       "1  1027281.0|0000898430-02-001167|-index.htm|107....  \n",
       "2  1136894.0|0000905148-07-003827|-index.htm|107....  \n",
       "3  841535.0|0000841535-98-000002|-index.html|107....  \n",
       "4  1295391.0|0001209784-17-000052|.txt|108.91.91....  \n",
       "5  1470683.0|0001144204-14-046448|v385454_20fa.ht...  \n",
       "6  1068124.0|0000350001-15-000854|-xbrl.zip|107.1...  \n",
       "7  842814.0|0000842814-98-000001|-index.html|107....  \n",
       "8  1068124.0|0000350001-15-000731|-xbrl.zip|107.1...  \n",
       "9  1618174.0|0001140361-17-026711|.txt|108.91.91....  "
      ]
     },
     "execution_count": 131,
     "metadata": {},
     "output_type": "execute_result"
    }
   ],
   "source": [
    "second_df = df_sec_edgar_data.copy()\n",
    "second_df"
   ]
  },
  {
   "cell_type": "code",
   "execution_count": 132,
   "metadata": {},
   "outputs": [
    {
     "data": {
      "text/plain": [
       "1    107.23.85.jfd\n",
       "Name: ip, dtype: object"
      ]
     },
     "execution_count": 132,
     "metadata": {},
     "output_type": "execute_result"
    }
   ],
   "source": [
    "second_df['ip'].iloc[1:2]"
   ]
  },
  {
   "cell_type": "code",
   "execution_count": 103,
   "metadata": {},
   "outputs": [
    {
     "data": {
      "text/html": [
       "<div>\n",
       "<style scoped>\n",
       "    .dataframe tbody tr th:only-of-type {\n",
       "        vertical-align: middle;\n",
       "    }\n",
       "\n",
       "    .dataframe tbody tr th {\n",
       "        vertical-align: top;\n",
       "    }\n",
       "\n",
       "    .dataframe thead th {\n",
       "        text-align: right;\n",
       "    }\n",
       "</style>\n",
       "<table border=\"1\" class=\"dataframe\">\n",
       "  <thead>\n",
       "    <tr style=\"text-align: right;\">\n",
       "      <th></th>\n",
       "      <th>ip</th>\n",
       "      <th>date_time</th>\n",
       "      <th>unique_id</th>\n",
       "    </tr>\n",
       "  </thead>\n",
       "  <tbody>\n",
       "    <tr>\n",
       "      <th>9</th>\n",
       "      <td>101.81.133.jja</td>\n",
       "      <td>2017-06-30 00:00:00</td>\n",
       "      <td>101.81.133.jja|1608552.0|0001047469-17-004337|...</td>\n",
       "    </tr>\n",
       "  </tbody>\n",
       "</table>\n",
       "</div>"
      ],
      "text/plain": [
       "               ip            date_time  \\\n",
       "9  101.81.133.jja  2017-06-30 00:00:00   \n",
       "\n",
       "                                           unique_id  \n",
       "9  101.81.133.jja|1608552.0|0001047469-17-004337|...  "
      ]
     },
     "execution_count": 103,
     "metadata": {},
     "output_type": "execute_result"
    }
   ],
   "source": [
    "new_df = pd.DataFrame()\n",
    "new_df[i1] = (df_sec_edgar_data.iloc[0])\n",
    "new_df = new_df.T\n",
    "new_df"
   ]
  },
  {
   "cell_type": "code",
   "execution_count": 104,
   "metadata": {},
   "outputs": [
    {
     "data": {
      "text/html": [
       "<div>\n",
       "<style scoped>\n",
       "    .dataframe tbody tr th:only-of-type {\n",
       "        vertical-align: middle;\n",
       "    }\n",
       "\n",
       "    .dataframe tbody tr th {\n",
       "        vertical-align: top;\n",
       "    }\n",
       "\n",
       "    .dataframe thead th {\n",
       "        text-align: right;\n",
       "    }\n",
       "</style>\n",
       "<table border=\"1\" class=\"dataframe\">\n",
       "  <thead>\n",
       "    <tr style=\"text-align: right;\">\n",
       "      <th></th>\n",
       "      <th>ip</th>\n",
       "      <th>date_time</th>\n",
       "      <th>unique_id</th>\n",
       "      <th>duration</th>\n",
       "    </tr>\n",
       "  </thead>\n",
       "  <tbody>\n",
       "    <tr>\n",
       "      <th>9</th>\n",
       "      <td>101.81.133.jja</td>\n",
       "      <td>2017-06-30 00:00:00</td>\n",
       "      <td>101.81.133.jja|1608552.0|0001047469-17-004337|...</td>\n",
       "      <td>1</td>\n",
       "    </tr>\n",
       "  </tbody>\n",
       "</table>\n",
       "</div>"
      ],
      "text/plain": [
       "               ip            date_time  \\\n",
       "9  101.81.133.jja  2017-06-30 00:00:00   \n",
       "\n",
       "                                           unique_id  duration  \n",
       "9  101.81.133.jja|1608552.0|0001047469-17-004337|...         1  "
      ]
     },
     "execution_count": 104,
     "metadata": {},
     "output_type": "execute_result"
    }
   ],
   "source": [
    "for i in new_df:\n",
    "    new_df['duration'] = 1\n",
    "new_df\n",
    "\n",
    "\n",
    "\n",
    ">>> dt = datetime.datetime(2011, 10, 21, 0, 0)\n",
    ">>> s = time.mktime(dt.timetuple())\n",
    ">>> s\n",
    "1319148000.0\n"
   ]
  },
  {
   "cell_type": "code",
   "execution_count": 152,
   "metadata": {},
   "outputs": [
    {
     "ename": "IndexError",
     "evalue": "tuple index out of range",
     "output_type": "error",
     "traceback": [
      "\u001b[0;31m---------------------------------------------------------------------------\u001b[0m",
      "\u001b[0;31mIndexError\u001b[0m                                Traceback (most recent call last)",
      "\u001b[0;32m<ipython-input-152-e1abd3b875e6>\u001b[0m in \u001b[0;36m<module>\u001b[0;34m()\u001b[0m\n\u001b[1;32m      1\u001b[0m \u001b[0;32mfor\u001b[0m \u001b[0mrow\u001b[0m \u001b[0;32min\u001b[0m \u001b[0mdf_sec_edgar_data\u001b[0m\u001b[0;34m.\u001b[0m\u001b[0miterrows\u001b[0m\u001b[0;34m(\u001b[0m\u001b[0;34m)\u001b[0m\u001b[0;34m:\u001b[0m\u001b[0;34m\u001b[0m\u001b[0m\n\u001b[0;32m----> 2\u001b[0;31m     \u001b[0mprint\u001b[0m\u001b[0;34m(\u001b[0m\u001b[0mrow\u001b[0m\u001b[0;34m[\u001b[0m\u001b[0;36m2\u001b[0m\u001b[0;34m]\u001b[0m\u001b[0;34m)\u001b[0m\u001b[0;34m\u001b[0m\u001b[0m\n\u001b[0m",
      "\u001b[0;31mIndexError\u001b[0m: tuple index out of range"
     ]
    }
   ],
   "source": []
  },
  {
   "cell_type": "code",
   "execution_count": 185,
   "metadata": {},
   "outputs": [
    {
     "ename": "KeyError",
     "evalue": "0",
     "output_type": "error",
     "traceback": [
      "\u001b[0;31m---------------------------------------------------------------------------\u001b[0m",
      "\u001b[0;31mKeyError\u001b[0m                                  Traceback (most recent call last)",
      "\u001b[0;32m~/anaconda3/lib/python3.6/site-packages/pandas/core/indexes/base.py\u001b[0m in \u001b[0;36mget_loc\u001b[0;34m(self, key, method, tolerance)\u001b[0m\n\u001b[1;32m   2524\u001b[0m             \u001b[0;32mtry\u001b[0m\u001b[0;34m:\u001b[0m\u001b[0;34m\u001b[0m\u001b[0m\n\u001b[0;32m-> 2525\u001b[0;31m                 \u001b[0;32mreturn\u001b[0m \u001b[0mself\u001b[0m\u001b[0;34m.\u001b[0m\u001b[0m_engine\u001b[0m\u001b[0;34m.\u001b[0m\u001b[0mget_loc\u001b[0m\u001b[0;34m(\u001b[0m\u001b[0mkey\u001b[0m\u001b[0;34m)\u001b[0m\u001b[0;34m\u001b[0m\u001b[0m\n\u001b[0m\u001b[1;32m   2526\u001b[0m             \u001b[0;32mexcept\u001b[0m \u001b[0mKeyError\u001b[0m\u001b[0;34m:\u001b[0m\u001b[0;34m\u001b[0m\u001b[0m\n",
      "\u001b[0;32mpandas/_libs/index.pyx\u001b[0m in \u001b[0;36mpandas._libs.index.IndexEngine.get_loc\u001b[0;34m()\u001b[0m\n",
      "\u001b[0;32mpandas/_libs/index.pyx\u001b[0m in \u001b[0;36mpandas._libs.index.IndexEngine.get_loc\u001b[0;34m()\u001b[0m\n",
      "\u001b[0;32mpandas/_libs/hashtable_class_helper.pxi\u001b[0m in \u001b[0;36mpandas._libs.hashtable.Int64HashTable.get_item\u001b[0;34m()\u001b[0m\n",
      "\u001b[0;32mpandas/_libs/hashtable_class_helper.pxi\u001b[0m in \u001b[0;36mpandas._libs.hashtable.Int64HashTable.get_item\u001b[0;34m()\u001b[0m\n",
      "\u001b[0;31mKeyError\u001b[0m: 0",
      "\nDuring handling of the above exception, another exception occurred:\n",
      "\u001b[0;31mKeyError\u001b[0m                                  Traceback (most recent call last)",
      "\u001b[0;32m<ipython-input-185-cbe38ad36763>\u001b[0m in \u001b[0;36m<module>\u001b[0;34m()\u001b[0m\n\u001b[1;32m      4\u001b[0m     \u001b[0;32mif\u001b[0m \u001b[0mdf_sec_edgar_data\u001b[0m\u001b[0;34m[\u001b[0m\u001b[0;34m'unique_ip_time'\u001b[0m\u001b[0;34m]\u001b[0m\u001b[0;34m[\u001b[0m\u001b[0mi1\u001b[0m\u001b[0;34m]\u001b[0m \u001b[0;32min\u001b[0m \u001b[0mdf_sec_edgar_data\u001b[0m\u001b[0;34m[\u001b[0m\u001b[0;34m'unique_ip_time'\u001b[0m\u001b[0;34m]\u001b[0m\u001b[0;34m[\u001b[0m\u001b[0mi1\u001b[0m\u001b[0;34m+\u001b[0m\u001b[0;36m1\u001b[0m\u001b[0;34m:\u001b[0m\u001b[0;34m-\u001b[0m\u001b[0;36m1\u001b[0m\u001b[0;34m]\u001b[0m\u001b[0;34m.\u001b[0m\u001b[0mvalues\u001b[0m\u001b[0;34m:\u001b[0m\u001b[0;34m\u001b[0m\u001b[0m\n\u001b[1;32m      5\u001b[0m         \u001b[0mnew_df\u001b[0m\u001b[0;34m[\u001b[0m\u001b[0mi1\u001b[0m\u001b[0;34m]\u001b[0m \u001b[0;34m=\u001b[0m \u001b[0mdf_sec_edgar_data\u001b[0m\u001b[0;34m.\u001b[0m\u001b[0miloc\u001b[0m\u001b[0;34m[\u001b[0m\u001b[0mi1\u001b[0m\u001b[0;34m]\u001b[0m\u001b[0;34m\u001b[0m\u001b[0m\n\u001b[0;32m----> 6\u001b[0;31m         \u001b[0mnew_df\u001b[0m\u001b[0;34m[\u001b[0m\u001b[0;36m0\u001b[0m\u001b[0;34m]\u001b[0m\u001b[0;34m[\u001b[0m\u001b[0;36m4\u001b[0m\u001b[0;34m]\u001b[0m \u001b[0;34m=\u001b[0m \u001b[0;36m2\u001b[0m\u001b[0;34m-\u001b[0m\u001b[0;36m0\u001b[0m\u001b[0;34m\u001b[0m\u001b[0m\n\u001b[0m\u001b[1;32m      7\u001b[0m \u001b[0;34m\u001b[0m\u001b[0m\n\u001b[1;32m      8\u001b[0m \u001b[0;34m\u001b[0m\u001b[0m\n",
      "\u001b[0;32m~/anaconda3/lib/python3.6/site-packages/pandas/core/frame.py\u001b[0m in \u001b[0;36m__getitem__\u001b[0;34m(self, key)\u001b[0m\n\u001b[1;32m   2137\u001b[0m             \u001b[0;32mreturn\u001b[0m \u001b[0mself\u001b[0m\u001b[0;34m.\u001b[0m\u001b[0m_getitem_multilevel\u001b[0m\u001b[0;34m(\u001b[0m\u001b[0mkey\u001b[0m\u001b[0;34m)\u001b[0m\u001b[0;34m\u001b[0m\u001b[0m\n\u001b[1;32m   2138\u001b[0m         \u001b[0;32melse\u001b[0m\u001b[0;34m:\u001b[0m\u001b[0;34m\u001b[0m\u001b[0m\n\u001b[0;32m-> 2139\u001b[0;31m             \u001b[0;32mreturn\u001b[0m \u001b[0mself\u001b[0m\u001b[0;34m.\u001b[0m\u001b[0m_getitem_column\u001b[0m\u001b[0;34m(\u001b[0m\u001b[0mkey\u001b[0m\u001b[0;34m)\u001b[0m\u001b[0;34m\u001b[0m\u001b[0m\n\u001b[0m\u001b[1;32m   2140\u001b[0m \u001b[0;34m\u001b[0m\u001b[0m\n\u001b[1;32m   2141\u001b[0m     \u001b[0;32mdef\u001b[0m \u001b[0m_getitem_column\u001b[0m\u001b[0;34m(\u001b[0m\u001b[0mself\u001b[0m\u001b[0;34m,\u001b[0m \u001b[0mkey\u001b[0m\u001b[0;34m)\u001b[0m\u001b[0;34m:\u001b[0m\u001b[0;34m\u001b[0m\u001b[0m\n",
      "\u001b[0;32m~/anaconda3/lib/python3.6/site-packages/pandas/core/frame.py\u001b[0m in \u001b[0;36m_getitem_column\u001b[0;34m(self, key)\u001b[0m\n\u001b[1;32m   2144\u001b[0m         \u001b[0;31m# get column\u001b[0m\u001b[0;34m\u001b[0m\u001b[0;34m\u001b[0m\u001b[0m\n\u001b[1;32m   2145\u001b[0m         \u001b[0;32mif\u001b[0m \u001b[0mself\u001b[0m\u001b[0;34m.\u001b[0m\u001b[0mcolumns\u001b[0m\u001b[0;34m.\u001b[0m\u001b[0mis_unique\u001b[0m\u001b[0;34m:\u001b[0m\u001b[0;34m\u001b[0m\u001b[0m\n\u001b[0;32m-> 2146\u001b[0;31m             \u001b[0;32mreturn\u001b[0m \u001b[0mself\u001b[0m\u001b[0;34m.\u001b[0m\u001b[0m_get_item_cache\u001b[0m\u001b[0;34m(\u001b[0m\u001b[0mkey\u001b[0m\u001b[0;34m)\u001b[0m\u001b[0;34m\u001b[0m\u001b[0m\n\u001b[0m\u001b[1;32m   2147\u001b[0m \u001b[0;34m\u001b[0m\u001b[0m\n\u001b[1;32m   2148\u001b[0m         \u001b[0;31m# duplicate columns & possible reduce dimensionality\u001b[0m\u001b[0;34m\u001b[0m\u001b[0;34m\u001b[0m\u001b[0m\n",
      "\u001b[0;32m~/anaconda3/lib/python3.6/site-packages/pandas/core/generic.py\u001b[0m in \u001b[0;36m_get_item_cache\u001b[0;34m(self, item)\u001b[0m\n\u001b[1;32m   1840\u001b[0m         \u001b[0mres\u001b[0m \u001b[0;34m=\u001b[0m \u001b[0mcache\u001b[0m\u001b[0;34m.\u001b[0m\u001b[0mget\u001b[0m\u001b[0;34m(\u001b[0m\u001b[0mitem\u001b[0m\u001b[0;34m)\u001b[0m\u001b[0;34m\u001b[0m\u001b[0m\n\u001b[1;32m   1841\u001b[0m         \u001b[0;32mif\u001b[0m \u001b[0mres\u001b[0m \u001b[0;32mis\u001b[0m \u001b[0;32mNone\u001b[0m\u001b[0;34m:\u001b[0m\u001b[0;34m\u001b[0m\u001b[0m\n\u001b[0;32m-> 1842\u001b[0;31m             \u001b[0mvalues\u001b[0m \u001b[0;34m=\u001b[0m \u001b[0mself\u001b[0m\u001b[0;34m.\u001b[0m\u001b[0m_data\u001b[0m\u001b[0;34m.\u001b[0m\u001b[0mget\u001b[0m\u001b[0;34m(\u001b[0m\u001b[0mitem\u001b[0m\u001b[0;34m)\u001b[0m\u001b[0;34m\u001b[0m\u001b[0m\n\u001b[0m\u001b[1;32m   1843\u001b[0m             \u001b[0mres\u001b[0m \u001b[0;34m=\u001b[0m \u001b[0mself\u001b[0m\u001b[0;34m.\u001b[0m\u001b[0m_box_item_values\u001b[0m\u001b[0;34m(\u001b[0m\u001b[0mitem\u001b[0m\u001b[0;34m,\u001b[0m \u001b[0mvalues\u001b[0m\u001b[0;34m)\u001b[0m\u001b[0;34m\u001b[0m\u001b[0m\n\u001b[1;32m   1844\u001b[0m             \u001b[0mcache\u001b[0m\u001b[0;34m[\u001b[0m\u001b[0mitem\u001b[0m\u001b[0;34m]\u001b[0m \u001b[0;34m=\u001b[0m \u001b[0mres\u001b[0m\u001b[0;34m\u001b[0m\u001b[0m\n",
      "\u001b[0;32m~/anaconda3/lib/python3.6/site-packages/pandas/core/internals.py\u001b[0m in \u001b[0;36mget\u001b[0;34m(self, item, fastpath)\u001b[0m\n\u001b[1;32m   3841\u001b[0m \u001b[0;34m\u001b[0m\u001b[0m\n\u001b[1;32m   3842\u001b[0m             \u001b[0;32mif\u001b[0m \u001b[0;32mnot\u001b[0m \u001b[0misna\u001b[0m\u001b[0;34m(\u001b[0m\u001b[0mitem\u001b[0m\u001b[0;34m)\u001b[0m\u001b[0;34m:\u001b[0m\u001b[0;34m\u001b[0m\u001b[0m\n\u001b[0;32m-> 3843\u001b[0;31m                 \u001b[0mloc\u001b[0m \u001b[0;34m=\u001b[0m \u001b[0mself\u001b[0m\u001b[0;34m.\u001b[0m\u001b[0mitems\u001b[0m\u001b[0;34m.\u001b[0m\u001b[0mget_loc\u001b[0m\u001b[0;34m(\u001b[0m\u001b[0mitem\u001b[0m\u001b[0;34m)\u001b[0m\u001b[0;34m\u001b[0m\u001b[0m\n\u001b[0m\u001b[1;32m   3844\u001b[0m             \u001b[0;32melse\u001b[0m\u001b[0;34m:\u001b[0m\u001b[0;34m\u001b[0m\u001b[0m\n\u001b[1;32m   3845\u001b[0m                 \u001b[0mindexer\u001b[0m \u001b[0;34m=\u001b[0m \u001b[0mnp\u001b[0m\u001b[0;34m.\u001b[0m\u001b[0marange\u001b[0m\u001b[0;34m(\u001b[0m\u001b[0mlen\u001b[0m\u001b[0;34m(\u001b[0m\u001b[0mself\u001b[0m\u001b[0;34m.\u001b[0m\u001b[0mitems\u001b[0m\u001b[0;34m)\u001b[0m\u001b[0;34m)\u001b[0m\u001b[0;34m[\u001b[0m\u001b[0misna\u001b[0m\u001b[0;34m(\u001b[0m\u001b[0mself\u001b[0m\u001b[0;34m.\u001b[0m\u001b[0mitems\u001b[0m\u001b[0;34m)\u001b[0m\u001b[0;34m]\u001b[0m\u001b[0;34m\u001b[0m\u001b[0m\n",
      "\u001b[0;32m~/anaconda3/lib/python3.6/site-packages/pandas/core/indexes/base.py\u001b[0m in \u001b[0;36mget_loc\u001b[0;34m(self, key, method, tolerance)\u001b[0m\n\u001b[1;32m   2525\u001b[0m                 \u001b[0;32mreturn\u001b[0m \u001b[0mself\u001b[0m\u001b[0;34m.\u001b[0m\u001b[0m_engine\u001b[0m\u001b[0;34m.\u001b[0m\u001b[0mget_loc\u001b[0m\u001b[0;34m(\u001b[0m\u001b[0mkey\u001b[0m\u001b[0;34m)\u001b[0m\u001b[0;34m\u001b[0m\u001b[0m\n\u001b[1;32m   2526\u001b[0m             \u001b[0;32mexcept\u001b[0m \u001b[0mKeyError\u001b[0m\u001b[0;34m:\u001b[0m\u001b[0;34m\u001b[0m\u001b[0m\n\u001b[0;32m-> 2527\u001b[0;31m                 \u001b[0;32mreturn\u001b[0m \u001b[0mself\u001b[0m\u001b[0;34m.\u001b[0m\u001b[0m_engine\u001b[0m\u001b[0;34m.\u001b[0m\u001b[0mget_loc\u001b[0m\u001b[0;34m(\u001b[0m\u001b[0mself\u001b[0m\u001b[0;34m.\u001b[0m\u001b[0m_maybe_cast_indexer\u001b[0m\u001b[0;34m(\u001b[0m\u001b[0mkey\u001b[0m\u001b[0;34m)\u001b[0m\u001b[0;34m)\u001b[0m\u001b[0;34m\u001b[0m\u001b[0m\n\u001b[0m\u001b[1;32m   2528\u001b[0m \u001b[0;34m\u001b[0m\u001b[0m\n\u001b[1;32m   2529\u001b[0m         \u001b[0mindexer\u001b[0m \u001b[0;34m=\u001b[0m \u001b[0mself\u001b[0m\u001b[0;34m.\u001b[0m\u001b[0mget_indexer\u001b[0m\u001b[0;34m(\u001b[0m\u001b[0;34m[\u001b[0m\u001b[0mkey\u001b[0m\u001b[0;34m]\u001b[0m\u001b[0;34m,\u001b[0m \u001b[0mmethod\u001b[0m\u001b[0;34m=\u001b[0m\u001b[0mmethod\u001b[0m\u001b[0;34m,\u001b[0m \u001b[0mtolerance\u001b[0m\u001b[0;34m=\u001b[0m\u001b[0mtolerance\u001b[0m\u001b[0;34m)\u001b[0m\u001b[0;34m\u001b[0m\u001b[0m\n",
      "\u001b[0;32mpandas/_libs/index.pyx\u001b[0m in \u001b[0;36mpandas._libs.index.IndexEngine.get_loc\u001b[0;34m()\u001b[0m\n",
      "\u001b[0;32mpandas/_libs/index.pyx\u001b[0m in \u001b[0;36mpandas._libs.index.IndexEngine.get_loc\u001b[0;34m()\u001b[0m\n",
      "\u001b[0;32mpandas/_libs/hashtable_class_helper.pxi\u001b[0m in \u001b[0;36mpandas._libs.hashtable.Int64HashTable.get_item\u001b[0;34m()\u001b[0m\n",
      "\u001b[0;32mpandas/_libs/hashtable_class_helper.pxi\u001b[0m in \u001b[0;36mpandas._libs.hashtable.Int64HashTable.get_item\u001b[0;34m()\u001b[0m\n",
      "\u001b[0;31mKeyError\u001b[0m: 0"
     ]
    }
   ],
   "source": [
    "new_df = pd.DataFrame()\n",
    "for i1 in range(len(df_sec_edgar_data)):\n",
    "#     for i2 in range(len(df_sec_edgar_data[1:])):\n",
    "    if df_sec_edgar_data['unique_ip_time'][i1] in df_sec_edgar_data['unique_ip_time'][i1+1:-1].values:\n",
    "        new_df[i1] = df_sec_edgar_data.iloc[i1]\n",
    "        \n",
    "\n",
    "        \n",
    "new_df = new_df.T\n",
    "new_df          \n",
    "\n",
    "        \n",
    "            \n",
    "\n",
    "            #new_df['duration'].iloc[i1:i1+1] #ADD COLUMN INDICATING DURATION 1 SECOND AND JUST 1 VISIT\n",
    "#         else:\n",
    "#             new_df[i1] = (df_sec_edgar_data.iloc[i2])\n",
    "\n",
    "\n",
    "\n",
    "        #print('no')\n",
    "#         new_df[i] = (df_sec_edgar_data.iloc[i][0:2])\n",
    "#         for second_df['ip'][i] == second_df['ip'][i+1:].values:\n",
    "            \n",
    "            \n",
    "#         datetime.timedelta(seconds=2\n",
    "#         new_df = new_df.Tnew_df['stop_time'] = new_df['date_time']\n",
    "#         new_df['stop_time'] = new_df['date_time'] - \n",
    "#     else:\n",
    "#         new_df[i] = (df_sec_edgar_data.iloc[i][0:2]) # switch 0 with i\n",
    "#         new_df = new_df.T\n",
    "#         new_df['stop_time'] = new_df['date_time']\n",
    "        "
   ]
  },
  {
   "cell_type": "code",
   "execution_count": 6,
   "metadata": {},
   "outputs": [
    {
     "data": {
      "text/plain": [
       "[['101.81.133.jja',\n",
       "  Timestamp('2017-06-30 00:00:00'),\n",
       "  '101.81.133.jja|2017-06-30 00:00:00',\n",
       "  '1608552.0|0001047469-17-004337|-index.htm|101.81.133.jja|2017-06-30 00:00:00'],\n",
       " ['107.23.85.jfd',\n",
       "  Timestamp('2017-06-30 00:00:00'),\n",
       "  '107.23.85.jfd|2017-06-30 00:00:00',\n",
       "  '1027281.0|0000898430-02-001167|-index.htm|107.23.85.jfd|2017-06-30 00:00:00'],\n",
       " ['107.23.85.jfd',\n",
       "  Timestamp('2017-06-30 00:00:00'),\n",
       "  '107.23.85.jfd|2017-06-30 00:00:00',\n",
       "  '1136894.0|0000905148-07-003827|-index.htm|107.23.85.jfd|2017-06-30 00:00:00'],\n",
       " ['107.23.85.jfd',\n",
       "  Timestamp('2017-06-30 00:00:01'),\n",
       "  '107.23.85.jfd|2017-06-30 00:00:01',\n",
       "  '841535.0|0000841535-98-000002|-index.html|107.23.85.jfd|2017-06-30 00:00:01'],\n",
       " ['108.91.91.hbc',\n",
       "  Timestamp('2017-06-30 00:00:01'),\n",
       "  '108.91.91.hbc|2017-06-30 00:00:01',\n",
       "  '1295391.0|0001209784-17-000052|.txt|108.91.91.hbc|2017-06-30 00:00:01'],\n",
       " ['106.120.173.jie',\n",
       "  Timestamp('2017-06-30 00:00:02'),\n",
       "  '106.120.173.jie|2017-06-30 00:00:02',\n",
       "  '1470683.0|0001144204-14-046448|v385454_20fa.htm|106.120.173.jie|2017-06-30 00:00:02'],\n",
       " ['107.178.195.aag',\n",
       "  Timestamp('2017-06-30 00:00:02'),\n",
       "  '107.178.195.aag|2017-06-30 00:00:02',\n",
       "  '1068124.0|0000350001-15-000854|-xbrl.zip|107.178.195.aag|2017-06-30 00:00:02'],\n",
       " ['107.23.85.jfd',\n",
       "  Timestamp('2017-06-30 00:00:03'),\n",
       "  '107.23.85.jfd|2017-06-30 00:00:03',\n",
       "  '842814.0|0000842814-98-000001|-index.html|107.23.85.jfd|2017-06-30 00:00:03'],\n",
       " ['107.178.195.aag',\n",
       "  Timestamp('2017-06-30 00:00:04'),\n",
       "  '107.178.195.aag|2017-06-30 00:00:04',\n",
       "  '1068124.0|0000350001-15-000731|-xbrl.zip|107.178.195.aag|2017-06-30 00:00:04'],\n",
       " ['108.91.91.hbc',\n",
       "  Timestamp('2017-06-30 00:00:04'),\n",
       "  '108.91.91.hbc|2017-06-30 00:00:04',\n",
       "  '1618174.0|0001140361-17-026711|.txt|108.91.91.hbc|2017-06-30 00:00:04']]"
      ]
     },
     "execution_count": 6,
     "metadata": {},
     "output_type": "execute_result"
    }
   ],
   "source": [
    "sec_list = df_sec_edgar_data.values.tolist()\n",
    "sec_list"
   ]
  },
  {
   "cell_type": "code",
   "execution_count": 9,
   "metadata": {},
   "outputs": [
    {
     "data": {
      "text/plain": [
       "[['101.81.133.jja',\n",
       "  Timestamp('2017-06-30 00:00:00'),\n",
       "  '101.81.133.jja|2017-06-30 00:00:00',\n",
       "  '1608552.0|0001047469-17-004337|-index.htm|101.81.133.jja|2017-06-30 00:00:00'],\n",
       " ['107.23.85.jfd',\n",
       "  Timestamp('2017-06-30 00:00:00'),\n",
       "  '107.23.85.jfd|2017-06-30 00:00:00',\n",
       "  '1027281.0|0000898430-02-001167|-index.htm|107.23.85.jfd|2017-06-30 00:00:00'],\n",
       " ['107.23.85.jfd',\n",
       "  Timestamp('2017-06-30 00:00:00'),\n",
       "  '107.23.85.jfd|2017-06-30 00:00:00',\n",
       "  '1136894.0|0000905148-07-003827|-index.htm|107.23.85.jfd|2017-06-30 00:00:00'],\n",
       " ['107.23.85.jfd',\n",
       "  Timestamp('2017-06-30 00:00:01'),\n",
       "  '107.23.85.jfd|2017-06-30 00:00:01',\n",
       "  '841535.0|0000841535-98-000002|-index.html|107.23.85.jfd|2017-06-30 00:00:01'],\n",
       " ['108.91.91.hbc',\n",
       "  Timestamp('2017-06-30 00:00:01'),\n",
       "  '108.91.91.hbc|2017-06-30 00:00:01',\n",
       "  '1295391.0|0001209784-17-000052|.txt|108.91.91.hbc|2017-06-30 00:00:01'],\n",
       " ['106.120.173.jie',\n",
       "  Timestamp('2017-06-30 00:00:02'),\n",
       "  '106.120.173.jie|2017-06-30 00:00:02',\n",
       "  '1470683.0|0001144204-14-046448|v385454_20fa.htm|106.120.173.jie|2017-06-30 00:00:02'],\n",
       " ['107.178.195.aag',\n",
       "  Timestamp('2017-06-30 00:00:02'),\n",
       "  '107.178.195.aag|2017-06-30 00:00:02',\n",
       "  '1068124.0|0000350001-15-000854|-xbrl.zip|107.178.195.aag|2017-06-30 00:00:02'],\n",
       " ['107.23.85.jfd',\n",
       "  Timestamp('2017-06-30 00:00:03'),\n",
       "  '107.23.85.jfd|2017-06-30 00:00:03',\n",
       "  '842814.0|0000842814-98-000001|-index.html|107.23.85.jfd|2017-06-30 00:00:03'],\n",
       " ['107.178.195.aag',\n",
       "  Timestamp('2017-06-30 00:00:04'),\n",
       "  '107.178.195.aag|2017-06-30 00:00:04',\n",
       "  '1068124.0|0000350001-15-000731|-xbrl.zip|107.178.195.aag|2017-06-30 00:00:04'],\n",
       " ['108.91.91.hbc',\n",
       "  Timestamp('2017-06-30 00:00:04'),\n",
       "  '108.91.91.hbc|2017-06-30 00:00:04',\n",
       "  '1618174.0|0001140361-17-026711|.txt|108.91.91.hbc|2017-06-30 00:00:04']]"
      ]
     },
     "execution_count": 9,
     "metadata": {},
     "output_type": "execute_result"
    }
   ],
   "source": [
    "import copy\n",
    "copy_sec_list = copy.deepcopy(sec_list)\n",
    "copy_sec_list"
   ]
  },
  {
   "cell_type": "code",
   "execution_count": 196,
   "metadata": {},
   "outputs": [
    {
     "data": {
      "text/plain": [
       "Timestamp('2017-06-30 00:00:00')"
      ]
     },
     "execution_count": 196,
     "metadata": {},
     "output_type": "execute_result"
    }
   ],
   "source": [
    "copy_sec_list[1][1]"
   ]
  },
  {
   "cell_type": "code",
   "execution_count": 39,
   "metadata": {},
   "outputs": [
    {
     "data": {
      "text/plain": [
       "[]"
      ]
     },
     "execution_count": 39,
     "metadata": {},
     "output_type": "execute_result"
    }
   ],
   "source": [
    "# final_list = ['_', '_', '_', '_', '_', '_']\n",
    "final_list = []\n",
    "final_list"
   ]
  },
  {
   "cell_type": "code",
   "execution_count": 46,
   "metadata": {},
   "outputs": [
    {
     "data": {
      "text/plain": [
       "[[['107.23.85.jfd',\n",
       "   Timestamp('2017-06-30 00:00:01'),\n",
       "   '107.23.85.jfd|2017-06-30 00:00:01',\n",
       "   '841535.0|0000841535-98-000002|-index.html|107.23.85.jfd|2017-06-30 00:00:01'],\n",
       "  1,\n",
       "  1],\n",
       " [['108.91.91.hbc',\n",
       "   Timestamp('2017-06-30 00:00:01'),\n",
       "   '108.91.91.hbc|2017-06-30 00:00:01',\n",
       "   '1295391.0|0001209784-17-000052|.txt|108.91.91.hbc|2017-06-30 00:00:01'],\n",
       "  1,\n",
       "  1],\n",
       " [['106.120.173.jie',\n",
       "   Timestamp('2017-06-30 00:00:02'),\n",
       "   '106.120.173.jie|2017-06-30 00:00:02',\n",
       "   '1470683.0|0001144204-14-046448|v385454_20fa.htm|106.120.173.jie|2017-06-30 00:00:02'],\n",
       "  1,\n",
       "  1],\n",
       " [['107.178.195.aag',\n",
       "   Timestamp('2017-06-30 00:00:02'),\n",
       "   '107.178.195.aag|2017-06-30 00:00:02',\n",
       "   '1068124.0|0000350001-15-000854|-xbrl.zip|107.178.195.aag|2017-06-30 00:00:02'],\n",
       "  1,\n",
       "  1],\n",
       " [['107.23.85.jfd',\n",
       "   Timestamp('2017-06-30 00:00:03'),\n",
       "   '107.23.85.jfd|2017-06-30 00:00:03',\n",
       "   '842814.0|0000842814-98-000001|-index.html|107.23.85.jfd|2017-06-30 00:00:03'],\n",
       "  1,\n",
       "  1],\n",
       " [['107.178.195.aag',\n",
       "   Timestamp('2017-06-30 00:00:04'),\n",
       "   '107.178.195.aag|2017-06-30 00:00:04',\n",
       "   '1068124.0|0000350001-15-000731|-xbrl.zip|107.178.195.aag|2017-06-30 00:00:04'],\n",
       "  1,\n",
       "  1],\n",
       " [['108.91.91.hbc',\n",
       "   Timestamp('2017-06-30 00:00:04'),\n",
       "   '108.91.91.hbc|2017-06-30 00:00:04',\n",
       "   '1618174.0|0001140361-17-026711|.txt|108.91.91.hbc|2017-06-30 00:00:04'],\n",
       "  1,\n",
       "  1],\n",
       " [['101.81.133.jja',\n",
       "   Timestamp('2017-06-30 00:00:00'),\n",
       "   '101.81.133.jja|2017-06-30 00:00:00',\n",
       "   '1608552.0|0001047469-17-004337|-index.htm|101.81.133.jja|2017-06-30 00:00:00'],\n",
       "  1,\n",
       "  1],\n",
       " [['107.23.85.jfd',\n",
       "   Timestamp('2017-06-30 00:00:00'),\n",
       "   '107.23.85.jfd|2017-06-30 00:00:00',\n",
       "   '1027281.0|0000898430-02-001167|-index.htm|107.23.85.jfd|2017-06-30 00:00:00'],\n",
       "  1,\n",
       "  1],\n",
       " [['107.23.85.jfd',\n",
       "   Timestamp('2017-06-30 00:00:00'),\n",
       "   '107.23.85.jfd|2017-06-30 00:00:00',\n",
       "   '1136894.0|0000905148-07-003827|-index.htm|107.23.85.jfd|2017-06-30 00:00:00'],\n",
       "  1,\n",
       "  1],\n",
       " [['107.23.85.jfd',\n",
       "   Timestamp('2017-06-30 00:00:01'),\n",
       "   '107.23.85.jfd|2017-06-30 00:00:01',\n",
       "   '841535.0|0000841535-98-000002|-index.html|107.23.85.jfd|2017-06-30 00:00:01'],\n",
       "  1,\n",
       "  1],\n",
       " [['108.91.91.hbc',\n",
       "   Timestamp('2017-06-30 00:00:01'),\n",
       "   '108.91.91.hbc|2017-06-30 00:00:01',\n",
       "   '1295391.0|0001209784-17-000052|.txt|108.91.91.hbc|2017-06-30 00:00:01'],\n",
       "  1,\n",
       "  1],\n",
       " [['106.120.173.jie',\n",
       "   Timestamp('2017-06-30 00:00:02'),\n",
       "   '106.120.173.jie|2017-06-30 00:00:02',\n",
       "   '1470683.0|0001144204-14-046448|v385454_20fa.htm|106.120.173.jie|2017-06-30 00:00:02'],\n",
       "  1,\n",
       "  1],\n",
       " [['107.178.195.aag',\n",
       "   Timestamp('2017-06-30 00:00:02'),\n",
       "   '107.178.195.aag|2017-06-30 00:00:02',\n",
       "   '1068124.0|0000350001-15-000854|-xbrl.zip|107.178.195.aag|2017-06-30 00:00:02'],\n",
       "  1,\n",
       "  1],\n",
       " [['107.23.85.jfd',\n",
       "   Timestamp('2017-06-30 00:00:03'),\n",
       "   '107.23.85.jfd|2017-06-30 00:00:03',\n",
       "   '842814.0|0000842814-98-000001|-index.html|107.23.85.jfd|2017-06-30 00:00:03'],\n",
       "  1,\n",
       "  1],\n",
       " [['107.178.195.aag',\n",
       "   Timestamp('2017-06-30 00:00:04'),\n",
       "   '107.178.195.aag|2017-06-30 00:00:04',\n",
       "   '1068124.0|0000350001-15-000731|-xbrl.zip|107.178.195.aag|2017-06-30 00:00:04'],\n",
       "  1,\n",
       "  1],\n",
       " [['108.91.91.hbc',\n",
       "   Timestamp('2017-06-30 00:00:04'),\n",
       "   '108.91.91.hbc|2017-06-30 00:00:04',\n",
       "   '1618174.0|0001140361-17-026711|.txt|108.91.91.hbc|2017-06-30 00:00:04'],\n",
       "  1,\n",
       "  1],\n",
       " [['101.81.133.jja',\n",
       "   Timestamp('2017-06-30 00:00:00'),\n",
       "   '101.81.133.jja|2017-06-30 00:00:00',\n",
       "   '1608552.0|0001047469-17-004337|-index.htm|101.81.133.jja|2017-06-30 00:00:00'],\n",
       "  1,\n",
       "  1],\n",
       " [['107.23.85.jfd',\n",
       "   Timestamp('2017-06-30 00:00:00'),\n",
       "   '107.23.85.jfd|2017-06-30 00:00:00',\n",
       "   '1027281.0|0000898430-02-001167|-index.htm|107.23.85.jfd|2017-06-30 00:00:00'],\n",
       "  1,\n",
       "  1],\n",
       " [['107.23.85.jfd',\n",
       "   Timestamp('2017-06-30 00:00:01'),\n",
       "   '107.23.85.jfd|2017-06-30 00:00:01',\n",
       "   '841535.0|0000841535-98-000002|-index.html|107.23.85.jfd|2017-06-30 00:00:01'],\n",
       "  1,\n",
       "  1],\n",
       " [['106.120.173.jie',\n",
       "   Timestamp('2017-06-30 00:00:02'),\n",
       "   '106.120.173.jie|2017-06-30 00:00:02',\n",
       "   '1470683.0|0001144204-14-046448|v385454_20fa.htm|106.120.173.jie|2017-06-30 00:00:02'],\n",
       "  1,\n",
       "  1],\n",
       " [['107.178.195.aag',\n",
       "   Timestamp('2017-06-30 00:00:04'),\n",
       "   '107.178.195.aag|2017-06-30 00:00:04',\n",
       "   '1068124.0|0000350001-15-000731|-xbrl.zip|107.178.195.aag|2017-06-30 00:00:04'],\n",
       "  1,\n",
       "  1],\n",
       " [['101.81.133.jja',\n",
       "   Timestamp('2017-06-30 00:00:00'),\n",
       "   '101.81.133.jja|2017-06-30 00:00:00',\n",
       "   '1608552.0|0001047469-17-004337|-index.htm|101.81.133.jja|2017-06-30 00:00:00'],\n",
       "  1,\n",
       "  1],\n",
       " [['107.23.85.jfd',\n",
       "   Timestamp('2017-06-30 00:00:00'),\n",
       "   '107.23.85.jfd|2017-06-30 00:00:00',\n",
       "   '1027281.0|0000898430-02-001167|-index.htm|107.23.85.jfd|2017-06-30 00:00:00'],\n",
       "  1,\n",
       "  1],\n",
       " [['107.23.85.jfd',\n",
       "   Timestamp('2017-06-30 00:00:00'),\n",
       "   '107.23.85.jfd|2017-06-30 00:00:00',\n",
       "   '1136894.0|0000905148-07-003827|-index.htm|107.23.85.jfd|2017-06-30 00:00:00'],\n",
       "  1,\n",
       "  1],\n",
       " [['107.23.85.jfd',\n",
       "   Timestamp('2017-06-30 00:00:01'),\n",
       "   '107.23.85.jfd|2017-06-30 00:00:01',\n",
       "   '841535.0|0000841535-98-000002|-index.html|107.23.85.jfd|2017-06-30 00:00:01'],\n",
       "  1,\n",
       "  1],\n",
       " [['108.91.91.hbc',\n",
       "   Timestamp('2017-06-30 00:00:01'),\n",
       "   '108.91.91.hbc|2017-06-30 00:00:01',\n",
       "   '1295391.0|0001209784-17-000052|.txt|108.91.91.hbc|2017-06-30 00:00:01'],\n",
       "  1,\n",
       "  1],\n",
       " [['106.120.173.jie',\n",
       "   Timestamp('2017-06-30 00:00:02'),\n",
       "   '106.120.173.jie|2017-06-30 00:00:02',\n",
       "   '1470683.0|0001144204-14-046448|v385454_20fa.htm|106.120.173.jie|2017-06-30 00:00:02'],\n",
       "  1,\n",
       "  1],\n",
       " [['107.178.195.aag',\n",
       "   Timestamp('2017-06-30 00:00:02'),\n",
       "   '107.178.195.aag|2017-06-30 00:00:02',\n",
       "   '1068124.0|0000350001-15-000854|-xbrl.zip|107.178.195.aag|2017-06-30 00:00:02'],\n",
       "  1,\n",
       "  1],\n",
       " [['107.23.85.jfd',\n",
       "   Timestamp('2017-06-30 00:00:03'),\n",
       "   '107.23.85.jfd|2017-06-30 00:00:03',\n",
       "   '842814.0|0000842814-98-000001|-index.html|107.23.85.jfd|2017-06-30 00:00:03'],\n",
       "  1,\n",
       "  1],\n",
       " [['107.178.195.aag',\n",
       "   Timestamp('2017-06-30 00:00:04'),\n",
       "   '107.178.195.aag|2017-06-30 00:00:04',\n",
       "   '1068124.0|0000350001-15-000731|-xbrl.zip|107.178.195.aag|2017-06-30 00:00:04'],\n",
       "  1,\n",
       "  1],\n",
       " [['108.91.91.hbc',\n",
       "   Timestamp('2017-06-30 00:00:04'),\n",
       "   '108.91.91.hbc|2017-06-30 00:00:04',\n",
       "   '1618174.0|0001140361-17-026711|.txt|108.91.91.hbc|2017-06-30 00:00:04'],\n",
       "  1,\n",
       "  1]]"
      ]
     },
     "execution_count": 46,
     "metadata": {},
     "output_type": "execute_result"
    }
   ],
   "source": [
    "for num, row in enumerate(sec_list):\n",
    "    if row[1] == copy_sec_list[num][1]:\n",
    "            final_list.append([row, 1, 1])\n",
    "#             final_list[4] = 1#add column with 1 in it for duration\n",
    "#             final_list[5] = 1#add column with 1 in it for number of visits\n",
    "    #         elif row[1] == copy_sec_list[1][1]:\n",
    "#             final_list.append(row)\n",
    "final_list\n",
    "            "
   ]
  },
  {
   "cell_type": "code",
   "execution_count": 37,
   "metadata": {},
   "outputs": [
    {
     "data": {
      "text/plain": [
       "Timestamp('2017-06-30 00:00:00')"
      ]
     },
     "execution_count": 37,
     "metadata": {},
     "output_type": "execute_result"
    }
   ],
   "source": [
    "copy_sec_list[1][1]"
   ]
  },
  {
   "cell_type": "code",
   "execution_count": 215,
   "metadata": {},
   "outputs": [
    {
     "ename": "SyntaxError",
     "evalue": "invalid syntax (<ipython-input-215-eaa13e03d873>, line 5)",
     "output_type": "error",
     "traceback": [
      "\u001b[0;36m  File \u001b[0;32m\"<ipython-input-215-eaa13e03d873>\"\u001b[0;36m, line \u001b[0;32m5\u001b[0m\n\u001b[0;31m    for second_df['ip'][i] == second_df['ip'][i+1:].values:\u001b[0m\n\u001b[0m                            ^\u001b[0m\n\u001b[0;31mSyntaxError\u001b[0m\u001b[0;31m:\u001b[0m invalid syntax\n"
     ]
    }
   ],
   "source": [
    "new_df = pd.DataFrame()\n",
    "for i in range(len(df_sec_edgar_data)):\n",
    "    if df_sec_edgar_data['ip'][i] in second_df['ip'][i+1:].values: #switch 0 with i\n",
    "        new_df[i] = (df_sec_edgar_data.iloc[i][0:2])\n",
    "        for second_df['ip'][i] == second_df['ip'][i+1:].values:\n",
    "            \n",
    "            \n",
    "        datetime.timedelta(seconds=2\n",
    "        new_df = new_df.T\n",
    "        new_df['stop_time'] = new_df['date_time']\n",
    "        new_df['stop_time'] = new_df['date_time'] - \n",
    "    else:\n",
    "        new_df[i] = (df_sec_edgar_data.iloc[i][0:2]) # switch 0 with i\n",
    "        new_df = new_df.T\n",
    "        new_df['stop_time'] = new_df['date_time']\n",
    "        \n",
    "\n",
    "\n",
    "new_df"
   ]
  },
  {
   "cell_type": "code",
   "execution_count": 5,
   "metadata": {},
   "outputs": [
    {
     "name": "stdout",
     "output_type": "stream",
     "text": [
      "False\n"
     ]
    }
   ],
   "source": [
    "print(df_sec_edgar_data['ip'][0] in df_sec_edgar_data['ip'][1:].values)\n"
   ]
  },
  {
   "cell_type": "code",
   "execution_count": 6,
   "metadata": {},
   "outputs": [],
   "source": []
  },
  {
   "cell_type": "code",
   "execution_count": 16,
   "metadata": {},
   "outputs": [
    {
     "data": {
      "text/html": [
       "<div>\n",
       "<style scoped>\n",
       "    .dataframe tbody tr th:only-of-type {\n",
       "        vertical-align: middle;\n",
       "    }\n",
       "\n",
       "    .dataframe tbody tr th {\n",
       "        vertical-align: top;\n",
       "    }\n",
       "\n",
       "    .dataframe thead th {\n",
       "        text-align: right;\n",
       "    }\n",
       "</style>\n",
       "<table border=\"1\" class=\"dataframe\">\n",
       "  <thead>\n",
       "    <tr style=\"text-align: right;\">\n",
       "      <th></th>\n",
       "    </tr>\n",
       "  </thead>\n",
       "  <tbody>\n",
       "  </tbody>\n",
       "</table>\n",
       "</div>"
      ],
      "text/plain": [
       "Empty DataFrame\n",
       "Columns: []\n",
       "Index: []"
      ]
     },
     "execution_count": 16,
     "metadata": {},
     "output_type": "execute_result"
    }
   ],
   "source": [
    "new_df = pd.DataFrame()\n",
    "for i in range(len(df_sec_edgar_data)):\n",
    "    if df_sec_edgar_data['ip'][i] in dumb_df['ip'][i:]:\n",
    "        new_df = df_sec_edgar_data.iloc[i][0:2] # switch 0 with i\n",
    "new_df"
   ]
  },
  {
   "cell_type": "code",
   "execution_count": 15,
   "metadata": {},
   "outputs": [
    {
     "name": "stdout",
     "output_type": "stream",
     "text": [
      "Empty DataFrame\n",
      "Columns: []\n",
      "Index: []\n"
     ]
    }
   ],
   "source": [
    "print(new_df)"
   ]
  },
  {
   "cell_type": "code",
   "execution_count": null,
   "metadata": {},
   "outputs": [],
   "source": []
  },
  {
   "cell_type": "code",
   "execution_count": null,
   "metadata": {},
   "outputs": [],
   "source": []
  },
  {
   "cell_type": "code",
   "execution_count": null,
   "metadata": {},
   "outputs": [],
   "source": []
  },
  {
   "cell_type": "code",
   "execution_count": 386,
   "metadata": {},
   "outputs": [
    {
     "data": {
      "text/plain": [
       "'107.23.85.jfd'"
      ]
     },
     "execution_count": 386,
     "metadata": {},
     "output_type": "execute_result"
    }
   ],
   "source": [
    "        pass\n",
    "    else:\n",
    "        new_df[i] = (df_sec_edgar_data.iloc[i][0:2]) # switch 0 with i\n",
    "        new_df['requests'] = pd.Series(1).\n",
    "        \n",
    "new_df = new_df.T\n",
    "new_df['stop_time'] = new_df['date_time']\n",
    "new_df\n"
   ]
  },
  {
   "cell_type": "code",
   "execution_count": 320,
   "metadata": {},
   "outputs": [
    {
     "data": {
      "text/html": [
       "<div>\n",
       "<style scoped>\n",
       "    .dataframe tbody tr th:only-of-type {\n",
       "        vertical-align: middle;\n",
       "    }\n",
       "\n",
       "    .dataframe tbody tr th {\n",
       "        vertical-align: top;\n",
       "    }\n",
       "\n",
       "    .dataframe thead th {\n",
       "        text-align: right;\n",
       "    }\n",
       "</style>\n",
       "<table border=\"1\" class=\"dataframe\">\n",
       "  <thead>\n",
       "    <tr style=\"text-align: right;\">\n",
       "      <th></th>\n",
       "      <th>ip</th>\n",
       "      <th>date_time</th>\n",
       "      <th>unique_id</th>\n",
       "    </tr>\n",
       "  </thead>\n",
       "  <tbody>\n",
       "    <tr>\n",
       "      <th>1</th>\n",
       "      <td>107.23.85.jfd</td>\n",
       "      <td>2017-06-30 00:00:00</td>\n",
       "      <td>107.23.85.jfd|1027281.0|0000898430-02-001167|-...</td>\n",
       "    </tr>\n",
       "    <tr>\n",
       "      <th>2</th>\n",
       "      <td>107.23.85.jfd</td>\n",
       "      <td>2017-06-30 00:00:00</td>\n",
       "      <td>107.23.85.jfd|1136894.0|0000905148-07-003827|-...</td>\n",
       "    </tr>\n",
       "    <tr>\n",
       "      <th>3</th>\n",
       "      <td>107.23.85.jfd</td>\n",
       "      <td>2017-06-30 00:00:01</td>\n",
       "      <td>107.23.85.jfd|841535.0|0000841535-98-000002|-i...</td>\n",
       "    </tr>\n",
       "    <tr>\n",
       "      <th>4</th>\n",
       "      <td>108.91.91.hbc</td>\n",
       "      <td>2017-06-30 00:00:01</td>\n",
       "      <td>108.91.91.hbc|1295391.0|0001209784-17-000052|.txt</td>\n",
       "    </tr>\n",
       "    <tr>\n",
       "      <th>5</th>\n",
       "      <td>106.120.173.jie</td>\n",
       "      <td>2017-06-30 00:00:02</td>\n",
       "      <td>106.120.173.jie|1470683.0|0001144204-14-046448...</td>\n",
       "    </tr>\n",
       "    <tr>\n",
       "      <th>7</th>\n",
       "      <td>107.23.85.jfd</td>\n",
       "      <td>2017-06-30 00:00:03</td>\n",
       "      <td>107.23.85.jfd|842814.0|0000842814-98-000001|-i...</td>\n",
       "    </tr>\n",
       "    <tr>\n",
       "      <th>8</th>\n",
       "      <td>107.178.195.aag</td>\n",
       "      <td>2017-06-30 00:00:04</td>\n",
       "      <td>107.178.195.aag|1068124.0|0000350001-15-000731...</td>\n",
       "    </tr>\n",
       "    <tr>\n",
       "      <th>9</th>\n",
       "      <td>108.91.91.hbc</td>\n",
       "      <td>2017-06-30 00:00:04</td>\n",
       "      <td>108.91.91.hbc|1618174.0|0001140361-17-026711|.txt</td>\n",
       "    </tr>\n",
       "  </tbody>\n",
       "</table>\n",
       "</div>"
      ],
      "text/plain": [
       "                ip           date_time  \\\n",
       "1    107.23.85.jfd 2017-06-30 00:00:00   \n",
       "2    107.23.85.jfd 2017-06-30 00:00:00   \n",
       "3    107.23.85.jfd 2017-06-30 00:00:01   \n",
       "4    108.91.91.hbc 2017-06-30 00:00:01   \n",
       "5  106.120.173.jie 2017-06-30 00:00:02   \n",
       "7    107.23.85.jfd 2017-06-30 00:00:03   \n",
       "8  107.178.195.aag 2017-06-30 00:00:04   \n",
       "9    108.91.91.hbc 2017-06-30 00:00:04   \n",
       "\n",
       "                                           unique_id  \n",
       "1  107.23.85.jfd|1027281.0|0000898430-02-001167|-...  \n",
       "2  107.23.85.jfd|1136894.0|0000905148-07-003827|-...  \n",
       "3  107.23.85.jfd|841535.0|0000841535-98-000002|-i...  \n",
       "4  108.91.91.hbc|1295391.0|0001209784-17-000052|.txt  \n",
       "5  106.120.173.jie|1470683.0|0001144204-14-046448...  \n",
       "7  107.23.85.jfd|842814.0|0000842814-98-000001|-i...  \n",
       "8  107.178.195.aag|1068124.0|0000350001-15-000731...  \n",
       "9  108.91.91.hbc|1618174.0|0001140361-17-026711|.txt  "
      ]
     },
     "execution_count": 320,
     "metadata": {},
     "output_type": "execute_result"
    }
   ],
   "source": [
    "df_sec_edgar_data"
   ]
  },
  {
   "cell_type": "code",
   "execution_count": 300,
   "metadata": {},
   "outputs": [],
   "source": [
    "# Calculate a 'single session' for a given IP address, given these instructions\n",
    "\n",
    "# For the purposes of this challenge, an IP address uniquely identifies a single user. A user is defined to have visited the EDGAR system if during the visit, the IP address requested one or more documents.\n",
    "\n",
    "# Also, for the purposes of this challenge, the amount of time that elapses between document requests should be used to determine when a visit, also referred to as a session, begins and ends.\n",
    "\n",
    "# A single user session is defined to have started when the IP address first requests a document from the EDGAR system and continues as long as the same user continues to make requests. The session is over after a certain period of time has elapsed -- we'll provide you that value -- and the user makes no requests for documents.\n",
    "\n",
    "# In other words, this period of inactivity helps to determine when the session is over and the user is assumed to have left the system.\n",
    "\n",
    "# The duration of any particular session is defined to be the time between the IP address' first request and the last one in the same session prior to the period of inactivity. If the user returns later to access another document requests, that subsequent request would be considered the start of a new session."
   ]
  },
  {
   "cell_type": "code",
   "execution_count": 1,
   "metadata": {},
   "outputs": [
    {
     "ename": "NameError",
     "evalue": "name 'df_sec_edgar_data' is not defined",
     "output_type": "error",
     "traceback": [
      "\u001b[0;31m---------------------------------------------------------------------------\u001b[0m",
      "\u001b[0;31mNameError\u001b[0m                                 Traceback (most recent call last)",
      "\u001b[0;32m<ipython-input-1-68a71e59cf87>\u001b[0m in \u001b[0;36m<module>\u001b[0;34m()\u001b[0m\n\u001b[0;32m----> 1\u001b[0;31m \u001b[0mtype\u001b[0m\u001b[0;34m(\u001b[0m\u001b[0mdf_sec_edgar_data\u001b[0m\u001b[0;34m[\u001b[0m\u001b[0;34m'date_time'\u001b[0m\u001b[0;34m]\u001b[0m\u001b[0;34m[\u001b[0m\u001b[0;36m0\u001b[0m\u001b[0;34m]\u001b[0m\u001b[0;34m)\u001b[0m\u001b[0;34m\u001b[0m\u001b[0m\n\u001b[0m",
      "\u001b[0;31mNameError\u001b[0m: name 'df_sec_edgar_data' is not defined"
     ]
    }
   ],
   "source": [
    "type(df_sec_edgar_data['date_time'][0])"
   ]
  },
  {
   "cell_type": "code",
   "execution_count": 20,
   "metadata": {},
   "outputs": [
    {
     "ename": "AttributeError",
     "evalue": "type object 'datetime.datetime' has no attribute 'datetime'",
     "output_type": "error",
     "traceback": [
      "\u001b[0;31m---------------------------------------------------------------------------\u001b[0m",
      "\u001b[0;31mAttributeError\u001b[0m                            Traceback (most recent call last)",
      "\u001b[0;32m<ipython-input-20-5283d94eff5f>\u001b[0m in \u001b[0;36m<module>\u001b[0;34m()\u001b[0m\n\u001b[1;32m      1\u001b[0m \u001b[0;32mfrom\u001b[0m \u001b[0mdatetime\u001b[0m \u001b[0;32mimport\u001b[0m \u001b[0mdatetime\u001b[0m\u001b[0;34m,\u001b[0m \u001b[0mtimedelta\u001b[0m\u001b[0;34m\u001b[0m\u001b[0m\n\u001b[0;32m----> 2\u001b[0;31m \u001b[0mdatetime\u001b[0m\u001b[0;34m.\u001b[0m\u001b[0mdatetime\u001b[0m\u001b[0;34m.\u001b[0m\u001b[0mdf_sec_edgar_data\u001b[0m\u001b[0;34m[\u001b[0m\u001b[0;34m'date_time'\u001b[0m\u001b[0;34m]\u001b[0m\u001b[0;34m[\u001b[0m\u001b[0;36m0\u001b[0m\u001b[0;34m]\u001b[0m\u001b[0;34m\u001b[0m\u001b[0m\n\u001b[0m\u001b[1;32m      3\u001b[0m \u001b[0;34m\u001b[0m\u001b[0m\n",
      "\u001b[0;31mAttributeError\u001b[0m: type object 'datetime.datetime' has no attribute 'datetime'"
     ]
    }
   ],
   "source": [
    "from datetime import datetime, timedelta\n",
    "datetime.datetime.df_sec_edgar_data['date_time'][0]\n",
    "\n"
   ]
  },
  {
   "cell_type": "code",
   "execution_count": null,
   "metadata": {},
   "outputs": [],
   "source": [
    "    for row in inactivity_period_file:\n",
    "        for line in df_sec_edgar_data:\n",
    "            for line2 in \n",
    "                if df_sec_edgar_data['date_time'][line] - datetime.timedelta(seconds=9333)"
   ]
  },
  {
   "cell_type": "code",
   "execution_count": 15,
   "metadata": {},
   "outputs": [
    {
     "data": {
      "text/plain": [
       "Timestamp('2017-06-29 23:59:58')"
      ]
     },
     "execution_count": 15,
     "metadata": {},
     "output_type": "execute_result"
    }
   ],
   "source": [
    "df_sec_edgar_data['date_time'][0]"
   ]
  },
  {
   "cell_type": "code",
   "execution_count": null,
   "metadata": {},
   "outputs": [],
   "source": []
  },
  {
   "cell_type": "code",
   "execution_count": 5,
   "metadata": {},
   "outputs": [
    {
     "name": "stdout",
     "output_type": "stream",
     "text": [
      "2\n"
     ]
    }
   ],
   "source": [
    "for i in df_sec_edgar_data['date_time']:\n",
    "    if i - datetime.timedelta(seconds=2)"
   ]
  },
  {
   "cell_type": "code",
   "execution_count": 306,
   "metadata": {},
   "outputs": [
    {
     "data": {
      "text/html": [
       "<div>\n",
       "<style scoped>\n",
       "    .dataframe tbody tr th:only-of-type {\n",
       "        vertical-align: middle;\n",
       "    }\n",
       "\n",
       "    .dataframe tbody tr th {\n",
       "        vertical-align: top;\n",
       "    }\n",
       "\n",
       "    .dataframe thead th {\n",
       "        text-align: right;\n",
       "    }\n",
       "</style>\n",
       "<table border=\"1\" class=\"dataframe\">\n",
       "  <thead>\n",
       "    <tr style=\"text-align: right;\">\n",
       "      <th></th>\n",
       "      <th>ip</th>\n",
       "      <th>cik</th>\n",
       "      <th>accession</th>\n",
       "      <th>extention</th>\n",
       "      <th>date_time</th>\n",
       "      <th>unique_id</th>\n",
       "      <th>unique_identifier</th>\n",
       "    </tr>\n",
       "  </thead>\n",
       "  <tbody>\n",
       "    <tr>\n",
       "      <th>0</th>\n",
       "      <td>101.81.133.jja</td>\n",
       "      <td>1608552.0</td>\n",
       "      <td>0001047469-17-004337</td>\n",
       "      <td>-index.htm</td>\n",
       "      <td>2017-06-30 00:00:00</td>\n",
       "      <td>101.81.133.jja|1608552.0|0001047469-17-004337|...</td>\n",
       "      <td>101.81.133.jja1608552.00001047469-17-004337-in...</td>\n",
       "    </tr>\n",
       "    <tr>\n",
       "      <th>1</th>\n",
       "      <td>107.23.85.jfd</td>\n",
       "      <td>1027281.0</td>\n",
       "      <td>0000898430-02-001167</td>\n",
       "      <td>-index.htm</td>\n",
       "      <td>2017-06-30 00:00:00</td>\n",
       "      <td>107.23.85.jfd|1027281.0|0000898430-02-001167|-...</td>\n",
       "      <td>107.23.85.jfd1027281.00000898430-02-001167-ind...</td>\n",
       "    </tr>\n",
       "    <tr>\n",
       "      <th>2</th>\n",
       "      <td>107.23.85.jfd</td>\n",
       "      <td>1136894.0</td>\n",
       "      <td>0000905148-07-003827</td>\n",
       "      <td>-index.htm</td>\n",
       "      <td>2017-06-30 00:00:00</td>\n",
       "      <td>107.23.85.jfd|1136894.0|0000905148-07-003827|-...</td>\n",
       "      <td>107.23.85.jfd1136894.00000905148-07-003827-ind...</td>\n",
       "    </tr>\n",
       "    <tr>\n",
       "      <th>3</th>\n",
       "      <td>107.23.85.jfd</td>\n",
       "      <td>841535.0</td>\n",
       "      <td>0000841535-98-000002</td>\n",
       "      <td>-index.html</td>\n",
       "      <td>2017-06-30 00:00:01</td>\n",
       "      <td>107.23.85.jfd|841535.0|0000841535-98-000002|-i...</td>\n",
       "      <td>107.23.85.jfd841535.00000841535-98-000002-inde...</td>\n",
       "    </tr>\n",
       "    <tr>\n",
       "      <th>4</th>\n",
       "      <td>108.91.91.hbc</td>\n",
       "      <td>1295391.0</td>\n",
       "      <td>0001209784-17-000052</td>\n",
       "      <td>.txt</td>\n",
       "      <td>2017-06-30 00:00:01</td>\n",
       "      <td>108.91.91.hbc|1295391.0|0001209784-17-000052|.txt</td>\n",
       "      <td>108.91.91.hbc1295391.00001209784-17-000052.txt</td>\n",
       "    </tr>\n",
       "    <tr>\n",
       "      <th>5</th>\n",
       "      <td>106.120.173.jie</td>\n",
       "      <td>1470683.0</td>\n",
       "      <td>0001144204-14-046448</td>\n",
       "      <td>v385454_20fa.htm</td>\n",
       "      <td>2017-06-30 00:00:02</td>\n",
       "      <td>106.120.173.jie|1470683.0|0001144204-14-046448...</td>\n",
       "      <td>106.120.173.jie1470683.00001144204-14-046448v3...</td>\n",
       "    </tr>\n",
       "    <tr>\n",
       "      <th>6</th>\n",
       "      <td>107.178.195.aag</td>\n",
       "      <td>1068124.0</td>\n",
       "      <td>0000350001-15-000854</td>\n",
       "      <td>-xbrl.zip</td>\n",
       "      <td>2017-06-30 00:00:02</td>\n",
       "      <td>107.178.195.aag|1068124.0|0000350001-15-000854...</td>\n",
       "      <td>107.178.195.aag1068124.00000350001-15-000854-x...</td>\n",
       "    </tr>\n",
       "    <tr>\n",
       "      <th>7</th>\n",
       "      <td>107.23.85.jfd</td>\n",
       "      <td>842814.0</td>\n",
       "      <td>0000842814-98-000001</td>\n",
       "      <td>-index.html</td>\n",
       "      <td>2017-06-30 00:00:03</td>\n",
       "      <td>107.23.85.jfd|842814.0|0000842814-98-000001|-i...</td>\n",
       "      <td>107.23.85.jfd842814.00000842814-98-000001-inde...</td>\n",
       "    </tr>\n",
       "    <tr>\n",
       "      <th>8</th>\n",
       "      <td>107.178.195.aag</td>\n",
       "      <td>1068124.0</td>\n",
       "      <td>0000350001-15-000731</td>\n",
       "      <td>-xbrl.zip</td>\n",
       "      <td>2017-06-30 00:00:04</td>\n",
       "      <td>107.178.195.aag|1068124.0|0000350001-15-000731...</td>\n",
       "      <td>107.178.195.aag1068124.00000350001-15-000731-x...</td>\n",
       "    </tr>\n",
       "    <tr>\n",
       "      <th>9</th>\n",
       "      <td>108.91.91.hbc</td>\n",
       "      <td>1618174.0</td>\n",
       "      <td>0001140361-17-026711</td>\n",
       "      <td>.txt</td>\n",
       "      <td>2017-06-30 00:00:04</td>\n",
       "      <td>108.91.91.hbc|1618174.0|0001140361-17-026711|.txt</td>\n",
       "      <td>108.91.91.hbc1618174.00001140361-17-026711.txt</td>\n",
       "    </tr>\n",
       "  </tbody>\n",
       "</table>\n",
       "</div>"
      ],
      "text/plain": [
       "                ip        cik             accession         extention  \\\n",
       "0   101.81.133.jja  1608552.0  0001047469-17-004337        -index.htm   \n",
       "1    107.23.85.jfd  1027281.0  0000898430-02-001167        -index.htm   \n",
       "2    107.23.85.jfd  1136894.0  0000905148-07-003827        -index.htm   \n",
       "3    107.23.85.jfd   841535.0  0000841535-98-000002       -index.html   \n",
       "4    108.91.91.hbc  1295391.0  0001209784-17-000052              .txt   \n",
       "5  106.120.173.jie  1470683.0  0001144204-14-046448  v385454_20fa.htm   \n",
       "6  107.178.195.aag  1068124.0  0000350001-15-000854         -xbrl.zip   \n",
       "7    107.23.85.jfd   842814.0  0000842814-98-000001       -index.html   \n",
       "8  107.178.195.aag  1068124.0  0000350001-15-000731         -xbrl.zip   \n",
       "9    108.91.91.hbc  1618174.0  0001140361-17-026711              .txt   \n",
       "\n",
       "            date_time                                          unique_id  \\\n",
       "0 2017-06-30 00:00:00  101.81.133.jja|1608552.0|0001047469-17-004337|...   \n",
       "1 2017-06-30 00:00:00  107.23.85.jfd|1027281.0|0000898430-02-001167|-...   \n",
       "2 2017-06-30 00:00:00  107.23.85.jfd|1136894.0|0000905148-07-003827|-...   \n",
       "3 2017-06-30 00:00:01  107.23.85.jfd|841535.0|0000841535-98-000002|-i...   \n",
       "4 2017-06-30 00:00:01  108.91.91.hbc|1295391.0|0001209784-17-000052|.txt   \n",
       "5 2017-06-30 00:00:02  106.120.173.jie|1470683.0|0001144204-14-046448...   \n",
       "6 2017-06-30 00:00:02  107.178.195.aag|1068124.0|0000350001-15-000854...   \n",
       "7 2017-06-30 00:00:03  107.23.85.jfd|842814.0|0000842814-98-000001|-i...   \n",
       "8 2017-06-30 00:00:04  107.178.195.aag|1068124.0|0000350001-15-000731...   \n",
       "9 2017-06-30 00:00:04  108.91.91.hbc|1618174.0|0001140361-17-026711|.txt   \n",
       "\n",
       "                                   unique_identifier  \n",
       "0  101.81.133.jja1608552.00001047469-17-004337-in...  \n",
       "1  107.23.85.jfd1027281.00000898430-02-001167-ind...  \n",
       "2  107.23.85.jfd1136894.00000905148-07-003827-ind...  \n",
       "3  107.23.85.jfd841535.00000841535-98-000002-inde...  \n",
       "4     108.91.91.hbc1295391.00001209784-17-000052.txt  \n",
       "5  106.120.173.jie1470683.00001144204-14-046448v3...  \n",
       "6  107.178.195.aag1068124.00000350001-15-000854-x...  \n",
       "7  107.23.85.jfd842814.00000842814-98-000001-inde...  \n",
       "8  107.178.195.aag1068124.00000350001-15-000731-x...  \n",
       "9     108.91.91.hbc1618174.00001140361-17-026711.txt  "
      ]
     },
     "execution_count": 306,
     "metadata": {},
     "output_type": "execute_result"
    }
   ],
   "source": [
    "df_sec_edgar_data[\"unique_identifier\"] = df_sec_edgar_data[\"ip\"].astype(str) + df_sec_edgar_data[\"cik\"]\n",
    "df_sec_edgar_data[\"unique_identifier\"] = df_sec_edgar_data[\"unique_identifier\"].astype(str) + df_sec_edgar_data[\"accession\"]\n",
    "df_sec_edgar_data[\"unique_identifier\"] = df_sec_edgar_data[\"unique_identifier\"].astype(str) + df_sec_edgar_data[\"extention\"]\n",
    "\n",
    "df_sec_edgar_data"
   ]
  },
  {
   "cell_type": "code",
   "execution_count": 12,
   "metadata": {},
   "outputs": [
    {
     "name": "stdout",
     "output_type": "stream",
     "text": [
      "the variablle inactivity_value is type: <class 'str'>\n"
     ]
    }
   ],
   "source": [
    "inactivity_text = pd.read_csv('../input/inactivity_period.txt')\n",
    "for row in inactivity_text:\n",
    "    inactivity_value = row\n",
    "print('the variablle inactivity_value is type: {}'.format(type(inactivity_value)))"
   ]
  },
  {
   "cell_type": "code",
   "execution_count": 8,
   "metadata": {},
   "outputs": [
    {
     "ename": "TypeError",
     "evalue": "'Timestamp' object does not support indexing",
     "output_type": "error",
     "traceback": [
      "\u001b[0;31m---------------------------------------------------------------------------\u001b[0m",
      "\u001b[0;31mTypeError\u001b[0m                                 Traceback (most recent call last)",
      "\u001b[0;32m<ipython-input-8-07039a5ffa5b>\u001b[0m in \u001b[0;36m<module>\u001b[0;34m()\u001b[0m\n\u001b[1;32m      1\u001b[0m \u001b[0;32mfor\u001b[0m \u001b[0mnum\u001b[0m\u001b[0;34m,\u001b[0m \u001b[0mcell\u001b[0m \u001b[0;32min\u001b[0m \u001b[0menumerate\u001b[0m\u001b[0;34m(\u001b[0m\u001b[0mdf_sec_edgar_data\u001b[0m\u001b[0;34m[\u001b[0m\u001b[0;34m'date_time'\u001b[0m\u001b[0;34m]\u001b[0m\u001b[0;34m)\u001b[0m\u001b[0;34m:\u001b[0m\u001b[0;34m\u001b[0m\u001b[0m\n\u001b[0;32m----> 2\u001b[0;31m     \u001b[0;32mif\u001b[0m \u001b[0mcell\u001b[0m\u001b[0;34m[\u001b[0m\u001b[0mnum\u001b[0m\u001b[0;34m]\u001b[0m \u001b[0;34m==\u001b[0m \u001b[0mcell\u001b[0m\u001b[0;34m[\u001b[0m\u001b[0mnum\u001b[0m\u001b[0;34m+\u001b[0m\u001b[0;36m1\u001b[0m\u001b[0;34m]\u001b[0m\u001b[0;34m:\u001b[0m\u001b[0;34m\u001b[0m\u001b[0m\n\u001b[0m\u001b[1;32m      3\u001b[0m         \u001b[0mdf_sec_edgar_data\u001b[0m\u001b[0;34m[\u001b[0m\u001b[0;34m'0'\u001b[0m\u001b[0;34m]\u001b[0m \u001b[0;34m=\u001b[0m \u001b[0mpd\u001b[0m\u001b[0;34m.\u001b[0m\u001b[0mDataFrame\u001b[0m\u001b[0;34m(\u001b[0m\u001b[0mcell\u001b[0m\u001b[0;34m[\u001b[0m\u001b[0mnum\u001b[0m\u001b[0;34m+\u001b[0m\u001b[0;36m1\u001b[0m\u001b[0;34m]\u001b[0m\u001b[0;34m)\u001b[0m\u001b[0;34m\u001b[0m\u001b[0m\n\u001b[1;32m      4\u001b[0m \u001b[0mprint\u001b[0m\u001b[0;34m(\u001b[0m\u001b[0mdf_sec_edgar_data\u001b[0m\u001b[0;34m)\u001b[0m\u001b[0;34m\u001b[0m\u001b[0m\n",
      "\u001b[0;31mTypeError\u001b[0m: 'Timestamp' object does not support indexing"
     ]
    }
   ],
   "source": [
    "    for num, cell in enumerate(df_sec_edgar_data['date_time']):\n",
    "        if cell[num] == cell[num+1]:\n",
    "            df_sec_edgar_data['0'] = pd.DataFrame(cell[num+1])\n",
    "print(df_sec_edgar_data)"
   ]
  },
  {
   "cell_type": "code",
   "execution_count": 2,
   "metadata": {},
   "outputs": [
    {
     "name": "stdout",
     "output_type": "stream",
     "text": [
      "    p  s\n",
      "0  33  0\n",
      "1  85  0\n",
      "2  85  0\n",
      "3  91  1\n",
      "4  17  1\n",
      "5  19  2\n",
      "6  73  2\n",
      "7  85  3\n",
      "8  95  4\n",
      "9  91  4\n"
     ]
    }
   ],
   "source": [
    "test_df = pd.DataFrame(\n",
    "[['33', 0],\n",
    "['85', 0],\n",
    "['85', 0],\n",
    "['91', 1],\n",
    "['17', 1],\n",
    "['19', 2],\n",
    "['73', 2],\n",
    "['85', 3],\n",
    "['95', 4],\n",
    "['91', 4]])\n",
    "\n",
    "test_df.columns = ['p', 's']\n",
    "print(test_df)"
   ]
  },
  {
   "cell_type": "code",
   "execution_count": 3,
   "metadata": {},
   "outputs": [
    {
     "data": {
      "text/html": [
       "<div>\n",
       "<style scoped>\n",
       "    .dataframe tbody tr th:only-of-type {\n",
       "        vertical-align: middle;\n",
       "    }\n",
       "\n",
       "    .dataframe tbody tr th {\n",
       "        vertical-align: top;\n",
       "    }\n",
       "\n",
       "    .dataframe thead th {\n",
       "        text-align: right;\n",
       "    }\n",
       "</style>\n",
       "<table border=\"1\" class=\"dataframe\">\n",
       "  <thead>\n",
       "    <tr style=\"text-align: right;\">\n",
       "      <th></th>\n",
       "      <th>p</th>\n",
       "      <th>s</th>\n",
       "      <th>new</th>\n",
       "    </tr>\n",
       "  </thead>\n",
       "  <tbody>\n",
       "    <tr>\n",
       "      <th>0</th>\n",
       "      <td>33</td>\n",
       "      <td>0</td>\n",
       "      <td>index</td>\n",
       "    </tr>\n",
       "    <tr>\n",
       "      <th>1</th>\n",
       "      <td>85</td>\n",
       "      <td>0</td>\n",
       "      <td>htm</td>\n",
       "    </tr>\n",
       "    <tr>\n",
       "      <th>2</th>\n",
       "      <td>85</td>\n",
       "      <td>0</td>\n",
       "      <td>htm</td>\n",
       "    </tr>\n",
       "    <tr>\n",
       "      <th>3</th>\n",
       "      <td>91</td>\n",
       "      <td>1</td>\n",
       "      <td>index</td>\n",
       "    </tr>\n",
       "    <tr>\n",
       "      <th>4</th>\n",
       "      <td>17</td>\n",
       "      <td>1</td>\n",
       "      <td>htm</td>\n",
       "    </tr>\n",
       "    <tr>\n",
       "      <th>5</th>\n",
       "      <td>19</td>\n",
       "      <td>2</td>\n",
       "      <td>index</td>\n",
       "    </tr>\n",
       "    <tr>\n",
       "      <th>6</th>\n",
       "      <td>73</td>\n",
       "      <td>2</td>\n",
       "      <td>txt</td>\n",
       "    </tr>\n",
       "    <tr>\n",
       "      <th>7</th>\n",
       "      <td>85</td>\n",
       "      <td>3</td>\n",
       "      <td>htm</td>\n",
       "    </tr>\n",
       "    <tr>\n",
       "      <th>8</th>\n",
       "      <td>95</td>\n",
       "      <td>4</td>\n",
       "      <td>index</td>\n",
       "    </tr>\n",
       "    <tr>\n",
       "      <th>9</th>\n",
       "      <td>91</td>\n",
       "      <td>4</td>\n",
       "      <td>txt</td>\n",
       "    </tr>\n",
       "  </tbody>\n",
       "</table>\n",
       "</div>"
      ],
      "text/plain": [
       "    p  s    new\n",
       "0  33  0  index\n",
       "1  85  0    htm\n",
       "2  85  0    htm\n",
       "3  91  1  index\n",
       "4  17  1    htm\n",
       "5  19  2  index\n",
       "6  73  2    txt\n",
       "7  85  3    htm\n",
       "8  95  4  index\n",
       "9  91  4    txt"
      ]
     },
     "execution_count": 3,
     "metadata": {},
     "output_type": "execute_result"
    }
   ],
   "source": [
    "test_df['new'] = ['index', 'htm', 'htm', 'index', 'htm', 'index', 'txt', 'htm', 'index', 'txt']\n",
    "test_df"
   ]
  },
  {
   "cell_type": "code",
   "execution_count": 11,
   "metadata": {},
   "outputs": [
    {
     "data": {
      "text/html": [
       "<div>\n",
       "<style scoped>\n",
       "    .dataframe tbody tr th:only-of-type {\n",
       "        vertical-align: middle;\n",
       "    }\n",
       "\n",
       "    .dataframe tbody tr th {\n",
       "        vertical-align: top;\n",
       "    }\n",
       "\n",
       "    .dataframe thead th {\n",
       "        text-align: right;\n",
       "    }\n",
       "</style>\n",
       "<table border=\"1\" class=\"dataframe\">\n",
       "  <thead>\n",
       "    <tr style=\"text-align: right;\">\n",
       "      <th></th>\n",
       "      <th>p</th>\n",
       "      <th>s</th>\n",
       "      <th>new</th>\n",
       "    </tr>\n",
       "  </thead>\n",
       "  <tbody>\n",
       "    <tr>\n",
       "      <th>0</th>\n",
       "      <td>33</td>\n",
       "      <td>0</td>\n",
       "      <td>index</td>\n",
       "    </tr>\n",
       "    <tr>\n",
       "      <th>1</th>\n",
       "      <td>85</td>\n",
       "      <td>0</td>\n",
       "      <td>htm</td>\n",
       "    </tr>\n",
       "    <tr>\n",
       "      <th>2</th>\n",
       "      <td>85</td>\n",
       "      <td>0</td>\n",
       "      <td>htm</td>\n",
       "    </tr>\n",
       "  </tbody>\n",
       "</table>\n",
       "</div>"
      ],
      "text/plain": [
       "    p  s    new\n",
       "0  33  0  index\n",
       "1  85  0    htm\n",
       "2  85  0    htm"
      ]
     },
     "execution_count": 11,
     "metadata": {},
     "output_type": "execute_result"
    }
   ],
   "source": [
    "new_test_df = test_df[test_df['s'] == 0]\n",
    "new_test_df\n",
    "# test_df[test_df['s'] == 1]"
   ]
  },
  {
   "cell_type": "code",
   "execution_count": 16,
   "metadata": {},
   "outputs": [
    {
     "data": {
      "text/plain": [
       "0    0\n",
       "1    0\n",
       "2    0\n",
       "Name: s, dtype: int64"
      ]
     },
     "execution_count": 16,
     "metadata": {},
     "output_type": "execute_result"
    }
   ],
   "source": [
    "if test_df['p']"
   ]
  },
  {
   "cell_type": "code",
   "execution_count": 30,
   "metadata": {},
   "outputs": [
    {
     "data": {
      "text/html": [
       "<div>\n",
       "<style scoped>\n",
       "    .dataframe tbody tr th:only-of-type {\n",
       "        vertical-align: middle;\n",
       "    }\n",
       "\n",
       "    .dataframe tbody tr th {\n",
       "        vertical-align: top;\n",
       "    }\n",
       "\n",
       "    .dataframe thead th {\n",
       "        text-align: right;\n",
       "    }\n",
       "</style>\n",
       "<table border=\"1\" class=\"dataframe\">\n",
       "  <thead>\n",
       "    <tr style=\"text-align: right;\">\n",
       "      <th></th>\n",
       "      <th>p</th>\n",
       "      <th>s</th>\n",
       "      <th>new</th>\n",
       "      <th>s0</th>\n",
       "      <th>s1</th>\n",
       "      <th>s2</th>\n",
       "    </tr>\n",
       "  </thead>\n",
       "  <tbody>\n",
       "    <tr>\n",
       "      <th>0</th>\n",
       "      <td>33</td>\n",
       "      <td>0</td>\n",
       "      <td>index</td>\n",
       "      <td>NaN</td>\n",
       "      <td>NaN</td>\n",
       "      <td>NaN</td>\n",
       "    </tr>\n",
       "    <tr>\n",
       "      <th>1</th>\n",
       "      <td>85</td>\n",
       "      <td>0</td>\n",
       "      <td>htm</td>\n",
       "      <td>NaN</td>\n",
       "      <td>NaN</td>\n",
       "      <td>NaN</td>\n",
       "    </tr>\n",
       "    <tr>\n",
       "      <th>2</th>\n",
       "      <td>85</td>\n",
       "      <td>0</td>\n",
       "      <td>htm</td>\n",
       "      <td>NaN</td>\n",
       "      <td>NaN</td>\n",
       "      <td>NaN</td>\n",
       "    </tr>\n",
       "    <tr>\n",
       "      <th>3</th>\n",
       "      <td>91</td>\n",
       "      <td>1</td>\n",
       "      <td>index</td>\n",
       "      <td>NaN</td>\n",
       "      <td>NaN</td>\n",
       "      <td>NaN</td>\n",
       "    </tr>\n",
       "    <tr>\n",
       "      <th>4</th>\n",
       "      <td>17</td>\n",
       "      <td>1</td>\n",
       "      <td>htm</td>\n",
       "      <td>NaN</td>\n",
       "      <td>NaN</td>\n",
       "      <td>NaN</td>\n",
       "    </tr>\n",
       "    <tr>\n",
       "      <th>5</th>\n",
       "      <td>19</td>\n",
       "      <td>2</td>\n",
       "      <td>index</td>\n",
       "      <td>NaN</td>\n",
       "      <td>NaN</td>\n",
       "      <td>NaN</td>\n",
       "    </tr>\n",
       "    <tr>\n",
       "      <th>6</th>\n",
       "      <td>73</td>\n",
       "      <td>2</td>\n",
       "      <td>txt</td>\n",
       "      <td>NaN</td>\n",
       "      <td>NaN</td>\n",
       "      <td>NaN</td>\n",
       "    </tr>\n",
       "    <tr>\n",
       "      <th>7</th>\n",
       "      <td>85</td>\n",
       "      <td>3</td>\n",
       "      <td>htm</td>\n",
       "      <td>NaN</td>\n",
       "      <td>NaN</td>\n",
       "      <td>NaN</td>\n",
       "    </tr>\n",
       "    <tr>\n",
       "      <th>8</th>\n",
       "      <td>95</td>\n",
       "      <td>4</td>\n",
       "      <td>index</td>\n",
       "      <td>NaN</td>\n",
       "      <td>NaN</td>\n",
       "      <td>NaN</td>\n",
       "    </tr>\n",
       "    <tr>\n",
       "      <th>9</th>\n",
       "      <td>91</td>\n",
       "      <td>4</td>\n",
       "      <td>txt</td>\n",
       "      <td>NaN</td>\n",
       "      <td>NaN</td>\n",
       "      <td>NaN</td>\n",
       "    </tr>\n",
       "  </tbody>\n",
       "</table>\n",
       "</div>"
      ],
      "text/plain": [
       "    p  s    new  s0  s1  s2\n",
       "0  33  0  index NaN NaN NaN\n",
       "1  85  0    htm NaN NaN NaN\n",
       "2  85  0    htm NaN NaN NaN\n",
       "3  91  1  index NaN NaN NaN\n",
       "4  17  1    htm NaN NaN NaN\n",
       "5  19  2  index NaN NaN NaN\n",
       "6  73  2    txt NaN NaN NaN\n",
       "7  85  3    htm NaN NaN NaN\n",
       "8  95  4  index NaN NaN NaN\n",
       "9  91  4    txt NaN NaN NaN"
      ]
     },
     "execution_count": 30,
     "metadata": {},
     "output_type": "execute_result"
    }
   ],
   "source": [
    "test_df['s0'] = pd.Series()\n",
    "test_df['s1'] = pd.Series()\n",
    "test_df['s2'] = pd.Series()\n",
    "test_df"
   ]
  },
  {
   "cell_type": "code",
   "execution_count": 29,
   "metadata": {},
   "outputs": [
    {
     "data": {
      "text/plain": [
       "pandas.core.frame.DataFrame"
      ]
     },
     "execution_count": 29,
     "metadata": {},
     "output_type": "execute_result"
    }
   ],
   "source": [
    "if \n",
    "\n"
   ]
  },
  {
   "cell_type": "code",
   "execution_count": 32,
   "metadata": {},
   "outputs": [
    {
     "data": {
      "text/plain": [
       "pandas.core.series.Series"
      ]
     },
     "execution_count": 32,
     "metadata": {},
     "output_type": "execute_result"
    }
   ],
   "source": [
    "type(first_row)"
   ]
  },
  {
   "cell_type": "code",
   "execution_count": 35,
   "metadata": {},
   "outputs": [
    {
     "name": "stdout",
     "output_type": "stream",
     "text": [
      "Empty DataFrame\n",
      "Columns: []\n",
      "Index: []\n"
     ]
    }
   ],
   "source": [
    "print(first_row)"
   ]
  },
  {
   "cell_type": "code",
   "execution_count": 8,
   "metadata": {},
   "outputs": [
    {
     "data": {
      "text/plain": [
       "pandas.core.frame.DataFrame"
      ]
     },
     "execution_count": 8,
     "metadata": {},
     "output_type": "execute_result"
    }
   ],
   "source": [
    "type(test_df)"
   ]
  },
  {
   "cell_type": "code",
   "execution_count": 9,
   "metadata": {},
   "outputs": [],
   "source": []
  },
  {
   "cell_type": "code",
   "execution_count": 44,
   "metadata": {},
   "outputs": [
    {
     "ename": "SyntaxError",
     "evalue": "invalid syntax (<ipython-input-44-07414ecac50a>, line 2)",
     "output_type": "error",
     "traceback": [
      "\u001b[0;36m  File \u001b[0;32m\"<ipython-input-44-07414ecac50a>\"\u001b[0;36m, line \u001b[0;32m2\u001b[0m\n\u001b[0;31m    for test_df['s'] == test_df['s'][0]:\u001b[0m\n\u001b[0m                      ^\u001b[0m\n\u001b[0;31mSyntaxError\u001b[0m\u001b[0;31m:\u001b[0m invalid syntax\n"
     ]
    }
   ],
   "source": [
    "new_test_df = pd.DataFrame()\n",
    "test_df['s'] == test_df['s'][0]\n",
    "    new_test_df['sec'] = test_df['s']\n",
    "    "
   ]
  },
  {
   "cell_type": "code",
   "execution_count": 21,
   "metadata": {},
   "outputs": [
    {
     "data": {
      "text/plain": [
       "pandas.core.frame.DataFrame"
      ]
     },
     "execution_count": 21,
     "metadata": {},
     "output_type": "execute_result"
    }
   ],
   "source": [
    "type(first_row)"
   ]
  },
  {
   "cell_type": "code",
   "execution_count": null,
   "metadata": {},
   "outputs": [],
   "source": [
    "test_df['p]'[0]"
   ]
  },
  {
   "cell_type": "code",
   "execution_count": 69,
   "metadata": {},
   "outputs": [
    {
     "name": "stdout",
     "output_type": "stream",
     "text": [
      "[['ip', 'date', 'time', 'zone', 'cik', 'accession', 'extention'], ['101.81.133.jja', '2017-06-30', '00:00:00', '0.0', '1608552.0', '0001047469-17-004337', '-index.htm'], ['107.23.85.jfd', '2017-06-30', '00:00:00', '0.0', '1027281.0', '0000898430-02-001167', '-index.htm'], ['107.23.85.jfd', '2017-06-30', '00:00:00', '0.0', '1136894.0', '0000905148-07-003827', '-index.htm'], ['107.23.85.jfd', '2017-06-30', '00:00:01', '0.0', '841535.0', '0000841535-98-000002', '-index.html'], ['108.91.91.hbc', '2017-06-30', '00:00:01', '0.0', '1295391.0', '0001209784-17-000052', '.txt'], ['106.120.173.jie', '2017-06-30', '00:00:02', '0.0', '1470683.0', '0001144204-14-046448', 'v385454_20fa.htm'], ['107.178.195.aag', '2017-06-30', '00:00:02', '0.0', '1068124.0', '0000350001-15-000854', '-xbrl.zip'], ['107.23.85.jfd', '2017-06-30', '00:00:03', '0.0', '842814.0', '0000842814-98-000001', '-index.html'], ['107.178.195.aag', '2017-06-30', '00:00:04', '0.0', '1068124.0', '0000350001-15-000731', '-xbrl.zip'], ['108.91.91.hbc', '2017-06-30', '00:00:04', '0.0', '1618174.0', '0001140361-17-026711', '.txt']]\n"
     ]
    }
   ],
   "source": [
    "import csv\n",
    "import copy\n",
    "import pandas as pd\n",
    "import numpy as np\n",
    "import datetime\n",
    "\n",
    "# def parse_sec_edgar_data(input_donor_data, output_donor_data):\n",
    "\n",
    "def parse_sec_edgar_data(input_data_csv, inactivity_period_file, output_data_csv):\n",
    "    \n",
    "    with open(input_data_csv, 'r') as csvfile:\n",
    "        sec_csv = csv.reader(csvfile, delimiter=',')\n",
    "        sec_csv_list = []\n",
    "        for row in sec_csv:\n",
    "            sec_csv_list.append(row[:7])\n",
    "    #print(sec_csv_list)\n",
    "#             print(','.join(row))\n",
    "    \n",
    "    copy_sec_csv_list = b = copy.deepcopy(sec_csv_list)\n",
    "    \n",
    "    inactivity_text = pd.read_csv('../input/inactivity_period.txt') # replace file name with inactivity_period_file\n",
    "    for row in inactivity_text:\n",
    "        inactivity_value = row\n",
    "    \n",
    "    \n",
    "    #for i in range(len(sec_csv_list)):\n",
    "    sec_list = []\n",
    "    for num, row in enumerate(sec_csv_list):\n",
    "        #for cnum, copy_row in enumerate(copy_sec_csv_list[1:]):\n",
    "        sec_list.append(row)\n",
    "#                 if row[0] == copy_row[1]:\n",
    "#                     print(True)\n",
    "#                 else:\n",
    "#                     print(False)\n",
    "        \n",
    "#    s.copy(deep=True)\n",
    "\n",
    "#     input_sec_dataframe['date_time']\n",
    "    \n",
    "    \n",
    "#     input_sec_dataframe['start_time'] = input_sec_dataframe['date_time']\n",
    "    \n",
    "\n",
    "#     for num, base_cell in enumerate(df_sec_edgar_data['date_time']):\n",
    "#         if\n",
    "        \n",
    "#     for i in range(len(df_sec_edgar_data['date_time'])):\n",
    "#         for cell in df_sec_edgar_data['date_time']:\n",
    "#             if cell == i:\n",
    "#                 sec_edgar_data['0'] = i\n",
    "    \n",
    "#         for start_cell in input_sec_dataframe:\n",
    "#             if base_cell['ip']\n",
    "            \n",
    "    \n",
    "# #     for cell in input_sec_dataframe['datetime']:\n",
    "# #         if \n",
    "    \n",
    "    #input_sec_dataframe['user_and_site_id'] = input_sec_dataframe.groupby(['ip', 'cik', 'accession', 'extention'])\n",
    "    #input_sec_dataframe.to_csv(output_data_csv, sep=',', header='infer', index=False) #Writes dataframe to csv file '??????????.txt' with the correct ',' separator. Also, to match the desired format, this line ??????? the headers and the index column.\n",
    "\n",
    "    return sec_list\n",
    "    \n",
    " \n",
    "lst_sec_edgar_data = parse_sec_edgar_data('../input/log.csv', '../input/inactivity_period.txt', '../output/sessionization.txt')\n",
    "print(df_sec_edgar_data)\n",
    "\n"
   ]
  },
  {
   "cell_type": "code",
   "execution_count": 70,
   "metadata": {},
   "outputs": [
    {
     "data": {
      "text/plain": [
       "list"
      ]
     },
     "execution_count": 70,
     "metadata": {},
     "output_type": "execute_result"
    }
   ],
   "source": [
    "type(lst_sec_edgar_data)"
   ]
  },
  {
   "cell_type": "code",
   "execution_count": 91,
   "metadata": {},
   "outputs": [
    {
     "data": {
      "text/plain": [
       "['101.81.133.jja',\n",
       " '2017-06-30',\n",
       " '00:00:00',\n",
       " '0.0',\n",
       " '1608552.0',\n",
       " '0001047469-17-004337',\n",
       " '-index.htm']"
      ]
     },
     "execution_count": 91,
     "metadata": {},
     "output_type": "execute_result"
    }
   ],
   "source": [
    "lst_sec_edgar_data[1]"
   ]
  },
  {
   "cell_type": "code",
   "execution_count": 90,
   "metadata": {},
   "outputs": [
    {
     "data": {
      "text/plain": [
       "date_time     2017-06-30 00:00:02\n",
       "ip                106.120.173.jie\n",
       "cik                       1470683\n",
       "accession    0001144204-14-046448\n",
       "extention        v385454_20fa.htm\n",
       "Name: 5, dtype: object"
      ]
     },
     "execution_count": 90,
     "metadata": {},
     "output_type": "execute_result"
    }
   ],
   "source": []
  },
  {
   "cell_type": "code",
   "execution_count": 93,
   "metadata": {},
   "outputs": [
    {
     "name": "stdout",
     "output_type": "stream",
     "text": [
      "[[Timestamp('2017-06-30 00:00:00'), '101.81.133.jja', 1608552, '0001047469-17-004337', '-index.htm'], [Timestamp('2017-06-30 00:00:02'), '106.120.173.jie', 1470683, '0001144204-14-046448', 'v385454_20fa.htm'], [Timestamp('2017-06-30 00:00:02'), '107.178.195.aag', 1068124, '0000350001-15-000854', '-xbrl.zip'], [Timestamp('2017-06-30 00:00:04'), '107.178.195.aag', 1068124, '0000350001-15-000731', '-xbrl.zip'], [Timestamp('2017-06-30 00:00:00'), '107.23.85.jfd', 1027281, '0000898430-02-001167', '-index.htm'], [Timestamp('2017-06-30 00:00:00'), '107.23.85.jfd', 1136894, '0000905148-07-003827', '-index.htm'], [Timestamp('2017-06-30 00:00:01'), '107.23.85.jfd', 841535, '0000841535-98-000002', '-index.html'], [Timestamp('2017-06-30 00:00:03'), '107.23.85.jfd', 842814, '0000842814-98-000001', '-index.html'], [Timestamp('2017-06-30 00:00:01'), '108.91.91.hbc', 1295391, '0001209784-17-000052', '.txt'], [Timestamp('2017-06-30 00:00:04'), '108.91.91.hbc', 1618174, '0001140361-17-026711', '.txt']]\n"
     ]
    }
   ],
   "source": [
    "import pandas as pd\n",
    "import numpy as np\n",
    "import datetime\n",
    "\n",
    "# def parse_sec_edgar_data(input_donor_data, output_donor_data):\n",
    "\n",
    "def parse_sec_edgar_data(input_data_csv, inactivity_period_file, output_data_csv):\n",
    "    \n",
    "    input_sec_dataframe = pd.read_csv(input_data_csv, sep=',', header='infer', usecols=['ip', 'date', 'time', 'cik', 'accession', 'extention'], dtype={'ip':np.str, 'cik':np.int, 'accession':np.str, 'extention':np.str}, parse_dates=[['date', 'time']]) #, dropna(subset = ['CMTE_ID', 'NAME', 'ZIP_CODE', 'TRANSACTION_DT', 'TRANSACTION_AMT'] #Reads in file, specifies ',' as separator, infers that there is a header in the input file that should be preserved, selects only the 6 columns that are relevant to my analysis, reads these 6 columns as appropriate data types; reads the date and time columns as date_time types and combines them into a single column that allows for identifying and ordering each row on a time series,  ????? drops null values from a subset of columns, but not the 'OTHER_ID' column where we want to keep all null values\n",
    "    \n",
    "    inactivity_text = pd.read_csv('../input/inactivity_period.txt') # replace file name with inactivity_period_file\n",
    "    for row in inactivity_text:\n",
    "        inactivity_value = row\n",
    "    \n",
    "    input_sec_dataframe = input_sec_dataframe.sort_values(by=['ip', 'date_time'])\n",
    "    lst_input_sec = input_sec_dataframe.values.tolist()\n",
    "#     print(input_sec_dataframe)\n",
    "\n",
    "# #     input_sec_dataframe['date_time']\n",
    "    \n",
    "    \n",
    "# #     input_sec_dataframe['start_time'] = input_sec_dataframe['date_time']\n",
    "    \n",
    "\n",
    "# #     for num, base_cell in enumerate(df_sec_edgar_data['date_time']):\n",
    "# #         if\n",
    "        \n",
    "# #     for i in range(len(df_sec_edgar_data['date_time'])):\n",
    "# #         for cell in df_sec_edgar_data['date_time']:\n",
    "# #             if cell == i:\n",
    "# #                 sec_edgar_data['0'] = i\n",
    "    \n",
    "# #         for start_cell in input_sec_dataframe:\n",
    "# #             if base_cell['ip']\n",
    "            \n",
    "    \n",
    "# # #     for cell in input_sec_dataframe['datetime']:\n",
    "# # #         if \n",
    "    \n",
    "#     #input_sec_dataframe['user_and_site_id'] = input_sec_dataframe.groupby(['ip', 'cik', 'accession', 'extention'])\n",
    "#     input_sec_dataframe.to_csv(output_data_csv, sep=',', header='infer', index=False) #Writes dataframe to csv file '??????????.txt' with the correct ',' separator. Also, to match the desired format, this line ??????? the headers and the index column.\n",
    "#     return sec_list\n",
    "    return lst_input_sec\n",
    "    \n",
    " \n",
    "lst_sec_edgar_data = parse_sec_edgar_data('../input/log.csv', '../input/inactivity_period.txt', '../output/sessionization.txt')\n",
    "print(lst_sec_edgar_data)"
   ]
  },
  {
   "cell_type": "code",
   "execution_count": 212,
   "metadata": {},
   "outputs": [
    {
     "data": {
      "text/html": [
       "<div>\n",
       "<style scoped>\n",
       "    .dataframe tbody tr th:only-of-type {\n",
       "        vertical-align: middle;\n",
       "    }\n",
       "\n",
       "    .dataframe tbody tr th {\n",
       "        vertical-align: top;\n",
       "    }\n",
       "\n",
       "    .dataframe thead th {\n",
       "        text-align: right;\n",
       "    }\n",
       "</style>\n",
       "<table border=\"1\" class=\"dataframe\">\n",
       "  <thead>\n",
       "    <tr style=\"text-align: right;\">\n",
       "      <th></th>\n",
       "      <th>date_time</th>\n",
       "      <th>unique_id</th>\n",
       "    </tr>\n",
       "  </thead>\n",
       "  <tbody>\n",
       "    <tr>\n",
       "      <th>0</th>\n",
       "      <td>2017-06-30 00:00:00</td>\n",
       "      <td>101.81.133.jja|1608552.0|0001047469-17-004337|...</td>\n",
       "    </tr>\n",
       "  </tbody>\n",
       "</table>\n",
       "</div>"
      ],
      "text/plain": [
       "             date_time                                          unique_id\n",
       "0  2017-06-30 00:00:00  101.81.133.jja|1608552.0|0001047469-17-004337|..."
      ]
     },
     "execution_count": 212,
     "metadata": {},
     "output_type": "execute_result"
    }
   ],
   "source": [
    "# for i in range(len(df_sec_edgar_data)):\n",
    "new_df = pd.DataFrame(df_sec_edgar_data.iloc[0][0:2]).T\n",
    "new_df\n",
    "#     if df_sec_edgar_data.iloc[i][0] - df_sec_edgar_data.iloc[0][0] >= datetime.timedelta(seconds=2)\n",
    "# two_secs"
   ]
  },
  {
   "cell_type": "code",
   "execution_count": 137,
   "metadata": {},
   "outputs": [
    {
     "data": {
      "text/plain": [
       "1"
      ]
     },
     "execution_count": 137,
     "metadata": {},
     "output_type": "execute_result"
    }
   ],
   "source": [
    "2 - two_secs"
   ]
  },
  {
   "cell_type": "code",
   "execution_count": 252,
   "metadata": {},
   "outputs": [
    {
     "data": {
      "text/html": [
       "<div>\n",
       "<style scoped>\n",
       "    .dataframe tbody tr th:only-of-type {\n",
       "        vertical-align: middle;\n",
       "    }\n",
       "\n",
       "    .dataframe tbody tr th {\n",
       "        vertical-align: top;\n",
       "    }\n",
       "\n",
       "    .dataframe thead th {\n",
       "        text-align: right;\n",
       "    }\n",
       "</style>\n",
       "<table border=\"1\" class=\"dataframe\">\n",
       "  <thead>\n",
       "    <tr style=\"text-align: right;\">\n",
       "      <th></th>\n",
       "      <th>ip</th>\n",
       "      <th>date_time</th>\n",
       "      <th>unique_id</th>\n",
       "    </tr>\n",
       "  </thead>\n",
       "  <tbody>\n",
       "    <tr>\n",
       "      <th>0</th>\n",
       "      <td>101.81.133.jja</td>\n",
       "      <td>2017-06-30 00:00:00</td>\n",
       "      <td>101.81.133.jja|1608552.0|0001047469-17-004337|...</td>\n",
       "    </tr>\n",
       "    <tr>\n",
       "      <th>1</th>\n",
       "      <td>107.23.85.jfd</td>\n",
       "      <td>2017-06-30 00:00:00</td>\n",
       "      <td>107.23.85.jfd|1027281.0|0000898430-02-001167|-...</td>\n",
       "    </tr>\n",
       "    <tr>\n",
       "      <th>2</th>\n",
       "      <td>107.23.85.jfd</td>\n",
       "      <td>2017-06-30 00:00:00</td>\n",
       "      <td>107.23.85.jfd|1136894.0|0000905148-07-003827|-...</td>\n",
       "    </tr>\n",
       "    <tr>\n",
       "      <th>3</th>\n",
       "      <td>107.23.85.jfd</td>\n",
       "      <td>2017-06-30 00:00:01</td>\n",
       "      <td>107.23.85.jfd|841535.0|0000841535-98-000002|-i...</td>\n",
       "    </tr>\n",
       "    <tr>\n",
       "      <th>4</th>\n",
       "      <td>108.91.91.hbc</td>\n",
       "      <td>2017-06-30 00:00:01</td>\n",
       "      <td>108.91.91.hbc|1295391.0|0001209784-17-000052|.txt</td>\n",
       "    </tr>\n",
       "    <tr>\n",
       "      <th>5</th>\n",
       "      <td>106.120.173.jie</td>\n",
       "      <td>2017-06-30 00:00:02</td>\n",
       "      <td>106.120.173.jie|1470683.0|0001144204-14-046448...</td>\n",
       "    </tr>\n",
       "    <tr>\n",
       "      <th>6</th>\n",
       "      <td>107.178.195.aag</td>\n",
       "      <td>2017-06-30 00:00:02</td>\n",
       "      <td>107.178.195.aag|1068124.0|0000350001-15-000854...</td>\n",
       "    </tr>\n",
       "    <tr>\n",
       "      <th>7</th>\n",
       "      <td>107.23.85.jfd</td>\n",
       "      <td>2017-06-30 00:00:03</td>\n",
       "      <td>107.23.85.jfd|842814.0|0000842814-98-000001|-i...</td>\n",
       "    </tr>\n",
       "    <tr>\n",
       "      <th>8</th>\n",
       "      <td>107.178.195.aag</td>\n",
       "      <td>2017-06-30 00:00:04</td>\n",
       "      <td>107.178.195.aag|1068124.0|0000350001-15-000731...</td>\n",
       "    </tr>\n",
       "    <tr>\n",
       "      <th>9</th>\n",
       "      <td>108.91.91.hbc</td>\n",
       "      <td>2017-06-30 00:00:04</td>\n",
       "      <td>108.91.91.hbc|1618174.0|0001140361-17-026711|.txt</td>\n",
       "    </tr>\n",
       "  </tbody>\n",
       "</table>\n",
       "</div>"
      ],
      "text/plain": [
       "                ip           date_time  \\\n",
       "0   101.81.133.jja 2017-06-30 00:00:00   \n",
       "1    107.23.85.jfd 2017-06-30 00:00:00   \n",
       "2    107.23.85.jfd 2017-06-30 00:00:00   \n",
       "3    107.23.85.jfd 2017-06-30 00:00:01   \n",
       "4    108.91.91.hbc 2017-06-30 00:00:01   \n",
       "5  106.120.173.jie 2017-06-30 00:00:02   \n",
       "6  107.178.195.aag 2017-06-30 00:00:02   \n",
       "7    107.23.85.jfd 2017-06-30 00:00:03   \n",
       "8  107.178.195.aag 2017-06-30 00:00:04   \n",
       "9    108.91.91.hbc 2017-06-30 00:00:04   \n",
       "\n",
       "                                           unique_id  \n",
       "0  101.81.133.jja|1608552.0|0001047469-17-004337|...  \n",
       "1  107.23.85.jfd|1027281.0|0000898430-02-001167|-...  \n",
       "2  107.23.85.jfd|1136894.0|0000905148-07-003827|-...  \n",
       "3  107.23.85.jfd|841535.0|0000841535-98-000002|-i...  \n",
       "4  108.91.91.hbc|1295391.0|0001209784-17-000052|.txt  \n",
       "5  106.120.173.jie|1470683.0|0001144204-14-046448...  \n",
       "6  107.178.195.aag|1068124.0|0000350001-15-000854...  \n",
       "7  107.23.85.jfd|842814.0|0000842814-98-000001|-i...  \n",
       "8  107.178.195.aag|1068124.0|0000350001-15-000731...  \n",
       "9  108.91.91.hbc|1618174.0|0001140361-17-026711|.txt  "
      ]
     },
     "execution_count": 252,
     "metadata": {},
     "output_type": "execute_result"
    }
   ],
   "source": [
    "df_sec_edgar_data"
   ]
  },
  {
   "cell_type": "code",
   "execution_count": 213,
   "metadata": {},
   "outputs": [
    {
     "data": {
      "text/html": [
       "<div>\n",
       "<style scoped>\n",
       "    .dataframe tbody tr th:only-of-type {\n",
       "        vertical-align: middle;\n",
       "    }\n",
       "\n",
       "    .dataframe tbody tr th {\n",
       "        vertical-align: top;\n",
       "    }\n",
       "\n",
       "    .dataframe thead th {\n",
       "        text-align: right;\n",
       "    }\n",
       "</style>\n",
       "<table border=\"1\" class=\"dataframe\">\n",
       "  <thead>\n",
       "    <tr style=\"text-align: right;\">\n",
       "      <th></th>\n",
       "      <th>date_time</th>\n",
       "      <th>unique_id</th>\n",
       "    </tr>\n",
       "  </thead>\n",
       "  <tbody>\n",
       "    <tr>\n",
       "      <th>0</th>\n",
       "      <td>2017-06-30 00:00:00</td>\n",
       "      <td>101.81.133.jja|1608552.0|0001047469-17-004337|...</td>\n",
       "    </tr>\n",
       "  </tbody>\n",
       "</table>\n",
       "</div>"
      ],
      "text/plain": [
       "             date_time                                          unique_id\n",
       "0  2017-06-30 00:00:00  101.81.133.jja|1608552.0|0001047469-17-004337|..."
      ]
     },
     "execution_count": 213,
     "metadata": {},
     "output_type": "execute_result"
    }
   ],
   "source": [
    "new_df = pd.DataFrame(df_sec_edgar_data.iloc[0][0:2]).T\n",
    "new_df"
   ]
  },
  {
   "cell_type": "code",
   "execution_count": 228,
   "metadata": {},
   "outputs": [
    {
     "data": {
      "text/plain": [
       "True"
      ]
     },
     "execution_count": 228,
     "metadata": {},
     "output_type": "execute_result"
    }
   ],
   "source": [
    "for i in range(len(df_sec_edgar_data)):\n",
    "    if df_sec_edgar_data['unique_id'][6] not in df_sec_edgar_data['unique_id'][1:].values:\n",
    "    #delete new_df['unique_id'][0] value from df_sec_edgar_data\n",
    "    #keep new_df['unique_id'][0] value in new_df AND add stop time as same as date_time to indicate this was the last time the user visited the site AND enter 1 for duration of visit since there was no follow-up AND ener 1 for number of visits\n",
    "else:\n"
   ]
  },
  {
   "cell_type": "code",
   "execution_count": 230,
   "metadata": {},
   "outputs": [
    {
     "data": {
      "text/plain": [
       "'107.23.85.jfd|1136894.0|0000905148-07-003827|-index.htm'"
      ]
     },
     "execution_count": 230,
     "metadata": {},
     "output_type": "execute_result"
    }
   ],
   "source": [
    "df_sec_edgar_data['unique_id']["
   ]
  },
  {
   "cell_type": "code",
   "execution_count": 234,
   "metadata": {},
   "outputs": [
    {
     "data": {
      "text/plain": [
       "'107.178.195.aag|1068124.0|0000350001-15-000854|-xbrl.zip'"
      ]
     },
     "execution_count": 234,
     "metadata": {},
     "output_type": "execute_result"
    }
   ],
   "source": [
    "df_sec_edgar_data['unique_id'][6]"
   ]
  },
  {
   "cell_type": "code",
   "execution_count": 237,
   "metadata": {},
   "outputs": [
    {
     "data": {
      "text/plain": [
       "'107.178.195.aag|1068124.0|0000350001-15-000854|-xbrl.zip'"
      ]
     },
     "execution_count": 237,
     "metadata": {},
     "output_type": "execute_result"
    }
   ],
   "source": [
    "df_sec_edgar_data['unique_id'][6] not in df_sec_edgar_data['unique_id'][7:]\n",
    "#df_sec_edgar_data['unique_id'][6] not in df_sec_edgar_data['unique_id'][7:]"
   ]
  },
  {
   "cell_type": "code",
   "execution_count": 244,
   "metadata": {},
   "outputs": [
    {
     "data": {
      "text/plain": [
       "'107.178.195.aag|1068124.0|0000350001-15-000854|-xbrl.zip'"
      ]
     },
     "execution_count": 244,
     "metadata": {},
     "output_type": "execute_result"
    }
   ],
   "source": [
    "df_sec_edgar_data['unique_id'][6]"
   ]
  },
  {
   "cell_type": "code",
   "execution_count": 245,
   "metadata": {},
   "outputs": [
    {
     "data": {
      "text/plain": [
       "'107.178.195.aag|1068124.0|0000350001-15-000731|-xbrl.zip'"
      ]
     },
     "execution_count": 245,
     "metadata": {},
     "output_type": "execute_result"
    }
   ],
   "source": [
    "df_sec_edgar_data['unique_id'][8]"
   ]
  },
  {
   "cell_type": "code",
   "execution_count": 240,
   "metadata": {},
   "outputs": [
    {
     "data": {
      "text/plain": [
       "7    107.23.85.jfd|842814.0|0000842814-98-000001|-i...\n",
       "8    107.178.195.aag|1068124.0|0000350001-15-000731...\n",
       "9    108.91.91.hbc|1618174.0|0001140361-17-026711|.txt\n",
       "Name: unique_id, dtype: object"
      ]
     },
     "execution_count": 240,
     "metadata": {},
     "output_type": "execute_result"
    }
   ],
   "source": [
    "df_sec_edgar_data['unique_id'][7:]"
   ]
  },
  {
   "cell_type": "code",
   "execution_count": 243,
   "metadata": {},
   "outputs": [
    {
     "data": {
      "text/plain": [
       "False"
      ]
     },
     "execution_count": 243,
     "metadata": {},
     "output_type": "execute_result"
    }
   ],
   "source": [
    "df_sec_edgar_data['unique_id'][6] == df_sec_edgar_data['unique_id'][8]"
   ]
  },
  {
   "cell_type": "code",
   "execution_count": 280,
   "metadata": {},
   "outputs": [
    {
     "data": {
      "text/plain": [
       "0     101.81.133.jja\n",
       "1      107.23.85.jfd\n",
       "2      107.23.85.jfd\n",
       "3      107.23.85.jfd\n",
       "4      108.91.91.hbc\n",
       "5    106.120.173.jie\n",
       "6    107.178.195.aag\n",
       "7      107.23.85.jfd\n",
       "8    107.178.195.aag\n",
       "9      108.91.91.hbc\n",
       "Name: ip, dtype: object"
      ]
     },
     "execution_count": 280,
     "metadata": {},
     "output_type": "execute_result"
    }
   ],
   "source": [
    "df_sec_edgar_data['ip'][0:10]"
   ]
  },
  {
   "cell_type": "code",
   "execution_count": 256,
   "metadata": {},
   "outputs": [
    {
     "data": {
      "text/plain": [
       "1      107.23.85.jfd\n",
       "2      107.23.85.jfd\n",
       "3      107.23.85.jfd\n",
       "4      108.91.91.hbc\n",
       "5    106.120.173.jie\n",
       "6    107.178.195.aag\n",
       "7      107.23.85.jfd\n",
       "8    107.178.195.aag\n",
       "9      108.91.91.hbc\n",
       "Name: ip, dtype: object"
      ]
     },
     "execution_count": 256,
     "metadata": {},
     "output_type": "execute_result"
    }
   ],
   "source": [
    "df_sec_edgar_data['ip'][1:]"
   ]
  },
  {
   "cell_type": "code",
   "execution_count": 407,
   "metadata": {},
   "outputs": [],
   "source": [
    "dumb_df = df_sec_edgar_data.copy()"
   ]
  },
  {
   "cell_type": "code",
   "execution_count": 412,
   "metadata": {},
   "outputs": [
    {
     "data": {
      "text/plain": [
       "pandas.core.frame.DataFrame"
      ]
     },
     "execution_count": 412,
     "metadata": {},
     "output_type": "execute_result"
    }
   ],
   "source": [
    "type(dumb_df)"
   ]
  },
  {
   "cell_type": "code",
   "execution_count": 401,
   "metadata": {},
   "outputs": [
    {
     "data": {
      "text/html": [
       "<div>\n",
       "<style scoped>\n",
       "    .dataframe tbody tr th:only-of-type {\n",
       "        vertical-align: middle;\n",
       "    }\n",
       "\n",
       "    .dataframe tbody tr th {\n",
       "        vertical-align: top;\n",
       "    }\n",
       "\n",
       "    .dataframe thead th {\n",
       "        text-align: right;\n",
       "    }\n",
       "</style>\n",
       "<table border=\"1\" class=\"dataframe\">\n",
       "  <thead>\n",
       "    <tr style=\"text-align: right;\">\n",
       "      <th></th>\n",
       "      <th>ip</th>\n",
       "      <th>date_time</th>\n",
       "      <th>unique_id</th>\n",
       "    </tr>\n",
       "  </thead>\n",
       "  <tbody>\n",
       "    <tr>\n",
       "      <th>0</th>\n",
       "      <td>101.81.133.jja</td>\n",
       "      <td>2017-06-30 00:00:00</td>\n",
       "      <td>101.81.133.jja|1608552.0|0001047469-17-004337|...</td>\n",
       "    </tr>\n",
       "    <tr>\n",
       "      <th>1</th>\n",
       "      <td>107.23.85.jfd</td>\n",
       "      <td>2017-06-30 00:00:00</td>\n",
       "      <td>107.23.85.jfd|1027281.0|0000898430-02-001167|-...</td>\n",
       "    </tr>\n",
       "    <tr>\n",
       "      <th>2</th>\n",
       "      <td>107.23.85.jfd</td>\n",
       "      <td>2017-06-30 00:00:00</td>\n",
       "      <td>107.23.85.jfd|1136894.0|0000905148-07-003827|-...</td>\n",
       "    </tr>\n",
       "    <tr>\n",
       "      <th>3</th>\n",
       "      <td>107.23.85.jfd</td>\n",
       "      <td>2017-06-30 00:00:01</td>\n",
       "      <td>107.23.85.jfd|841535.0|0000841535-98-000002|-i...</td>\n",
       "    </tr>\n",
       "    <tr>\n",
       "      <th>4</th>\n",
       "      <td>108.91.91.hbc</td>\n",
       "      <td>2017-06-30 00:00:01</td>\n",
       "      <td>108.91.91.hbc|1295391.0|0001209784-17-000052|.txt</td>\n",
       "    </tr>\n",
       "    <tr>\n",
       "      <th>5</th>\n",
       "      <td>106.120.173.jie</td>\n",
       "      <td>2017-06-30 00:00:02</td>\n",
       "      <td>106.120.173.jie|1470683.0|0001144204-14-046448...</td>\n",
       "    </tr>\n",
       "    <tr>\n",
       "      <th>6</th>\n",
       "      <td>107.178.195.aag</td>\n",
       "      <td>2017-06-30 00:00:02</td>\n",
       "      <td>107.178.195.aag|1068124.0|0000350001-15-000854...</td>\n",
       "    </tr>\n",
       "    <tr>\n",
       "      <th>7</th>\n",
       "      <td>107.23.85.jfd</td>\n",
       "      <td>2017-06-30 00:00:03</td>\n",
       "      <td>107.23.85.jfd|842814.0|0000842814-98-000001|-i...</td>\n",
       "    </tr>\n",
       "    <tr>\n",
       "      <th>8</th>\n",
       "      <td>107.178.195.aag</td>\n",
       "      <td>2017-06-30 00:00:04</td>\n",
       "      <td>107.178.195.aag|1068124.0|0000350001-15-000731...</td>\n",
       "    </tr>\n",
       "    <tr>\n",
       "      <th>9</th>\n",
       "      <td>108.91.91.hbc</td>\n",
       "      <td>2017-06-30 00:00:04</td>\n",
       "      <td>108.91.91.hbc|1618174.0|0001140361-17-026711|.txt</td>\n",
       "    </tr>\n",
       "  </tbody>\n",
       "</table>\n",
       "</div>"
      ],
      "text/plain": [
       "                ip           date_time  \\\n",
       "0   101.81.133.jja 2017-06-30 00:00:00   \n",
       "1    107.23.85.jfd 2017-06-30 00:00:00   \n",
       "2    107.23.85.jfd 2017-06-30 00:00:00   \n",
       "3    107.23.85.jfd 2017-06-30 00:00:01   \n",
       "4    108.91.91.hbc 2017-06-30 00:00:01   \n",
       "5  106.120.173.jie 2017-06-30 00:00:02   \n",
       "6  107.178.195.aag 2017-06-30 00:00:02   \n",
       "7    107.23.85.jfd 2017-06-30 00:00:03   \n",
       "8  107.178.195.aag 2017-06-30 00:00:04   \n",
       "9    108.91.91.hbc 2017-06-30 00:00:04   \n",
       "\n",
       "                                           unique_id  \n",
       "0  101.81.133.jja|1608552.0|0001047469-17-004337|...  \n",
       "1  107.23.85.jfd|1027281.0|0000898430-02-001167|-...  \n",
       "2  107.23.85.jfd|1136894.0|0000905148-07-003827|-...  \n",
       "3  107.23.85.jfd|841535.0|0000841535-98-000002|-i...  \n",
       "4  108.91.91.hbc|1295391.0|0001209784-17-000052|.txt  \n",
       "5  106.120.173.jie|1470683.0|0001144204-14-046448...  \n",
       "6  107.178.195.aag|1068124.0|0000350001-15-000854...  \n",
       "7  107.23.85.jfd|842814.0|0000842814-98-000001|-i...  \n",
       "8  107.178.195.aag|1068124.0|0000350001-15-000731...  \n",
       "9  108.91.91.hbc|1618174.0|0001140361-17-026711|.txt  "
      ]
     },
     "execution_count": 401,
     "metadata": {},
     "output_type": "execute_result"
    }
   ],
   "source": [
    "dumb_df"
   ]
  },
  {
   "cell_type": "code",
   "execution_count": 413,
   "metadata": {},
   "outputs": [
    {
     "data": {
      "text/html": [
       "<div>\n",
       "<style scoped>\n",
       "    .dataframe tbody tr th:only-of-type {\n",
       "        vertical-align: middle;\n",
       "    }\n",
       "\n",
       "    .dataframe tbody tr th {\n",
       "        vertical-align: top;\n",
       "    }\n",
       "\n",
       "    .dataframe thead th {\n",
       "        text-align: right;\n",
       "    }\n",
       "</style>\n",
       "<table border=\"1\" class=\"dataframe\">\n",
       "  <thead>\n",
       "    <tr style=\"text-align: right;\">\n",
       "      <th></th>\n",
       "      <th>ip</th>\n",
       "      <th>date_time</th>\n",
       "      <th>unique_id</th>\n",
       "    </tr>\n",
       "  </thead>\n",
       "  <tbody>\n",
       "    <tr>\n",
       "      <th>0</th>\n",
       "      <td>101.81.133.jja</td>\n",
       "      <td>2017-06-30 00:00:00</td>\n",
       "      <td>101.81.133.jja|1608552.0|0001047469-17-004337|...</td>\n",
       "    </tr>\n",
       "    <tr>\n",
       "      <th>1</th>\n",
       "      <td>107.23.85.jfd</td>\n",
       "      <td>2017-06-30 00:00:00</td>\n",
       "      <td>107.23.85.jfd|1027281.0|0000898430-02-001167|-...</td>\n",
       "    </tr>\n",
       "    <tr>\n",
       "      <th>2</th>\n",
       "      <td>107.23.85.jfd</td>\n",
       "      <td>2017-06-30 00:00:00</td>\n",
       "      <td>107.23.85.jfd|1136894.0|0000905148-07-003827|-...</td>\n",
       "    </tr>\n",
       "    <tr>\n",
       "      <th>3</th>\n",
       "      <td>107.23.85.jfd</td>\n",
       "      <td>2017-06-30 00:00:01</td>\n",
       "      <td>107.23.85.jfd|841535.0|0000841535-98-000002|-i...</td>\n",
       "    </tr>\n",
       "    <tr>\n",
       "      <th>4</th>\n",
       "      <td>108.91.91.hbc</td>\n",
       "      <td>2017-06-30 00:00:01</td>\n",
       "      <td>108.91.91.hbc|1295391.0|0001209784-17-000052|.txt</td>\n",
       "    </tr>\n",
       "    <tr>\n",
       "      <th>5</th>\n",
       "      <td>106.120.173.jie</td>\n",
       "      <td>2017-06-30 00:00:02</td>\n",
       "      <td>106.120.173.jie|1470683.0|0001144204-14-046448...</td>\n",
       "    </tr>\n",
       "    <tr>\n",
       "      <th>6</th>\n",
       "      <td>107.178.195.aag</td>\n",
       "      <td>2017-06-30 00:00:02</td>\n",
       "      <td>107.178.195.aag|1068124.0|0000350001-15-000854...</td>\n",
       "    </tr>\n",
       "    <tr>\n",
       "      <th>7</th>\n",
       "      <td>107.23.85.jfd</td>\n",
       "      <td>2017-06-30 00:00:03</td>\n",
       "      <td>107.23.85.jfd|842814.0|0000842814-98-000001|-i...</td>\n",
       "    </tr>\n",
       "    <tr>\n",
       "      <th>8</th>\n",
       "      <td>107.178.195.aag</td>\n",
       "      <td>2017-06-30 00:00:04</td>\n",
       "      <td>107.178.195.aag|1068124.0|0000350001-15-000731...</td>\n",
       "    </tr>\n",
       "    <tr>\n",
       "      <th>9</th>\n",
       "      <td>108.91.91.hbc</td>\n",
       "      <td>2017-06-30 00:00:04</td>\n",
       "      <td>108.91.91.hbc|1618174.0|0001140361-17-026711|.txt</td>\n",
       "    </tr>\n",
       "  </tbody>\n",
       "</table>\n",
       "</div>"
      ],
      "text/plain": [
       "                ip           date_time  \\\n",
       "0   101.81.133.jja 2017-06-30 00:00:00   \n",
       "1    107.23.85.jfd 2017-06-30 00:00:00   \n",
       "2    107.23.85.jfd 2017-06-30 00:00:00   \n",
       "3    107.23.85.jfd 2017-06-30 00:00:01   \n",
       "4    108.91.91.hbc 2017-06-30 00:00:01   \n",
       "5  106.120.173.jie 2017-06-30 00:00:02   \n",
       "6  107.178.195.aag 2017-06-30 00:00:02   \n",
       "7    107.23.85.jfd 2017-06-30 00:00:03   \n",
       "8  107.178.195.aag 2017-06-30 00:00:04   \n",
       "9    108.91.91.hbc 2017-06-30 00:00:04   \n",
       "\n",
       "                                           unique_id  \n",
       "0  101.81.133.jja|1608552.0|0001047469-17-004337|...  \n",
       "1  107.23.85.jfd|1027281.0|0000898430-02-001167|-...  \n",
       "2  107.23.85.jfd|1136894.0|0000905148-07-003827|-...  \n",
       "3  107.23.85.jfd|841535.0|0000841535-98-000002|-i...  \n",
       "4  108.91.91.hbc|1295391.0|0001209784-17-000052|.txt  \n",
       "5  106.120.173.jie|1470683.0|0001144204-14-046448...  \n",
       "6  107.178.195.aag|1068124.0|0000350001-15-000854...  \n",
       "7  107.23.85.jfd|842814.0|0000842814-98-000001|-i...  \n",
       "8  107.178.195.aag|1068124.0|0000350001-15-000731...  \n",
       "9  108.91.91.hbc|1618174.0|0001140361-17-026711|.txt  "
      ]
     },
     "execution_count": 413,
     "metadata": {},
     "output_type": "execute_result"
    }
   ],
   "source": [
    "df_sec_edgar_data"
   ]
  },
  {
   "cell_type": "code",
   "execution_count": 403,
   "metadata": {},
   "outputs": [
    {
     "data": {
      "text/html": [
       "<div>\n",
       "<style scoped>\n",
       "    .dataframe tbody tr th:only-of-type {\n",
       "        vertical-align: middle;\n",
       "    }\n",
       "\n",
       "    .dataframe tbody tr th {\n",
       "        vertical-align: top;\n",
       "    }\n",
       "\n",
       "    .dataframe thead th {\n",
       "        text-align: right;\n",
       "    }\n",
       "</style>\n",
       "<table border=\"1\" class=\"dataframe\">\n",
       "  <thead>\n",
       "    <tr style=\"text-align: right;\">\n",
       "      <th></th>\n",
       "      <th>date_time</th>\n",
       "      <th>unique_id</th>\n",
       "    </tr>\n",
       "  </thead>\n",
       "  <tbody>\n",
       "    <tr>\n",
       "      <th>0</th>\n",
       "      <td>2017-06-30 00:00:00</td>\n",
       "      <td>101.81.133.jja|1608552.0|0001047469-17-004337|...</td>\n",
       "    </tr>\n",
       "    <tr>\n",
       "      <th>1</th>\n",
       "      <td>2017-06-30 00:00:00</td>\n",
       "      <td>107.23.85.jfd|1027281.0|0000898430-02-001167|-...</td>\n",
       "    </tr>\n",
       "    <tr>\n",
       "      <th>2</th>\n",
       "      <td>2017-06-30 00:00:00</td>\n",
       "      <td>107.23.85.jfd|1136894.0|0000905148-07-003827|-...</td>\n",
       "    </tr>\n",
       "    <tr>\n",
       "      <th>3</th>\n",
       "      <td>2017-06-30 00:00:01</td>\n",
       "      <td>107.23.85.jfd|841535.0|0000841535-98-000002|-i...</td>\n",
       "    </tr>\n",
       "    <tr>\n",
       "      <th>4</th>\n",
       "      <td>2017-06-30 00:00:01</td>\n",
       "      <td>108.91.91.hbc|1295391.0|0001209784-17-000052|.txt</td>\n",
       "    </tr>\n",
       "    <tr>\n",
       "      <th>5</th>\n",
       "      <td>2017-06-30 00:00:02</td>\n",
       "      <td>106.120.173.jie|1470683.0|0001144204-14-046448...</td>\n",
       "    </tr>\n",
       "    <tr>\n",
       "      <th>6</th>\n",
       "      <td>2017-06-30 00:00:02</td>\n",
       "      <td>107.178.195.aag|1068124.0|0000350001-15-000854...</td>\n",
       "    </tr>\n",
       "    <tr>\n",
       "      <th>7</th>\n",
       "      <td>2017-06-30 00:00:03</td>\n",
       "      <td>107.23.85.jfd|842814.0|0000842814-98-000001|-i...</td>\n",
       "    </tr>\n",
       "    <tr>\n",
       "      <th>8</th>\n",
       "      <td>2017-06-30 00:00:04</td>\n",
       "      <td>107.178.195.aag|1068124.0|0000350001-15-000731...</td>\n",
       "    </tr>\n",
       "    <tr>\n",
       "      <th>9</th>\n",
       "      <td>2017-06-30 00:00:04</td>\n",
       "      <td>108.91.91.hbc|1618174.0|0001140361-17-026711|.txt</td>\n",
       "    </tr>\n",
       "  </tbody>\n",
       "</table>\n",
       "</div>"
      ],
      "text/plain": [
       "            date_time                                          unique_id\n",
       "0 2017-06-30 00:00:00  101.81.133.jja|1608552.0|0001047469-17-004337|...\n",
       "1 2017-06-30 00:00:00  107.23.85.jfd|1027281.0|0000898430-02-001167|-...\n",
       "2 2017-06-30 00:00:00  107.23.85.jfd|1136894.0|0000905148-07-003827|-...\n",
       "3 2017-06-30 00:00:01  107.23.85.jfd|841535.0|0000841535-98-000002|-i...\n",
       "4 2017-06-30 00:00:01  108.91.91.hbc|1295391.0|0001209784-17-000052|.txt\n",
       "5 2017-06-30 00:00:02  106.120.173.jie|1470683.0|0001144204-14-046448...\n",
       "6 2017-06-30 00:00:02  107.178.195.aag|1068124.0|0000350001-15-000854...\n",
       "7 2017-06-30 00:00:03  107.23.85.jfd|842814.0|0000842814-98-000001|-i...\n",
       "8 2017-06-30 00:00:04  107.178.195.aag|1068124.0|0000350001-15-000731...\n",
       "9 2017-06-30 00:00:04  108.91.91.hbc|1618174.0|0001140361-17-026711|.txt"
      ]
     },
     "execution_count": 403,
     "metadata": {},
     "output_type": "execute_result"
    }
   ],
   "source": [
    "# dumb_df = dumb_df.drop(['ip'], axis=1)\n",
    "# dumb_df"
   ]
  },
  {
   "cell_type": "code",
   "execution_count": null,
   "metadata": {},
   "outputs": [],
   "source": [
    "df_sec_edgar_data['ip'][0] in dumb_df['ip']"
   ]
  },
  {
   "cell_type": "code",
   "execution_count": 1,
   "metadata": {},
   "outputs": [
    {
     "name": "stdout",
     "output_type": "stream",
     "text": [
      "Monthlyinterestrate: 0.016666666666666666\n",
      "Monthlypaymentlowerbound: 26666.666666666668\n",
      "Monthlypaymentupperbound: 32517.095597472842\n",
      "upperandlower: 29591.881132069757\n"
     ]
    },
    {
     "ename": "KeyboardInterrupt",
     "evalue": "",
     "output_type": "error",
     "traceback": [
      "\u001b[0;31m---------------------------------------------------------------------------\u001b[0m",
      "\u001b[0;31mKeyboardInterrupt\u001b[0m                         Traceback (most recent call last)",
      "\u001b[0;32m<ipython-input-1-75490655526e>\u001b[0m in \u001b[0;36m<module>\u001b[0;34m()\u001b[0m\n\u001b[1;32m     34\u001b[0m     \u001b[0;32mreturn\u001b[0m \u001b[0mbalanceproxy\u001b[0m\u001b[0;34m\u001b[0m\u001b[0m\n\u001b[1;32m     35\u001b[0m \u001b[0;34m\u001b[0m\u001b[0m\n\u001b[0;32m---> 36\u001b[0;31m \u001b[0mBank\u001b[0m\u001b[0;34m(\u001b[0m\u001b[0;36m320000\u001b[0m\u001b[0;34m,\u001b[0m\u001b[0;36m0.2\u001b[0m\u001b[0;34m)\u001b[0m\u001b[0;34m\u001b[0m\u001b[0m\n\u001b[0m",
      "\u001b[0;32m<ipython-input-1-75490655526e>\u001b[0m in \u001b[0;36mBank\u001b[0;34m(balance, annualInterestRate)\u001b[0m\n\u001b[1;32m     23\u001b[0m     \u001b[0;32mwhile\u001b[0m \u001b[0mabs\u001b[0m\u001b[0;34m(\u001b[0m\u001b[0mupperandlower\u001b[0m \u001b[0;34m-\u001b[0m \u001b[0mminmonthlypayment\u001b[0m\u001b[0;34m)\u001b[0m \u001b[0;34m>\u001b[0m \u001b[0mepsilon\u001b[0m\u001b[0;34m:\u001b[0m\u001b[0;34m\u001b[0m\u001b[0m\n\u001b[1;32m     24\u001b[0m \u001b[0;34m\u001b[0m\u001b[0m\n\u001b[0;32m---> 25\u001b[0;31m         \u001b[0mbalanceproxy\u001b[0m \u001b[0;34m=\u001b[0m \u001b[0;34m(\u001b[0m\u001b[0;34m(\u001b[0m\u001b[0mbalance\u001b[0m \u001b[0;34m-\u001b[0m \u001b[0;34m(\u001b[0m\u001b[0mminmonthlypayment\u001b[0m\u001b[0;34m)\u001b[0m \u001b[0;34m+\u001b[0m \u001b[0;34m(\u001b[0m\u001b[0;34m(\u001b[0m\u001b[0mannualInterestRate\u001b[0m\u001b[0;34m/\u001b[0m\u001b[0;36m12.0\u001b[0m\u001b[0;34m)\u001b[0m\u001b[0;34m*\u001b[0m\u001b[0;34m(\u001b[0m\u001b[0;34m(\u001b[0m\u001b[0mbalance\u001b[0m \u001b[0;34m-\u001b[0m \u001b[0;34m(\u001b[0m\u001b[0mminmonthlypayment\u001b[0m\u001b[0;34m)\u001b[0m\u001b[0;34m)\u001b[0m\u001b[0;34m)\u001b[0m\u001b[0;34m)\u001b[0m\u001b[0;34m)\u001b[0m\u001b[0;34m)\u001b[0m\u001b[0;34m\u001b[0m\u001b[0m\n\u001b[0m\u001b[1;32m     26\u001b[0m \u001b[0;34m\u001b[0m\u001b[0m\n\u001b[1;32m     27\u001b[0m         \u001b[0;32mif\u001b[0m  \u001b[0mupperandlower\u001b[0m \u001b[0;34m<\u001b[0m \u001b[0mbalanceproxy\u001b[0m\u001b[0;34m:\u001b[0m\u001b[0;34m\u001b[0m\u001b[0m\n",
      "\u001b[0;31mKeyboardInterrupt\u001b[0m: "
     ]
    }
   ],
   "source": []
  },
  {
   "cell_type": "code",
   "execution_count": 24,
   "metadata": {},
   "outputs": [
    {
     "ename": "NameError",
     "evalue": "name 'c' is not defined",
     "output_type": "error",
     "traceback": [
      "\u001b[0;31m---------------------------------------------------------------------------\u001b[0m",
      "\u001b[0;31mNameError\u001b[0m                                 Traceback (most recent call last)",
      "\u001b[0;32m<ipython-input-24-5d934de26d48>\u001b[0m in \u001b[0;36m<module>\u001b[0;34m()\u001b[0m\n\u001b[1;32m     24\u001b[0m \u001b[0;34m\u001b[0m\u001b[0m\n\u001b[1;32m     25\u001b[0m \u001b[0;34m\u001b[0m\u001b[0m\n\u001b[0;32m---> 26\u001b[0;31m \u001b[0mprint\u001b[0m\u001b[0;34m(\u001b[0m\u001b[0mwith_if_statement\u001b[0m\u001b[0;34m(\u001b[0m\u001b[0;34m)\u001b[0m\u001b[0;34m)\u001b[0m \u001b[0;31m#This result, for example, should be 1\u001b[0m\u001b[0;34m\u001b[0m\u001b[0m\n\u001b[0m\u001b[1;32m     27\u001b[0m \u001b[0mprint\u001b[0m\u001b[0;34m(\u001b[0m\u001b[0mwith_if_function\u001b[0m\u001b[0;34m(\u001b[0m\u001b[0;34m)\u001b[0m\u001b[0;34m)\u001b[0m \u001b[0;31m#While this returns something else\u001b[0m\u001b[0;34m\u001b[0m\u001b[0m\n",
      "\u001b[0;32m<ipython-input-24-5d934de26d48>\u001b[0m in \u001b[0;36mwith_if_statement\u001b[0;34m()\u001b[0m\n\u001b[1;32m      7\u001b[0m \u001b[0;34m\u001b[0m\u001b[0m\n\u001b[1;32m      8\u001b[0m \u001b[0;32mdef\u001b[0m \u001b[0mwith_if_statement\u001b[0m\u001b[0;34m(\u001b[0m\u001b[0;34m)\u001b[0m\u001b[0;34m:\u001b[0m\u001b[0;34m\u001b[0m\u001b[0m\n\u001b[0;32m----> 9\u001b[0;31m     \u001b[0;32mif\u001b[0m \u001b[0mc\u001b[0m\u001b[0;34m(\u001b[0m\u001b[0;34m)\u001b[0m\u001b[0;34m:\u001b[0m\u001b[0;34m\u001b[0m\u001b[0m\n\u001b[0m\u001b[1;32m     10\u001b[0m         \u001b[0;32mreturn\u001b[0m \u001b[0mt\u001b[0m\u001b[0;34m(\u001b[0m\u001b[0;34m)\u001b[0m\u001b[0;34m\u001b[0m\u001b[0m\n\u001b[1;32m     11\u001b[0m     \u001b[0;32melse\u001b[0m\u001b[0;34m:\u001b[0m\u001b[0;34m\u001b[0m\u001b[0m\n",
      "\u001b[0;31mNameError\u001b[0m: name 'c' is not defined"
     ]
    }
   ],
   "source": []
  },
  {
   "cell_type": "code",
   "execution_count": 153,
   "metadata": {},
   "outputs": [
    {
     "ename": "SyntaxError",
     "evalue": "invalid syntax (<ipython-input-153-b08a77557b60>, line 15)",
     "output_type": "error",
     "traceback": [
      "\u001b[0;36m  File \u001b[0;32m\"<ipython-input-153-b08a77557b60>\"\u001b[0;36m, line \u001b[0;32m15\u001b[0m\n\u001b[0;31m    %% learning parameters\u001b[0m\n\u001b[0m    ^\u001b[0m\n\u001b[0;31mSyntaxError\u001b[0m\u001b[0;31m:\u001b[0m invalid syntax\n"
     ]
    }
   ],
   "source": []
  },
  {
   "cell_type": "code",
   "execution_count": 172,
   "metadata": {},
   "outputs": [
    {
     "ename": "ModuleNotFoundError",
     "evalue": "No module named 'gensim'",
     "output_type": "error",
     "traceback": [
      "\u001b[0;31m---------------------------------------------------------------------------\u001b[0m",
      "\u001b[0;31mModuleNotFoundError\u001b[0m                       Traceback (most recent call last)",
      "\u001b[0;32m<ipython-input-172-2df325343f5a>\u001b[0m in \u001b[0;36m<module>\u001b[0;34m()\u001b[0m\n\u001b[1;32m     13\u001b[0m \u001b[0;32mimport\u001b[0m \u001b[0mre\u001b[0m\u001b[0;34m\u001b[0m\u001b[0m\n\u001b[1;32m     14\u001b[0m \u001b[0;32mimport\u001b[0m \u001b[0mnltk\u001b[0m\u001b[0;34m\u001b[0m\u001b[0m\n\u001b[0;32m---> 15\u001b[0;31m \u001b[0;32mimport\u001b[0m \u001b[0mgensim\u001b[0m\u001b[0;34m.\u001b[0m\u001b[0mmodels\u001b[0m\u001b[0;34m.\u001b[0m\u001b[0mword2vec\u001b[0m \u001b[0;32mas\u001b[0m \u001b[0mw2v\u001b[0m\u001b[0;34m\u001b[0m\u001b[0m\n\u001b[0m\u001b[1;32m     16\u001b[0m \u001b[0;32mimport\u001b[0m \u001b[0msklearn\u001b[0m\u001b[0;34m.\u001b[0m\u001b[0mmanifold\u001b[0m\u001b[0;34m\u001b[0m\u001b[0m\n\u001b[1;32m     17\u001b[0m \u001b[0;32mimport\u001b[0m \u001b[0mnumpy\u001b[0m \u001b[0;32mas\u001b[0m \u001b[0mnp\u001b[0m\u001b[0;34m\u001b[0m\u001b[0m\n",
      "\u001b[0;31mModuleNotFoundError\u001b[0m: No module named 'gensim'"
     ]
    }
   ],
   "source": []
  },
  {
   "cell_type": "code",
   "execution_count": 173,
   "metadata": {},
   "outputs": [
    {
     "ename": "ModuleNotFoundError",
     "evalue": "No module named 'referential_array'",
     "output_type": "error",
     "traceback": [
      "\u001b[0;31m---------------------------------------------------------------------------\u001b[0m",
      "\u001b[0;31mModuleNotFoundError\u001b[0m                       Traceback (most recent call last)",
      "\u001b[0;32m<ipython-input-173-2f1ef8d23d6b>\u001b[0m in \u001b[0;36m<module>\u001b[0;34m()\u001b[0m\n\u001b[0;32m----> 1\u001b[0;31m \u001b[0;32mfrom\u001b[0m \u001b[0mreferential_array\u001b[0m \u001b[0;32mimport\u001b[0m \u001b[0mbuild_array\u001b[0m\u001b[0;34m\u001b[0m\u001b[0m\n\u001b[0m\u001b[1;32m      2\u001b[0m \u001b[0;34m\u001b[0m\u001b[0m\n\u001b[1;32m      3\u001b[0m \u001b[0;34m\u001b[0m\u001b[0m\n\u001b[1;32m      4\u001b[0m \u001b[0;32mclass\u001b[0m \u001b[0mHashTableQuadratic\u001b[0m\u001b[0;34m:\u001b[0m\u001b[0;34m\u001b[0m\u001b[0m\n\u001b[1;32m      5\u001b[0m \u001b[0;34m\u001b[0m\u001b[0m\n",
      "\u001b[0;31mModuleNotFoundError\u001b[0m: No module named 'referential_array'"
     ]
    }
   ],
   "source": [
    "from referential_array import build_array\n",
    "\n",
    "\n",
    "class HashTableQuadratic:\n",
    "\n",
    "    def __init__(self, size):\n",
    "        self.count = 0\n",
    "        self.table_size = size\n",
    "        self.array = build_array(self.table_size)\n",
    "        self.collisions=0\n",
    "        self.probe=0\n",
    "\n",
    "    def __len__(self):\n",
    "        return self.count\n",
    "\n",
    "    def hash_value(self, key):\n",
    "        a=101\n",
    "        h = 0\n",
    "        for c in key:\n",
    "            h = (h*a + ord((c))) % self.table_size\n",
    "        return h\n",
    "\n",
    "\n",
    "\n",
    "\n",
    "\n",
    "\n",
    "\n",
    "\n",
    "    def __setitem__(self, key, value):\n",
    "        position = self.hash_value(key)\n",
    "\n",
    "        for _ in range(self.table_size):\n",
    "            if self.array[position] is None:\n",
    "                self.array[position] = (key, value)\n",
    "                self.count += 1\n",
    "                if self.hash_value(key)!=position:\n",
    "                    self.probe+=(self.hash_value(key)-position)\n",
    "\n",
    "                return\n",
    "            elif self.array[position][0] == key:\n",
    "                self.array[position] = (key, value)\n",
    "            elif self.array[position][0]!=key:\n",
    "                position=(position+1)%self.table_size\n",
    "                self.collisions+=1\n",
    "\n",
    "                return\n",
    "            else:\n",
    "                position = (position+1) % self.table_size\n",
    "                self.collisions+=1\n",
    "        raise ValueError(\"Table is Full!\")\n",
    "    def __getitem__(self, key):\n",
    "        position = self.hash_value(key)\n",
    "        for _ in range(self.table_size):\n",
    "            if self.array[position] is None:\n",
    "                raise KeyError(\"key not found\",key)\n",
    "            elif self.array[position][0] == key:\n",
    "                return self.array[position][1]\n",
    "            else:\n",
    "                position = (position + 1) % self.table_size\n",
    "        raise KeyError(\"key not found\",key)\n",
    "    def __contains__(self, key):\n",
    "        position = self.hash_value(key)\n",
    "        for _ in range(self.table_size):\n",
    "            if self.array[position] is None:\n",
    "                return False\n",
    "            elif self.array[position][0] == key:\n",
    "                return True\n",
    "            else:\n",
    "                position = (position + 1) % self.table_size\n",
    "        raise KeyError(\"key not found\",key)\n",
    "\n",
    "    def __str__(self):\n",
    "        ans = \"[\"\n",
    "        for val in self.array:\n",
    "            if val is not None:\n",
    "                ans += \"\\n{} = {}\".format(val[0],val[1])\n",
    "        ans += \"\\n]\"\n",
    "        return ans\n",
    "\n",
    "\n",
    "    def loadfactor(self,size):\n",
    "        load_Factor=self.count/size\n",
    "        print(\"The load factor is \",load_Factor)\n"
   ]
  },
  {
   "cell_type": "code",
   "execution_count": null,
   "metadata": {},
   "outputs": [
    {
     "name": "stdout",
     "output_type": "stream",
     "text": [
      "Please think of a number between 0 and 100!: 88\n",
      "Is your favorite number 50 ?\n",
      "Enter 'h' to indicate the guess is too high. Enter 'l' to indicate the guess is too low. Enter 'c' to indicate I guessed correctly.: l\n",
      "Is your favorite number 75 ?\n",
      "Enter 'h' to indicate the guess is too high. Enter 'l' to indicate the guess is too low. Enter 'c' to indicate I guessed correctly.: \n",
      "Is your favorite number 75 ?\n",
      "Enter 'h' to indicate the guess is too high. Enter 'l' to indicate the guess is too low. Enter 'c' to indicate I guessed correctly.: l\n",
      "Is your favorite number 87 ?\n",
      "Enter 'h' to indicate the guess is too high. Enter 'l' to indicate the guess is too low. Enter 'c' to indicate I guessed correctly.: l\n",
      "Is your favorite number 93 ?\n",
      "Enter 'h' to indicate the guess is too high. Enter 'l' to indicate the guess is too low. Enter 'c' to indicate I guessed correctly.: h\n",
      "Is your favorite number 90 ?\n",
      "Enter 'h' to indicate the guess is too high. Enter 'l' to indicate the guess is too low. Enter 'c' to indicate I guessed correctly.: h\n",
      "Is your favorite number 88 ?\n",
      "Enter 'h' to indicate the guess is too high. Enter 'l' to indicate the guess is too low. Enter 'c' to indicate I guessed correctly.: c\n",
      "Is your favorite number 88 ?\n"
     ]
    }
   ],
   "source": [
    "low=0\n",
    "high = 100\n",
    "guess = (low + high)//2\n",
    "u =  ''\n",
    "try: \n",
    "    u = int(input(\"Please think of a number between 0 and 100!: \"))\n",
    "except ValueError:\n",
    "    print(\"Sorry, I did not understand your input.\")\n",
    "    \n",
    "while guess != (u):\n",
    "    print(\"Is your favorite number\", int(guess), \"?\")\n",
    "    u = (input(\"Enter 'h' to indicate the guess is too high. Enter 'l' to indicate the guess is too low. Enter 'c' to indicate I guessed correctly.: \"))\n",
    "    if u == 'h':\n",
    "        high = (guess)\n",
    "        guess = (high + low)//2\n",
    "    if u == 'l':\n",
    "        low = (guess)\n",
    "        guess = (high + low)//2\n",
    "\n",
    "if guess == (u):\n",
    "    if u == 'c':\n",
    "        guess == (u)\n",
    "print (\"Game over your secret number was\", guess)\n"
   ]
  },
  {
   "cell_type": "code",
   "execution_count": 6,
   "metadata": {},
   "outputs": [
    {
     "name": "stdout",
     "output_type": "stream",
     "text": [
      "78 unpaid balance: 0\n"
     ]
    }
   ],
   "source": [
    "balance=0\n",
    "minmonthlypayment=0\n",
    "month=0\n",
    "monthlyInterestrate = 0\n",
    "unpaidbalance = (balance) - (minmonthlypayment)\n",
    "for i in range(1,13):\n",
    "    month = month + i\n",
    "unpaidbalance -= minmonthlypayment\n",
    "unpaidbalance += monthlyInterestrate\n",
    "print (month, \"unpaid balance: \" + str(round(unpaidbalance,2)))"
   ]
  },
  {
   "cell_type": "code",
   "execution_count": null,
   "metadata": {},
   "outputs": [],
   "source": []
  }
 ],
 "metadata": {
  "kernelspec": {
   "display_name": "Python 3",
   "language": "python",
   "name": "python3"
  },
  "language_info": {
   "codemirror_mode": {
    "name": "ipython",
    "version": 3
   },
   "file_extension": ".py",
   "mimetype": "text/x-python",
   "name": "python",
   "nbconvert_exporter": "python",
   "pygments_lexer": "ipython3",
   "version": "3.6.5"
  }
 },
 "nbformat": 4,
 "nbformat_minor": 2
}
